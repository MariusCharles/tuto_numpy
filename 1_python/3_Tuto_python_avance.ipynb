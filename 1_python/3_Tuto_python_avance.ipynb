{
 "cells": [
  {
   "cell_type": "markdown",
   "metadata": {},
   "source": [
    "# Tutoriel Python: les options avancées pour mieux structurer ses programmes\n",
    "\n",
    "## Les différentes formes d'import\n",
    "\n",
    "```import``` = récupération de fonctions existantes (math, algorithmes, ...)\n",
    "\n",
    "On déclare en général les ```import``` en début de script"
   ]
  },
  {
   "cell_type": "code",
   "execution_count": null,
   "metadata": {},
   "outputs": [],
   "source": [
    "# cas 1: import de tout le module (=package de fonction)\n",
    "# invocation de la méthode = rappel du module d'où elle vient\n",
    "\n",
    "import math\n",
    "\n",
    "print(math.sin(math.pi)) # résultat surprenant :)\n",
    "print(math.cos(math.pi/3)) "
   ]
  },
  {
   "cell_type": "code",
   "execution_count": null,
   "metadata": {},
   "outputs": [],
   "source": [
    "# cas 2: import d'une fonction dans un module\n",
    "# usage = appel direct\n",
    "\n",
    "from math import sqrt\n",
    "\n",
    "print(sqrt(2)) # pas besoin de math.sqrt"
   ]
  },
  {
   "cell_type": "markdown",
   "metadata": {},
   "source": [
    "## Usage de fonctions définies dans un fichier .py\n",
    "\n",
    "Il est possible de mixer du python classique avec un usage notebook. Celà devient même essentiel quand les programmes se complexifient.\n",
    "\n",
    "1. Avec n'importe quel éditeur de texte brut (emacs, gedit, notepad,...), créer le fichier `mesfonctions.py` contenant le code suivant:\n",
    "```python\n",
    "# fichier mesfonctions.py\n",
    "def gererate_ones(n):\n",
    "    return [1]*n # une liste de 1 de taille n\n",
    "```\n",
    "2. Sauver le fichier `mesfonctions.py dans le même répertoire que le notebook\n",
    "3. Exécuter le code de la boite ci-dessous"
   ]
  },
  {
   "cell_type": "code",
   "execution_count": null,
   "metadata": {},
   "outputs": [],
   "source": [
    "from mesfonctions import *\n",
    "\n",
    "a = gererate_ones(12)\n",
    "print(a)"
   ]
  },
  {
   "cell_type": "markdown",
   "metadata": {},
   "source": [
    "# Type de base *vs* objets (concepts avancés)\n",
    "\n",
    "\n",
    "La programmation objet et les pointeurs sont des concepts avancés en programmation... On les utilise cependant implicitement dès qu'on commence à programmer. Les concepts suivants sont donc difficiles à appréhender et un peu hors du programme de l'UE: c'est cependant un aspect critique dans tout projet de programamtion. "
   ]
  },
  {
   "cell_type": "code",
   "execution_count": null,
   "metadata": {},
   "outputs": [],
   "source": [
    "# ATTENTION, les listes sont des objets != type de base:\n",
    "a = 2\n",
    "b = a  # toute affectation est une copie \n",
    "a = 18 # aucun impact sur b => il n'y a pas de piège\n",
    "print(a,b)\n",
    "\n",
    "li_a = [2, 4, 6, 8]\n",
    "li_b = li_a # il n'y a qu'une liste... partagée entre deux variables\n",
    "li_b.append(12) # modification de l'objet partagé\n",
    "print(li_a)\n",
    "\n",
    "# Pour eviter cela\n",
    "li_c = li_a.copy()\n",
    "li_c.append(42)\n",
    "print(li_a) # li_a inchangée"
   ]
  },
  {
   "cell_type": "code",
   "execution_count": null,
   "metadata": {},
   "outputs": [],
   "source": [
    "#Egalité référentielle\n",
    "l1 = l2 = [1,2]\n",
    "# ou bien\n",
    "l1 = [1,2]\n",
    "l2 = l1\n",
    "\n",
    "print(l1 is l2) # True\n",
    "\n",
    "# ou bien\n",
    "l1 = [1,2]\n",
    "l2 = [1,2]\n",
    "\n",
    "print(l1 is l2) # False\n",
    "\n",
    "# appartenance à une liste\n",
    "a = 12\n",
    "li = [8,10,12,14]\n",
    "if a in li:\n",
    "    print(\"trouvé !\")"
   ]
  },
  {
   "cell_type": "markdown",
   "metadata": {},
   "source": [
    "### Types de bases VS objets... Dans les fonctions\n",
    "\n",
    "Le phénomène évoqué plus haut sur les différences de comportements entre type de base et objet se retrouve dans les fonctions.\n",
    "* Une variable contenant un type de base ne peut pas être modifiée dans une fonction. \n",
    "* Une variable référencant un objet peut tout à fait entrainer une altération dudit objet.\n",
    "\n",
    "<span style=\"color:red\"> Explication rapide (et **hors programme**):</span> à chaque affectation (e.g. passage dans une fonction ou dans une nouvelle variable), les valeurs des types de base sont copiées. Tant qu'on ne met pas de nouvelle valeur dans la variable, celle-ci ne peut pas être modifiées.\n",
    "A l'inverse, un objet possède des méthodes pour le modifier... Et un objet est potentiellement volumineux. Afin de gagner du temps, lorsqu'on passe un objet dans une fonction, il n'est pas copié: on travaille toujours sur lui... Il peut donc être modifié."
   ]
  },
  {
   "cell_type": "code",
   "execution_count": null,
   "metadata": {},
   "outputs": [],
   "source": [
    "# très intéressant mais difficile et hors programme\n",
    "# CAS 1: type de base\n",
    "# code mystère: pouvez-vous prédire ce qui va se passer?\n",
    "def modif_1(a):\n",
    "    a = 2\n",
    "    return\n",
    "\n",
    "i = 5\n",
    "modif_1(i)\n",
    "print(i)"
   ]
  },
  {
   "cell_type": "code",
   "execution_count": null,
   "metadata": {},
   "outputs": [],
   "source": [
    "# très intéressant mais difficile et hors programme\n",
    "# # CAS 2: objet\n",
    "# code mystère: pouvez-vous prédire ce qui va se passer?\n",
    "def modif_2(a):\n",
    "    a.append(6)\n",
    "    return\n",
    "\n",
    "i = [5]\n",
    "modif_2(i)\n",
    "print(i)"
   ]
  },
  {
   "cell_type": "markdown",
   "metadata": {},
   "source": [
    "# <span style=\"color:red\"> EXO(3)  Exercices supplémentaires (à la maison, pas dans la séance) </span>\n",
    "\n",
    "Afin de vérifier que vous maitrisez les bases de python et avant de passer à numpy, nous allons vous demander de faire quelques petits exercices de validation.\n",
    "\n"
   ]
  },
  {
   "cell_type": "markdown",
   "metadata": {},
   "source": [
    "## Créer une fonction qui estime la valeur de la racine carrée de x en utilisant la suite de Newton:\n",
    "\n",
    "L'algorithme, assez proche de la suite de fibonacci, est défini comme suit:\n",
    "\n",
    "1. u_0 = x/2, u_t = (u_t−1 + x / u_t−1)/2\n",
    "1. cette fonction prendra en argument le nombre d'itérations à effectuer\n",
    "1. tester cette fonction sur plusieurs valeurs et vérifier vos résultats avec math.sqrt(x)\n"
   ]
  },
  {
   "cell_type": "code",
   "execution_count": null,
   "metadata": {},
   "outputs": [],
   "source": [
    "# 0. import de la bibliothèque nécessaire (une fois est suffisante pour tout le notebook)\n",
    "import math\n",
    "\n",
    "# 1. Définition de la fonction qui prend en argument le nombre d'itération à effectuer + implémentation de l'algorithme\n",
    "\n",
    "# 2. Appel à la fonction + comparaison avec la valeur calculée par la méthode python\n",
    "#  TODO \n"
   ]
  },
  {
   "cell_type": "markdown",
   "metadata": {},
   "source": [
    "## Construction d'une liste de notes d'étudiants (50 notes entre 0 et 20):\n",
    "\n",
    "* Génération à l'aide de la fonction: ```random.randint(min, max)``` \n",
    "* Création d'une nouvelle liste comptant combien de note de chaque niveau apparaissent dans la liste (table de contingence)\n",
    "* Création d'une troisième liste contenant toutes les notes supérieures à 10\n",
    "    \n",
    "Affichage des deux listes et vérification\n",
    "\n",
    "Exercice sur la gestion des listes et des boucles."
   ]
  },
  {
   "cell_type": "code",
   "execution_count": null,
   "metadata": {},
   "outputs": [],
   "source": [
    "#  TODO \n"
   ]
  },
  {
   "cell_type": "markdown",
   "metadata": {},
   "source": [
    "# Fabrication du sujet à partir de la correction"
   ]
  },
  {
   "cell_type": "code",
   "execution_count": 1,
   "metadata": {},
   "outputs": [],
   "source": [
    "import re\n",
    "# transformation de cet énoncé en version étudiante\n",
    "\n",
    "fname = \"3_Tuto_python_avance-corr.ipynb\" # ce fichier\n",
    "fout  = fname.replace(\"-corr\",\"\")\n",
    "\n",
    "# print(\"Fichier de sortie: \", fout )\n",
    "\n",
    "f = open(fname, \"r\")\n",
    "txt = f.read()\n",
    " \n",
    "f.close()\n",
    "\n",
    "\n",
    "f2 = open(fout, \"w\")\n",
    "f2.write(re.sub(\" TODO )\",\" TODO \",\\\n",
    "    txt, flags=re.DOTALL))\n",
    "f2.close()\n",
    "\n"
   ]
  },
  {
   "cell_type": "code",
   "execution_count": null,
   "metadata": {},
   "outputs": [],
   "source": []
  }
 ],
 "metadata": {
  "kernelspec": {
   "display_name": "pyth-torch-numpy",
   "language": "python",
   "name": "python3"
  },
  "language_info": {
   "codemirror_mode": {
    "name": "ipython",
    "version": 3
   },
   "file_extension": ".py",
   "mimetype": "text/x-python",
   "name": "python",
   "nbconvert_exporter": "python",
   "pygments_lexer": "ipython3",
   "version": "3.11.10"
  }
 },
 "nbformat": 4,
 "nbformat_minor": 2
}
