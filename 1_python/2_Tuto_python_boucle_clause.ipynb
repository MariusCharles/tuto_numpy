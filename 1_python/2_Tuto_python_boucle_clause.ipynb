{
 "cells": [
  {
   "attachments": {},
   "cell_type": "markdown",
   "metadata": {},
   "source": [
    "# Tutoriel d'introduction à Python (2) \n",
    "\n",
    "La base de l'algorithmique repose sur les boucles et les tests: étudions cela dans ce notebook\n",
    "\n",
    "\n",
    "**Exercices** (marqués <span style=\"color:red\"> EXO</span>) Des exercices sont proposés régulièrement dans le notebook pour éviter *l'effet contemplatif* des exemples. Si vous maitrisez déjà les concepts de base et que les solutions vous semblent évidentes, n'héstiez pas à sauter des questions.\n",
    "\n",
    "Tous les exercices sont classés par ordre d'importance:  <span style=\"color:red\"> 1</span>=\"essentiel\", <span style=\"color:red\">2</span>=\"utile, <span style=\"color:red\">3</span>=\"optionnel et/ou avancé\""
   ]
  },
  {
   "attachments": {},
   "cell_type": "markdown",
   "metadata": {},
   "source": [
    "## Boucles et tests\n",
    "\n",
    "Pour écrire des algorithmes, nous devons faire des boucles sur des structures de données et tester des grandeurs...\n",
    "\n",
    "Pas d'accolades en python: les blocs de code sont délimités par des tabulations (ou 4 espaces)."
   ]
  },
  {
   "cell_type": "code",
   "execution_count": null,
   "metadata": {},
   "outputs": [],
   "source": [
    "# Comment marche un if\n",
    "i=0\n",
    "if i<30:\n",
    "    i = i + 10;\n",
    "    print(\"i est inferieur a trente\")\n",
    "else:   # le else est toujours optionnel et sans clause\n",
    "    print(\"i est superieur a trente\")\n",
    "\n",
    "i=0\n",
    "if i==1:\n",
    "    print(\"cas 1\")\n",
    "elif i==2:    # elif = très pratique pour distinguer différents cas de figures (plus de 2)\n",
    "    print(\"cas 2\")\n",
    "elif i==3:\n",
    "    print(\"cas 3\")"
   ]
  },
  {
   "cell_type": "code",
   "execution_count": null,
   "metadata": {},
   "outputs": [],
   "source": [
    "# le risque avec les références:\n",
    "l1 = [1,2]\n",
    "l2 = l1\n",
    "l2[0] = 3 # modification de l2\n",
    "print(l1) # => Modification de l1 ==> NE PAS confondre les types de base et les objets (cf à la fin)"
   ]
  },
  {
   "cell_type": "code",
   "execution_count": null,
   "metadata": {
    "collapsed": true
   },
   "outputs": [],
   "source": [
    "# Construction d'un boucle for:\n",
    "for i in range(10): # sol 1: range => i va prendre les valeurs entre 0 et 9\n",
    "    print(i) # ATTENTION: l'indentation donne la portée de la boucle\n",
    "print('===') # je suis sorti de la boucle (parce que mon code est revenu à gauche)\n",
    "# vous pouvez tester le décalage de cette dernière commande pour voir la différence\n",
    "\n",
    "li = [12, 43, 90, 1, 6] \n",
    "for i in li:        # sol 2: parcours des valeurs d'une liste\n",
    "    print(i)"
   ]
  },
  {
   "cell_type": "code",
   "execution_count": null,
   "metadata": {
    "collapsed": true
   },
   "outputs": [],
   "source": [
    "# les autres boucles\n",
    "i = 0\n",
    "while i<10: # tant que i inférieur à 10\n",
    "    i = i+1\n",
    "    print(i)"
   ]
  },
  {
   "attachments": {},
   "cell_type": "markdown",
   "metadata": {},
   "source": [
    "## <span style=\"color:red\"> EXO(1) Créer et afficher une liste contenant les entiers de 1 à 20 </span>"
   ]
  },
  {
   "cell_type": "code",
   "execution_count": null,
   "metadata": {},
   "outputs": [],
   "source": [
    "# 1. construction de la liste python\n",
    "#  TODO \n",
    "# 2. Affichage de la liste\n",
    "\n",
    "# 3. Affichage des seuls entiers de la liste qui sont divisibles par 3 (travail sur if + usage du modulo)\n"
   ]
  },
  {
   "attachments": {},
   "cell_type": "markdown",
   "metadata": {},
   "source": [
    "## <span style=\"color:red\"> EXO(1)  Créer et afficher les 10 premiers termes de la série de Fibonacci\n",
    "    * Conditions initiles : u[0] = 1, u[1] = 1\n",
    "    *  u[n] = u[n-2] + u[n-1]\n",
    "Test sur l'usage de la boucle ```for``` et la réutilisation des variables\n",
    "\n",
    "Initialiser $u_t$ et $u_{t+1}$, faire les premiers affichages, rentrer dans la boucle et itérer le processus."
   ]
  },
  {
   "cell_type": "code",
   "execution_count": null,
   "metadata": {},
   "outputs": [],
   "source": [
    "# 1. Initialisation\n",
    "#  TODO \n",
    "# 2. Itération du processus"
   ]
  },
  {
   "attachments": {},
   "cell_type": "markdown",
   "metadata": {},
   "source": [
    "## <span style=\"color:red\"> EXO(2)  Créer un script qui affiche tous les diviseurs d'un nombre\n",
    "\n",
    "Rappel: la fonction modulo (```a % b```) donne le reste de la division euclidienne entre ```a``` et ```b```. Si ```a % b == 0``` alors ```b``` divise ```a```."
   ]
  },
  {
   "cell_type": "code",
   "execution_count": null,
   "metadata": {},
   "outputs": [],
   "source": [
    "nombre = 12\n",
    "\n",
    "#  TODO \n",
    "\n",
    "# Résultat attendu : 12, 6, 4, 3, 2, 1"
   ]
  },
  {
   "attachments": {},
   "cell_type": "markdown",
   "metadata": {},
   "source": [
    "## Opérateurs logiques\n",
    "\n",
    "Les opérateurs logiques sont la clé pour faire des clauses complexes et donc traiter des cas non triviaux."
   ]
  },
  {
   "cell_type": "code",
   "execution_count": null,
   "metadata": {
    "collapsed": true
   },
   "outputs": [],
   "source": [
    "print(True and False)\n",
    "# False\n",
    "print(not False)\n",
    "# True\n",
    "print(True or False)\n",
    "# True"
   ]
  },
  {
   "attachments": {},
   "cell_type": "markdown",
   "metadata": {},
   "source": [
    "## <span style=\"color:red\"> EXO(1)  Quelle saison?\n",
    "\n",
    "Etant donné une variable jour et une variable mois (toutes les deux entières), indiquer la saison dans laquelle nous nous trouvons.\n",
    "Afin de valider votre programme, vous testerez des cas faciles (e.g. mois=1,jour=1) et des cas plus délicats (e.g. mois=2, jour=25 ou mois=12,jour=27)\n",
    "\n",
    "Le but est de travailler sur les `if`, `else`, `elif` et sur les clauses complexes avec `and` et `or`\n",
    "\n",
    "**Note de simplification:** on considère que les saisons changent toujours les 21 mars, 21 juin, 21 septembre et 21 décembre."
   ]
  },
  {
   "cell_type": "code",
   "execution_count": null,
   "metadata": {},
   "outputs": [],
   "source": [
    "jour = 1\n",
    "mois = 1\n",
    "\n",
    "# afficher la saison\n",
    "#  TODO "
   ]
  },
  {
   "attachments": {},
   "cell_type": "markdown",
   "metadata": {},
   "source": [
    "## Les boucles de compréhension\n",
    "\n",
    "<span style=\"color:cyan\"> [OPT] opération non indispensable dans un premier temps</span>\n",
    "\n",
    "On peut s'amuser à créer des boucles directement dans les listes\n",
    "\n",
    "  (1) C'est assez illisible et pas recommandé dans un premier temps\n",
    "  \n",
    "  (2) C'est très rapide en python par rapport à une boucle traditionnelle: on s'en sert régulièrement ensuite."
   ]
  },
  {
   "cell_type": "code",
   "execution_count": null,
   "metadata": {},
   "outputs": [],
   "source": [
    "# création de listes en utilisant des boucles imbriquées:\n",
    "a = [n for n in range(10)]\n",
    "m = [[n+m*10 for n in range(5)] for m in range(5)]\n",
    "print(a)\n",
    "print(m)\n",
    "\n",
    "# les creations complexes... Par exemple: tous les entiers jusqu'à 20 sauf ceux qui divisent 2 ou 3\n",
    "a = [n for n in range(20) if n%2 != 0 or n%3 !=0]\n",
    "print(a)"
   ]
  },
  {
   "attachments": {},
   "cell_type": "markdown",
   "metadata": {},
   "source": [
    "## Définition de nouvelle fonction\n",
    "\n",
    "Pour pouvoir refaire plusieurs fois des opérations complexes, il faut factoriser le code dans une fonction puis faire appel à cette fonction plusieurs fois.\n",
    "\n",
    "Par exemple, le calcul d'un angle entre 2 vecteurs en 2 dimensions:\n",
    "$$ \\widehat{\\vec{u},\\vec{v}} = \\text{acos}\\left (\\frac{\\vec{u}\\cdot \\vec{v}}{\\|\\vec{u}\\|\\|\\vec{v}\\|}\\right), \\qquad \\vec{u}\\cdot \\vec{v} = u_{x}v_{x} + u_{y}v_{y}, \\qquad \\|\\vec{u}\\| = \\sqrt{u_{x}u_{x} + u_{y}u_{y}}$$"
   ]
  },
  {
   "cell_type": "code",
   "execution_count": null,
   "metadata": {},
   "outputs": [],
   "source": [
    "# travail amont : bien identifier les entrées et les sorties\n",
    "# je veux travailler sur deux vecteurs (qui seront ici des listes de 2 valeurs)\n",
    "def calcul_angle(u, v):\n",
    "    \"\"\"                  \n",
    "    Manuel de la fonction\n",
    "    ARG: u et v dans R^2. list u = [ux, uy], list v = [vx, vy]\n",
    "    Calcul de l'angle entre le vecteur u et le vecteur v. \n",
    "    \"\"\"\n",
    "    return math.acos( (u[0]*v[0]+u[1]*v[1]) / (math.sqrt(u[0]*u[0]+u[1]*u[1]) * math.sqrt(v[0]*v[0]+v[1]*v[1])))\n",
    "\n",
    "# test\n",
    "print(calcul_angle([0,1], [2, 0]))\n",
    "\n",
    "help(calcul_angle)"
   ]
  },
  {
   "attachments": {},
   "cell_type": "markdown",
   "metadata": {},
   "source": [
    "## <span style=\"color:red\"> EXO(1)  Créer une fonction stochastique\n",
    "\n",
    "Vous devez créer une fonction (avec le mot-clé ```def```) qui ne prend pas d'argument et qui a un comportement potentiellement différent à chaque exécution (stochastique).\n",
    "Cette fonction utilisera ```random``` pour afficher:\n",
    "* \"Boujour\" une fois sur 3 (en moyenne)\n",
    "* \"Au revoir\" deux fois sur 3 (en moyenne)\n",
    "\n",
    "Tester 10 fois cette fonction\n"
   ]
  },
  {
   "cell_type": "code",
   "execution_count": null,
   "metadata": {},
   "outputs": [],
   "source": [
    "# 0. import de la bibliothèque\n",
    "import random\n",
    "\n",
    "# 1. Définition de la fonction\n",
    "\n",
    "#  TODO \n",
    "\n",
    "# 2. Appel à la fonction 10 fois dans une boucle"
   ]
  },
  {
   "attachments": {},
   "cell_type": "markdown",
   "metadata": {},
   "source": [
    "## <span style=\"color:red\"> EXO(1) Créer une fonction avec des arguments par défaut\n",
    "\n",
    "C'est pratique d'avoir une fonction (avec le mot-clé ```def```) qui possède des arguments par défaut: si on ne les mentionne pas, ils prennent une valeur pré-définie.\n",
    "\n",
    "Définir la fonction ```affichage``` qui prend en argument ```nIter=10``` (argument ```nIter``` avec la valeur par défaut ```10```). Cette fonction affichera tous les entiers de $0$ à ```nIter```.\n"
   ]
  },
  {
   "cell_type": "code",
   "execution_count": null,
   "metadata": {},
   "outputs": [],
   "source": [
    "# 1. Définition de la fonction avec un argument possèdant une valeur par défaut\n",
    "def affichage(nIter=10):\n",
    "    # A COMPLETER\n",
    "    #  TODO \n",
    "# 2. Invocations\n",
    "affichage(5) # résultat attendu: 0 1 2 3 4 5 \n",
    "print(\"==========\")\n",
    "affichage()  # résultat attendu: 0 1 2 3 4 5 6 7 8 9 10"
   ]
  },
  {
   "attachments": {},
   "cell_type": "markdown",
   "metadata": {},
   "source": [
    "### Le piège des variables globales dans les fonctions\n",
    "\n",
    "Les variables globales permettent d'aller très vite... Mais elles sont la causes de bugs réellement inextricables. Les cas de figures suivants illustrent les situations à proscrire.\n",
    "\n",
    "**Règles à respecter:**\n",
    "1. Les fonctions permettent d'éviter les copier-coller de code... Elles sont essentielles.\n",
    "1. Une fonction doit être réutilisable sans se poser de question et sans dépendre de valeurs *cachées*\n",
    "1. Il faut tracker les variables globales dans vos fonctions et les éliminer systématiquement"
   ]
  },
  {
   "cell_type": "code",
   "execution_count": null,
   "metadata": {},
   "outputs": [],
   "source": [
    "# Ce que vous n'avez pas le droit de faire !!!\n",
    "# \n",
    "\n",
    "glob = 2\n",
    "def mafonction(a):\n",
    "    return a*glob\n",
    "\n",
    "print(mafonction(4))\n",
    "glob = 3\n",
    "print(mafonction(4))"
   ]
  },
  {
   "attachments": {},
   "cell_type": "markdown",
   "metadata": {},
   "source": [
    "# Fabrication du sujet à partir de la correction"
   ]
  },
  {
   "cell_type": "code",
   "execution_count": null,
   "metadata": {},
   "outputs": [],
   "source": [
    "import re\n",
    "# transformation de cet énoncé en version étudiante\n",
    "\n",
    "fname = \"2_Tuto_python_boucle_clause-corr.ipynb\" # ce fichier\n",
    "fout  = fname.replace(\"-corr\",\"\")\n",
    "\n",
    "# print(\"Fichier de sortie: \", fout )\n",
    "\n",
    "f = open(fname, \"r\")\n",
    "txt = f.read()\n",
    " \n",
    "f.close()\n",
    "\n",
    "\n",
    "f2 = open(fout, \"w\")\n",
    "f2.write(re.sub(\" TODO )\",\" TODO \",\\\n",
    "    txt, flags=re.DOTALL))\n",
    "f2.close()\n",
    "\n"
   ]
  },
  {
   "cell_type": "code",
   "execution_count": null,
   "metadata": {},
   "outputs": [],
   "source": []
  }
 ],
 "metadata": {
  "kernelspec": {
   "display_name": "Python 3.9.7 ('base')",
   "language": "python",
   "name": "python3"
  },
  "language_info": {
   "codemirror_mode": {
    "name": "ipython",
    "version": 3
   },
   "file_extension": ".py",
   "mimetype": "text/x-python",
   "name": "python",
   "nbconvert_exporter": "python",
   "pygments_lexer": "ipython3",
   "version": "3.10.13"
  },
  "vscode": {
   "interpreter": {
    "hash": "902a52bcf4503a473db011f1937bdfe17613b08622219712e0110e48c4958c23"
   }
  }
 },
 "nbformat": 4,
 "nbformat_minor": 2
}
