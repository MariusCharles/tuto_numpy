{
 "cells": [
  {
   "attachments": {},
   "cell_type": "markdown",
   "metadata": {},
   "source": [
    "# Tutoriel d'introduction à Python\n",
    "\n",
    "Le but de ce tutoriel et de vous donner les clés pour l'usage de l'outil notebook et les bases importantes de python. Il faut passer rapidement dessus, savoir ce qu'il contient pour s'en servir de documentation. La prise en main de numpy dans le notebook suivant est plus importante.\n",
    "\n",
    "**Contenu:**\n",
    "* Variables et types / fonctionnement du notebook\n",
    "  * Découverte par l'exemple des opérateurs\n",
    "* Fonction mathématiques de base\n",
    "* Structures de données en python (liste & dictionnaire)\n",
    "* Boucle et conditionnelle\n",
    "* Définition d'une nouvelle fonction\n",
    "\n",
    "**[Commande de base]** Dans l'environnement notebook, il faut taper SHIFT + RETURN pour exécuter le contenu d'une *boite*\n",
    "\n",
    "**[Autres commandes]** Les menus ci-dessus (associés à des raccourcis claviers) permettent de créer de nouvelles boites, d'en supprimer et de les inverser.\n",
    "\n",
    "Vérifiez toujours que vous êtes en python **3** (en haut à droite) dans le cadre des TME\n",
    "\n",
    "**Exercices** (marqués <span style=\"color:red\"> EXO</span>) Des exercices sont proposés régulièrement dans le notebook pour éviter *l'effet contemplatif* des exemples. Si vous maitrisez déjà les concepts de base et que les solutions vous semblent évidentes, n'héstiez pas à sauter des questions.\n",
    "\n",
    "Tous les exercices sont classés par ordre d'importance:  <span style=\"color:red\"> 1</span>=\"essentiel\", <span style=\"color:red\">2</span>=\"utile, <span style=\"color:red\">3</span>=\"optionnel et/ou avancé\""
   ]
  },
  {
   "attachments": {},
   "cell_type": "markdown",
   "metadata": {},
   "source": [
    "## Types de base python et commande d'affichage\n",
    "Les variables ont un type (entier, réel, etc...), mais ce type est inféré par python et non déclaré"
   ]
  },
  {
   "cell_type": "code",
   "execution_count": null,
   "metadata": {},
   "outputs": [],
   "source": [
    "a = 1 # python sait qu'il s'agit d'un entier, la valeur est stockée dans a\n",
    "print(a) # affichage \n",
    "a = 45 # la valeur précédente est perdue, a vaut maintenant 45\n",
    "print(a) "
   ]
  },
  {
   "cell_type": "code",
   "execution_count": null,
   "metadata": {
    "collapsed": true
   },
   "outputs": [],
   "source": [
    "b = 18.5 # création d'un réel\n",
    "b = b + a # récupération, manipulation, etc...\n",
    "print(b)"
   ]
  },
  {
   "cell_type": "code",
   "execution_count": null,
   "metadata": {},
   "outputs": [],
   "source": [
    "# chaine de caractères: on peut utiliser les \" ou les '\n",
    "s  = \"Bonjour et bienvenu à la formation continue\"\n",
    "s2 = 'une autre chaine'\n",
    "print(s)\n",
    "# une chaine de caractères est un tableau...\n",
    "# récupération du 3ème caractère (Attention, les indices commencent à 0)\n",
    "print(\"Le 3ème caractère est : \", s[2])\n",
    "message = \"tutoriel python\"\n",
    "# affichage formatté\n",
    "print(\"a = {}, mess = {}\".format(a,message))\n",
    "print(\"a \", a, \" \", message)"
   ]
  },
  {
   "attachments": {},
   "cell_type": "markdown",
   "metadata": {},
   "source": [
    "### Principal risque avec les notebooks:\n",
    "\n",
    "La pile python dépend de l'ordre d'execution des boites... Garre aux mauvaises surprises.\n",
    "\n",
    "L'exemple ci-dessous illustre ce risque:<BR>\n",
    "<span style=\"color:red\">(mini) EXO</span>\n",
    "1. exécution de A puis B puis C: affichage = 2\n",
    "1. exécution de B puis A puis C OU A puis B puis de nouveau A puis C: affichage = 1"
   ]
  },
  {
   "cell_type": "code",
   "execution_count": null,
   "metadata": {},
   "outputs": [],
   "source": [
    "# boite A\n",
    "v=1"
   ]
  },
  {
   "cell_type": "code",
   "execution_count": null,
   "metadata": {},
   "outputs": [],
   "source": [
    "# boite B\n",
    "v=2"
   ]
  },
  {
   "cell_type": "code",
   "execution_count": null,
   "metadata": {},
   "outputs": [],
   "source": [
    "# boite C\n",
    "print(v)"
   ]
  },
  {
   "attachments": {},
   "cell_type": "markdown",
   "metadata": {},
   "source": [
    "### Vérifier que vous maitrisez l'environnement\n",
    "\n",
    "<span style=\"color:red\">mini EXO</span>\n",
    "\n",
    "1. Créer une nouvelle boite de code immédiatement en dessous de celle-ci\n",
    "1. Créer une nouvelle variable (e.g. `toto`) et lui affecter une valeur (e.g. `5.5`)\n",
    "1. Afficher la valeur (`print`)"
   ]
  },
  {
   "attachments": {},
   "cell_type": "markdown",
   "metadata": {},
   "source": [
    "### Les fonctions mathématiques avancées\n",
    "\n",
    "Pour plus d'informations:\n",
    "* https://docs.python.org/3/library/math.html\n",
    "* https://docs.python.org/3/library/random.html\n",
    "\n",
    "**ATTENTION:** ces fonctions sont très utiles... Mais très rapidement, nous allons travailler dans l'univers ```numpy``` où les fonctions mathématiques sont redéfinies.\n",
    "\n",
    "1. Passer rapidement sur la boite ci-dessous\n",
    "1. Noter dans un coin de votre tête l'usage de ces fonctions\n",
    "1. Se rappeler que dans la suite de l'UE, les fonctions random, cos, sin, ... seront celles de numpy et pas celles du python de base.\n",
    "\n",
    "Les tutoriels sont donc assez denses et demandent de la prise de recul pour ne pas s'emmêler entre les différentes bibliothèques."
   ]
  },
  {
   "cell_type": "code",
   "execution_count": null,
   "metadata": {},
   "outputs": [],
   "source": [
    "# récupération de valeurs et opérateurs spécifiques\n",
    "# ... Pour lesquels il faut charger des bibliothèques spécifiques (cf plus loin, section sur les différentes formes d'import)\n",
    "import math \n",
    "\n",
    "print(math.pi)\n",
    "theta = math.pi/3 # une variable comme une autre, nous sommes libre du choix des variables\n",
    "print(math.cos(theta))\n",
    "\n",
    "# générer des nombres aléatoires\n",
    "import random\n",
    "r = random.random() # entre 0 et 1\n",
    "print(r)\n",
    "r2 = random.randint(2, 33) # entre 2 et 33 (inclus des deux cotés)\n",
    "print(r2)"
   ]
  },
  {
   "attachments": {},
   "cell_type": "markdown",
   "metadata": {},
   "source": [
    "## <span style=\"color:red\">EXO (1) Déclaration de variables et print</span>\n",
    "\n",
    "Ecrivez un script dans la boite suivante et qui déclare successivement des variables ```nom``` et ```age``` et qui affiche un récapitulatif des informations fournies ainsi que l'année des 20 ans de l'utilisateur."
   ]
  },
  {
   "cell_type": "code",
   "execution_count": null,
   "metadata": {},
   "outputs": [],
   "source": [
    "# réponse (3 lignes simples)\n",
    "#  TODO "
   ]
  },
  {
   "attachments": {},
   "cell_type": "markdown",
   "metadata": {},
   "source": [
    "### Les listes et les dictionnaires\n",
    "\n",
    "Les listes et dictionnaires jouent un role très important en python, nous allons étudier cela maintenant\n",
    "\n",
    "Toutes les informations sur: https://docs.python.org/3/tutorial/datastructures.html"
   ]
  },
  {
   "cell_type": "code",
   "execution_count": null,
   "metadata": {
    "collapsed": true
   },
   "outputs": [],
   "source": [
    "# création d'une liste:\n",
    "maliste = [] # equivalent de maliste = list()\n",
    "print(maliste)\n",
    "# ajout d'un élément\n",
    "maliste.append(12)\n",
    "# fusion de deux listes\n",
    "listefus = maliste + [4, 6, 8]\n",
    "print(listefus)\n",
    "# récupération de la longueur d'une liste:\n",
    "print(len(listefus))\n",
    "# modification d'une valeur dans la liste:\n",
    "listefus[0] = -1\n",
    "print(listefus)\n",
    "# suppression d'une valeur dans la liste (par indice)\n",
    "listefus.pop(1)\n",
    "print(listefus)\n",
    "# suppression d'une valeur dans la liste (par valeur)\n",
    "listefus.remove(8)\n",
    "print(listefus)"
   ]
  },
  {
   "cell_type": "code",
   "execution_count": null,
   "metadata": {
    "collapsed": true
   },
   "outputs": [],
   "source": [
    "# Opérateur sur les listes\n",
    "print(sum(listefus))\n",
    "# trouver tous les éléments uniques d'une liste => créer un set (= ensemble de valeur unique)\n",
    "print(set([2,15,3,9,2,15,15,15]))\n",
    "# ordonner\n",
    "li = [2,15,3,9,2,15,15,15]\n",
    "li.sort()\n",
    "print(li)\n",
    "# compter un élément d'une liste:\n",
    "print([2,15,3,9,2,15,15,15].count(15))"
   ]
  },
  {
   "attachments": {},
   "cell_type": "markdown",
   "metadata": {},
   "source": [
    "### Dictionnaire \n",
    "\n",
    "<span style=\"color:cyan\">  [OPT] Structure importante en python... Mais qu'on n'utilisera très peu en analyse de donnée </span>\n",
    "\n",
    "Le dictionnaire est une structure de données importante. En python, elle est même centrale. L'idée est d'associer une clé et une valeur\n",
    "```\n",
    "clé 1 => valeur 1\n",
    "clé 2 => valeur 2\n",
    "etc...\n",
    "```\n",
    "\n",
    "C'est une manière élégante de stocker des informations. On peut ajouter des clés (en écriture), modifier la valeur associée à une clé (toujours en écriture) ou lire la valeur associée à une clé (lecture)"
   ]
  },
  {
   "cell_type": "code",
   "execution_count": null,
   "metadata": {
    "collapsed": true
   },
   "outputs": [],
   "source": [
    "# dictionnaire = table de hash\n",
    "# construction\n",
    "mondico = {'champ1': 23, 'champ2': [12, 9.5]}\n",
    "# Récupération d'une valeur\n",
    "print(mondico['champ1'])\n",
    "# ajout d'un champ\n",
    "mondico['champ3'] = 65\n",
    "print(mondico)"
   ]
  },
  {
   "attachments": {},
   "cell_type": "markdown",
   "metadata": {},
   "source": [
    "## <span style=\"color:red\"> EXO (2) Créer un dictionnaire de traduction </span>"
   ]
  },
  {
   "cell_type": "code",
   "execution_count": null,
   "metadata": {},
   "outputs": [],
   "source": [
    "# 1. construction du dictionnaire contenant les mots français en clé et anglais en valeur:\n",
    "# \"le\", \"chat\", \"est\", \"sur\", \"la\", \"table\" => \"the\" \"cat\" \"is\" \"on\" \"the\" \"table\"\n",
    "# definition de trad\n",
    "\n",
    "#  TODO \n",
    "\n",
    "# 2. affichage de la traduction mot à mot \n",
    "print(trad['le']) # si la structure trad est bien définie précédemment\n",
    "\n",
    "# Soit la phrase suivante:\n",
    "phrase = \"le chat est sur la table\"\n",
    "# Afficher la traduction mot à mot à l'aide d'une boucle\n",
    "#  TODO \n"
   ]
  },
  {
   "attachments": {},
   "cell_type": "markdown",
   "metadata": {},
   "source": [
    "# Fabrication du sujet à partir de la correction"
   ]
  },
  {
   "cell_type": "code",
   "execution_count": 1,
   "metadata": {},
   "outputs": [],
   "source": [
    "import re\n",
    "# transformation de cet énoncé en version étudiante\n",
    "\n",
    "fname = \"1_Tuto_python-corr.ipynb\" # ce fichier\n",
    "fout  = fname.replace(\"-corr\",\"\")\n",
    "\n",
    "# print(\"Fichier de sortie: \", fout )\n",
    "\n",
    "f = open(fname, \"r\")\n",
    "txt = f.read()\n",
    " \n",
    "f.close()\n",
    "\n",
    "\n",
    "f2 = open(fout, \"w\")\n",
    "f2.write(re.sub(\" TODO )\",\" TODO \",\\\n",
    "    txt, flags=re.DOTALL))\n",
    "f2.close()\n",
    "\n"
   ]
  },
  {
   "cell_type": "code",
   "execution_count": null,
   "metadata": {},
   "outputs": [],
   "source": []
  }
 ],
 "metadata": {
  "kernelspec": {
   "display_name": "Python 3.9.7 ('base')",
   "language": "python",
   "name": "python3"
  },
  "language_info": {
   "codemirror_mode": {
    "name": "ipython",
    "version": 3
   },
   "file_extension": ".py",
   "mimetype": "text/x-python",
   "name": "python",
   "nbconvert_exporter": "python",
   "pygments_lexer": "ipython3",
   "version": "3.10.13"
  },
  "vscode": {
   "interpreter": {
    "hash": "902a52bcf4503a473db011f1937bdfe17613b08622219712e0110e48c4958c23"
   }
  }
 },
 "nbformat": 4,
 "nbformat_minor": 2
}
