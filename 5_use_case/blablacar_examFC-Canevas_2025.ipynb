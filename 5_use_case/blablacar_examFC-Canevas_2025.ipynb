{
 "cells": [
  {
   "cell_type": "markdown",
   "metadata": {},
   "source": [
    "# TP sur les données blablacar\n",
    "\n",
    "**Ce fichier est le fichier de travail**, l'autre fichier blablacar.ipynb est donné pour information et pour montrer comment les données ont été collectées. L'API blablacar permet de récupérer l'offre de transport sur la plateforme à partir de requêtes.\n",
    "\n",
    "\n",
    "Vous aurez besoin des fichiers correspondant à des récupérations de données aux mois de septembre et novembre:\n",
    "les fichiers ```blablacar_pp_sept.pkl``` et ```blablacar_pp_nov.pkl``` sont disponibles dans le répertoire ```ressources```.\n",
    "\n",
    "\n",
    "Ces fichiers correspondent à des requêtes à partir des villes suivantes:\n",
    ">  villes = ['Paris', 'Marseille', 'Grenoble', 'Lille', 'Strasbourg', 'Nantes', 'Bordeaux']\n",
    " "
   ]
  },
  {
   "cell_type": "code",
   "execution_count": 1,
   "metadata": {},
   "outputs": [],
   "source": [
    "import numpy as np\n",
    "import pandas as pd\n",
    "import matplotlib.pyplot as plt\n",
    "%matplotlib inline\n",
    "import pickle as pkl"
   ]
  },
  {
   "cell_type": "code",
   "execution_count": 2,
   "metadata": {},
   "outputs": [],
   "source": [
    "# mise à jour des librairies pour qu'on travaille tous dans le même environnement\n",
    "# (en commentaire pour ne pas le faire chaque fois)\n",
    "#! pip install numpy --upgrade\n",
    "#! pip install matplotlib --upgrade\n",
    "#! pip install pandas --upgrade"
   ]
  },
  {
   "cell_type": "markdown",
   "metadata": {},
   "source": [
    "## Chargement des données\n",
    "\n",
    "Les données numpy sont stockées au format pickle (code fourni ci-dessous):\n",
    "\n",
    "1. Importer le module : import `pickle as pkl`\n",
    "1. Charger les données avec `load`\n",
    "1. La structure est un dictionnaire, les données sont dans le champ `data`\n",
    "1. La description des colonnes est dans `indexcol`\n",
    "\n",
    "Les lignes suivantes permettent de décomposer la structure de données pour accéder à toutes les informations utiles."
   ]
  },
  {
   "cell_type": "code",
   "execution_count": 6,
   "metadata": {},
   "outputs": [],
   "source": [
    "# chargement des données numpy : trajets, marques de voitures...\n",
    "\n",
    "fich = pkl.load( open('ressources/blablacar_pp_sept.pkl', 'rb'))\n",
    "\n",
    "# {'indexcol': cols , 'data':pp2db, 'villes': villes, 'marques':marques }\n",
    "titles_col = fich['indexcol'] # titre des colonnes\n",
    "# print(len(titles_col), titles_col) \n",
    "data = fich['data'] # matrice de données\n",
    "# print(data.shape)\n",
    "dico_villes = fich['villes'] # dictionnaire des villes\n",
    "inv_dico_villes = dict(zip(dico_villes.values(), dico_villes.keys()))\n",
    "dico_marques = fich['marques'] # dictionnaires des marques\n",
    "inv_dico_marques = dict(zip(dico_marques.values(), dico_marques.keys()))\n",
    "# print(dico_marques)\n",
    "# print(inv_dico_marques)"
   ]
  },
  {
   "cell_type": "markdown",
   "metadata": {},
   "source": [
    "## Passage au format pandas\n",
    "\n",
    "Le code de transformation des données au format pandas est fourni. Ainsi, dans la suite de cet énoncé, vous aurez sous la main les deux formats `numpy` et `pandas`\n",
    "\n",
    "- on remarque que les villes de départ et d'arrivée ne sont pas facile à exploiter\n",
    "- on remarque que les marques de voitures sont des nombres (à transformer en chaine pour affichage si besoin)"
   ]
  },
  {
   "cell_type": "code",
   "execution_count": 13,
   "metadata": {},
   "outputs": [
    {
     "name": "stdout",
     "output_type": "stream",
     "text": [
      "       annee  mois  jour  heure  dep_ville  arr_ville  dep_coord_x  \\\n",
      "0     2019.0   9.0  17.0   13.0     1634.0     1796.0    48.835669   \n",
      "1     2019.0   9.0  17.0   13.0      585.0     1225.0    48.726243   \n",
      "2     2019.0   9.0  17.0   14.0     1634.0     1262.0    48.847610   \n",
      "3     2019.0   9.0  17.0   14.0     1634.0      845.0    48.818963   \n",
      "4     2019.0   9.0  17.0   14.0     1634.0     1579.0    48.900444   \n",
      "...      ...   ...   ...    ...        ...        ...          ...   \n",
      "6423  2019.0   9.0  19.0   17.0      319.0     1666.0    44.859367   \n",
      "6424  2019.0   9.0  19.0   17.0      953.0     2073.0    44.821500   \n",
      "6425  2019.0   9.0  19.0   18.0      766.0       57.0    44.779981   \n",
      "6426  2019.0   9.0  19.0   19.0      319.0     1576.0    44.837789   \n",
      "6427  2019.0   9.0  19.0   20.0      843.0       78.0    44.830593   \n",
      "\n",
      "      dep_coord_y  arr_coord_x  arr_coord_y  prix  marque  stars_confort  \\\n",
      "0        2.410543    49.563160     3.628554   9.0    37.0            2.0   \n",
      "1        2.365247    49.542538     0.193360  10.0    43.0           -1.0   \n",
      "2        2.395567    49.263805     2.469155   3.0    35.0            2.0   \n",
      "3        2.359517    50.297283     2.782298   7.0    16.0            2.0   \n",
      "4        2.386363    49.258589     4.024976   8.0    15.0            2.0   \n",
      "...           ...          ...          ...   ...     ...            ...   \n",
      "6423    -0.554487    40.139354    -7.505158  54.0    17.0            2.0   \n",
      "6424    -0.519547    46.319485    -0.454621   8.0    15.0            2.0   \n",
      "6425    -0.567257    44.631077    -1.148224   3.0    43.0           -1.0   \n",
      "6426    -0.579180    43.388051    -1.663055   9.0     3.0            2.0   \n",
      "6427    -0.710305    43.459370    -1.545947  12.0    23.0            2.0   \n",
      "\n",
      "      distance  \n",
      "0        136.0  \n",
      "1        208.0  \n",
      "2         61.0  \n",
      "3        183.0  \n",
      "4        147.0  \n",
      "...        ...  \n",
      "6423     900.0  \n",
      "6424     191.0  \n",
      "6425      57.0  \n",
      "6426     205.0  \n",
      "6427     193.0  \n",
      "\n",
      "[6428 rows x 14 columns]\n"
     ]
    }
   ],
   "source": [
    "df = pd.DataFrame(data)\n",
    "df.columns = titles_col\n",
    "print(df)"
   ]
  },
  {
   "cell_type": "code",
   "execution_count": 14,
   "metadata": {},
   "outputs": [
    {
     "data": {
      "text/plain": [
       "['LADA',\n",
       " 'OPEL',\n",
       " 'DS',\n",
       " 'VOLKSWAGEN',\n",
       " 'GOLF',\n",
       " 'MITSUBISHI',\n",
       " 'FORD',\n",
       " 'MINI',\n",
       " 'IVECO',\n",
       " 'JEEP',\n",
       " 'LANCIA',\n",
       " 'RANGE ROVER',\n",
       " 'BMW',\n",
       " 'TOYOTA',\n",
       " 'SAAB',\n",
       " 'RENAULT',\n",
       " 'SEAT',\n",
       " 'CITROEN',\n",
       " 'SUBARU',\n",
       " 'ROVER',\n",
       " 'SUZUKI',\n",
       " 'SUV LEXUS',\n",
       " 'HYUNDAI',\n",
       " 'PORSCHE',\n",
       " 'SMART',\n",
       " 'PEUGEOT',\n",
       " 'CHEVROLET',\n",
       " 'SKODA',\n",
       " 'LAND ROVER',\n",
       " 'DODGE',\n",
       " 'DAEWOO',\n",
       " 'MAZDA',\n",
       " 'ISUZU',\n",
       " 'LIDER',\n",
       " 'SSANGYONG',\n",
       " 'MERCEDES-BENZ',\n",
       " 'INFINITI',\n",
       " 'ALFA ROMEO',\n",
       " 'MIETWAGEN',\n",
       " 'JAGUAR',\n",
       " 'NISSAN',\n",
       " 'MERCEDES',\n",
       " 'HUNDAI',\n",
       " 'unknown',\n",
       " 'LEXUS',\n",
       " 'DACIA',\n",
       " 'VOLVO',\n",
       " 'TESLA',\n",
       " 'MERCEDES BENZ',\n",
       " 'AUDI',\n",
       " 'FIAT',\n",
       " 'CHRYSLER',\n",
       " 'KIA',\n",
       " 'HONDA']"
      ]
     },
     "execution_count": 14,
     "metadata": {},
     "output_type": "execute_result"
    }
   ],
   "source": [
    "# Illustration du passage des marques (difficiles à manipuler) à des numéros et inversement\n",
    "\n",
    "nums = list(inv_dico_marques.keys())\n",
    "nums.sort() # remise dans l'ordre\n",
    "\n",
    "[inv_dico_marques[i] for i in nums]"
   ]
  },
  {
   "cell_type": "markdown",
   "metadata": {},
   "source": [
    "## Q1: Mise en forme pandas\n",
    "[question indépendante de la suite]\n",
    "\n",
    "Les colonnes ville (arrivée & départ) et marque correspondent à des indices. Nous voulons ajouter 3 colonnes dans la structure de données `pandas` avec le nom des villes et le nom des marques. Ces données sont disponibles dans les dictionnaires (`inv_dico_marques` et `inv_dico_villes`) python chargés au début du fichier.\n",
    "\n",
    "Les 3 colonnes seront nommées:\n",
    "* dep_ville_nom\n",
    "* arr_ville_nom\n",
    "* marque_nom\n",
    "\n",
    "***Aide:*** Attention à bien convertir les clés en entier, les réels ne sont pas tolérés.\n",
    "Pour récupérer la marque de la voiture correspondant au premier trajet:\n",
    "```python\n",
    "print(inv_dico_marques[int(df['marque'][0])])\n",
    "```"
   ]
  },
  {
   "cell_type": "code",
   "execution_count": null,
   "metadata": {},
   "outputs": [
    {
     "name": "stdout",
     "output_type": "stream",
     "text": [
      "ALFA ROMEO\n"
     ]
    },
    {
     "data": {
      "text/html": [
       "<div>\n",
       "<style scoped>\n",
       "    .dataframe tbody tr th:only-of-type {\n",
       "        vertical-align: middle;\n",
       "    }\n",
       "\n",
       "    .dataframe tbody tr th {\n",
       "        vertical-align: top;\n",
       "    }\n",
       "\n",
       "    .dataframe thead th {\n",
       "        text-align: right;\n",
       "    }\n",
       "</style>\n",
       "<table border=\"1\" class=\"dataframe\">\n",
       "  <thead>\n",
       "    <tr style=\"text-align: right;\">\n",
       "      <th></th>\n",
       "      <th>annee</th>\n",
       "      <th>mois</th>\n",
       "      <th>jour</th>\n",
       "      <th>heure</th>\n",
       "      <th>dep_ville</th>\n",
       "      <th>arr_ville</th>\n",
       "      <th>dep_coord_x</th>\n",
       "      <th>dep_coord_y</th>\n",
       "      <th>arr_coord_x</th>\n",
       "      <th>arr_coord_y</th>\n",
       "      <th>prix</th>\n",
       "      <th>marque</th>\n",
       "      <th>stars_confort</th>\n",
       "      <th>distance</th>\n",
       "      <th>MARQUE_STR</th>\n",
       "    </tr>\n",
       "  </thead>\n",
       "  <tbody>\n",
       "    <tr>\n",
       "      <th>0</th>\n",
       "      <td>2019.0</td>\n",
       "      <td>9.0</td>\n",
       "      <td>17.0</td>\n",
       "      <td>13.0</td>\n",
       "      <td>1634.0</td>\n",
       "      <td>1796.0</td>\n",
       "      <td>48.835669</td>\n",
       "      <td>2.410543</td>\n",
       "      <td>49.563160</td>\n",
       "      <td>3.628554</td>\n",
       "      <td>9.0</td>\n",
       "      <td>37.0</td>\n",
       "      <td>2.0</td>\n",
       "      <td>136.0</td>\n",
       "      <td>ALFA ROMEO</td>\n",
       "    </tr>\n",
       "    <tr>\n",
       "      <th>1</th>\n",
       "      <td>2019.0</td>\n",
       "      <td>9.0</td>\n",
       "      <td>17.0</td>\n",
       "      <td>13.0</td>\n",
       "      <td>585.0</td>\n",
       "      <td>1225.0</td>\n",
       "      <td>48.726243</td>\n",
       "      <td>2.365247</td>\n",
       "      <td>49.542538</td>\n",
       "      <td>0.193360</td>\n",
       "      <td>10.0</td>\n",
       "      <td>43.0</td>\n",
       "      <td>-1.0</td>\n",
       "      <td>208.0</td>\n",
       "      <td>unknown</td>\n",
       "    </tr>\n",
       "    <tr>\n",
       "      <th>2</th>\n",
       "      <td>2019.0</td>\n",
       "      <td>9.0</td>\n",
       "      <td>17.0</td>\n",
       "      <td>14.0</td>\n",
       "      <td>1634.0</td>\n",
       "      <td>1262.0</td>\n",
       "      <td>48.847610</td>\n",
       "      <td>2.395567</td>\n",
       "      <td>49.263805</td>\n",
       "      <td>2.469155</td>\n",
       "      <td>3.0</td>\n",
       "      <td>35.0</td>\n",
       "      <td>2.0</td>\n",
       "      <td>61.0</td>\n",
       "      <td>MERCEDES-BENZ</td>\n",
       "    </tr>\n",
       "    <tr>\n",
       "      <th>3</th>\n",
       "      <td>2019.0</td>\n",
       "      <td>9.0</td>\n",
       "      <td>17.0</td>\n",
       "      <td>14.0</td>\n",
       "      <td>1634.0</td>\n",
       "      <td>845.0</td>\n",
       "      <td>48.818963</td>\n",
       "      <td>2.359517</td>\n",
       "      <td>50.297283</td>\n",
       "      <td>2.782298</td>\n",
       "      <td>7.0</td>\n",
       "      <td>16.0</td>\n",
       "      <td>2.0</td>\n",
       "      <td>183.0</td>\n",
       "      <td>SEAT</td>\n",
       "    </tr>\n",
       "    <tr>\n",
       "      <th>4</th>\n",
       "      <td>2019.0</td>\n",
       "      <td>9.0</td>\n",
       "      <td>17.0</td>\n",
       "      <td>14.0</td>\n",
       "      <td>1634.0</td>\n",
       "      <td>1579.0</td>\n",
       "      <td>48.900444</td>\n",
       "      <td>2.386363</td>\n",
       "      <td>49.258589</td>\n",
       "      <td>4.024976</td>\n",
       "      <td>8.0</td>\n",
       "      <td>15.0</td>\n",
       "      <td>2.0</td>\n",
       "      <td>147.0</td>\n",
       "      <td>RENAULT</td>\n",
       "    </tr>\n",
       "  </tbody>\n",
       "</table>\n",
       "</div>"
      ],
      "text/plain": [
       "    annee  mois  jour  heure  dep_ville  arr_ville  dep_coord_x  dep_coord_y  \\\n",
       "0  2019.0   9.0  17.0   13.0     1634.0     1796.0    48.835669     2.410543   \n",
       "1  2019.0   9.0  17.0   13.0      585.0     1225.0    48.726243     2.365247   \n",
       "2  2019.0   9.0  17.0   14.0     1634.0     1262.0    48.847610     2.395567   \n",
       "3  2019.0   9.0  17.0   14.0     1634.0      845.0    48.818963     2.359517   \n",
       "4  2019.0   9.0  17.0   14.0     1634.0     1579.0    48.900444     2.386363   \n",
       "\n",
       "   arr_coord_x  arr_coord_y  prix  marque  stars_confort  distance  \\\n",
       "0    49.563160     3.628554   9.0    37.0            2.0     136.0   \n",
       "1    49.542538     0.193360  10.0    43.0           -1.0     208.0   \n",
       "2    49.263805     2.469155   3.0    35.0            2.0      61.0   \n",
       "3    50.297283     2.782298   7.0    16.0            2.0     183.0   \n",
       "4    49.258589     4.024976   8.0    15.0            2.0     147.0   \n",
       "\n",
       "      MARQUE_STR  \n",
       "0     ALFA ROMEO  \n",
       "1        unknown  \n",
       "2  MERCEDES-BENZ  \n",
       "3           SEAT  \n",
       "4        RENAULT  "
      ]
     },
     "execution_count": 18,
     "metadata": {},
     "output_type": "execute_result"
    }
   ],
   "source": [
    "# extraction de la marque correspondant à la ligne 0 du tableau:\n",
    "print(inv_dico_marques[int(df['marque'][0])])\n",
    "\n",
    "# 1. Extraire toutes les marques de toutes les lignes => dans une liste\n",
    "# 2. Affecter cette liste à une nouvelle colonne dans pandas\n",
    "#  TODO \n"
   ]
  },
  {
   "cell_type": "code",
   "execution_count": null,
   "metadata": {},
   "outputs": [
    {
     "name": "stdout",
     "output_type": "stream",
     "text": [
      "Paris\n",
      "Laon\n"
     ]
    },
    {
     "data": {
      "text/html": [
       "<div>\n",
       "<style scoped>\n",
       "    .dataframe tbody tr th:only-of-type {\n",
       "        vertical-align: middle;\n",
       "    }\n",
       "\n",
       "    .dataframe tbody tr th {\n",
       "        vertical-align: top;\n",
       "    }\n",
       "\n",
       "    .dataframe thead th {\n",
       "        text-align: right;\n",
       "    }\n",
       "</style>\n",
       "<table border=\"1\" class=\"dataframe\">\n",
       "  <thead>\n",
       "    <tr style=\"text-align: right;\">\n",
       "      <th></th>\n",
       "      <th>annee</th>\n",
       "      <th>mois</th>\n",
       "      <th>jour</th>\n",
       "      <th>heure</th>\n",
       "      <th>dep_ville</th>\n",
       "      <th>arr_ville</th>\n",
       "      <th>dep_coord_x</th>\n",
       "      <th>dep_coord_y</th>\n",
       "      <th>arr_coord_x</th>\n",
       "      <th>arr_coord_y</th>\n",
       "      <th>prix</th>\n",
       "      <th>marque</th>\n",
       "      <th>stars_confort</th>\n",
       "      <th>distance</th>\n",
       "      <th>MARQUE_STR</th>\n",
       "      <th>VILLE_DEP</th>\n",
       "      <th>VILLE_ARR</th>\n",
       "    </tr>\n",
       "  </thead>\n",
       "  <tbody>\n",
       "    <tr>\n",
       "      <th>0</th>\n",
       "      <td>2019.0</td>\n",
       "      <td>9.0</td>\n",
       "      <td>17.0</td>\n",
       "      <td>13.0</td>\n",
       "      <td>1634.0</td>\n",
       "      <td>1796.0</td>\n",
       "      <td>48.835669</td>\n",
       "      <td>2.410543</td>\n",
       "      <td>49.563160</td>\n",
       "      <td>3.628554</td>\n",
       "      <td>9.0</td>\n",
       "      <td>37.0</td>\n",
       "      <td>2.0</td>\n",
       "      <td>136.0</td>\n",
       "      <td>ALFA ROMEO</td>\n",
       "      <td>Paris</td>\n",
       "      <td>Laon</td>\n",
       "    </tr>\n",
       "    <tr>\n",
       "      <th>1</th>\n",
       "      <td>2019.0</td>\n",
       "      <td>9.0</td>\n",
       "      <td>17.0</td>\n",
       "      <td>13.0</td>\n",
       "      <td>585.0</td>\n",
       "      <td>1225.0</td>\n",
       "      <td>48.726243</td>\n",
       "      <td>2.365247</td>\n",
       "      <td>49.542538</td>\n",
       "      <td>0.193360</td>\n",
       "      <td>10.0</td>\n",
       "      <td>43.0</td>\n",
       "      <td>-1.0</td>\n",
       "      <td>208.0</td>\n",
       "      <td>unknown</td>\n",
       "      <td>Paray-Vieille-Poste</td>\n",
       "      <td>Montivilliers</td>\n",
       "    </tr>\n",
       "    <tr>\n",
       "      <th>2</th>\n",
       "      <td>2019.0</td>\n",
       "      <td>9.0</td>\n",
       "      <td>17.0</td>\n",
       "      <td>14.0</td>\n",
       "      <td>1634.0</td>\n",
       "      <td>1262.0</td>\n",
       "      <td>48.847610</td>\n",
       "      <td>2.395567</td>\n",
       "      <td>49.263805</td>\n",
       "      <td>2.469155</td>\n",
       "      <td>3.0</td>\n",
       "      <td>35.0</td>\n",
       "      <td>2.0</td>\n",
       "      <td>61.0</td>\n",
       "      <td>MERCEDES-BENZ</td>\n",
       "      <td>Paris</td>\n",
       "      <td>Creil</td>\n",
       "    </tr>\n",
       "    <tr>\n",
       "      <th>3</th>\n",
       "      <td>2019.0</td>\n",
       "      <td>9.0</td>\n",
       "      <td>17.0</td>\n",
       "      <td>14.0</td>\n",
       "      <td>1634.0</td>\n",
       "      <td>845.0</td>\n",
       "      <td>48.818963</td>\n",
       "      <td>2.359517</td>\n",
       "      <td>50.297283</td>\n",
       "      <td>2.782298</td>\n",
       "      <td>7.0</td>\n",
       "      <td>16.0</td>\n",
       "      <td>2.0</td>\n",
       "      <td>183.0</td>\n",
       "      <td>SEAT</td>\n",
       "      <td>Paris</td>\n",
       "      <td>Arras</td>\n",
       "    </tr>\n",
       "    <tr>\n",
       "      <th>4</th>\n",
       "      <td>2019.0</td>\n",
       "      <td>9.0</td>\n",
       "      <td>17.0</td>\n",
       "      <td>14.0</td>\n",
       "      <td>1634.0</td>\n",
       "      <td>1579.0</td>\n",
       "      <td>48.900444</td>\n",
       "      <td>2.386363</td>\n",
       "      <td>49.258589</td>\n",
       "      <td>4.024976</td>\n",
       "      <td>8.0</td>\n",
       "      <td>15.0</td>\n",
       "      <td>2.0</td>\n",
       "      <td>147.0</td>\n",
       "      <td>RENAULT</td>\n",
       "      <td>Paris</td>\n",
       "      <td>Reims</td>\n",
       "    </tr>\n",
       "  </tbody>\n",
       "</table>\n",
       "</div>"
      ],
      "text/plain": [
       "    annee  mois  jour  heure  dep_ville  arr_ville  dep_coord_x  dep_coord_y  \\\n",
       "0  2019.0   9.0  17.0   13.0     1634.0     1796.0    48.835669     2.410543   \n",
       "1  2019.0   9.0  17.0   13.0      585.0     1225.0    48.726243     2.365247   \n",
       "2  2019.0   9.0  17.0   14.0     1634.0     1262.0    48.847610     2.395567   \n",
       "3  2019.0   9.0  17.0   14.0     1634.0      845.0    48.818963     2.359517   \n",
       "4  2019.0   9.0  17.0   14.0     1634.0     1579.0    48.900444     2.386363   \n",
       "\n",
       "   arr_coord_x  arr_coord_y  prix  marque  stars_confort  distance  \\\n",
       "0    49.563160     3.628554   9.0    37.0            2.0     136.0   \n",
       "1    49.542538     0.193360  10.0    43.0           -1.0     208.0   \n",
       "2    49.263805     2.469155   3.0    35.0            2.0      61.0   \n",
       "3    50.297283     2.782298   7.0    16.0            2.0     183.0   \n",
       "4    49.258589     4.024976   8.0    15.0            2.0     147.0   \n",
       "\n",
       "      MARQUE_STR            VILLE_DEP      VILLE_ARR  \n",
       "0     ALFA ROMEO                Paris           Laon  \n",
       "1        unknown  Paray-Vieille-Poste  Montivilliers  \n",
       "2  MERCEDES-BENZ                Paris          Creil  \n",
       "3           SEAT                Paris          Arras  \n",
       "4        RENAULT                Paris          Reims  "
      ]
     },
     "execution_count": 24,
     "metadata": {},
     "output_type": "execute_result"
    }
   ],
   "source": [
    "# extraction des villes\n",
    "\n",
    "print(inv_dico_villes[int(df['dep_ville'][0])])\n",
    "print(inv_dico_villes[int(df['arr_ville'][0])])\n",
    "\n",
    "# 1. Extraire toutes les villes de toutes les lignes => dans une liste\n",
    "# 2. Affecter cette liste à une nouvelle colonne dans pandas\n",
    "#  TODO \n"
   ]
  },
  {
   "cell_type": "markdown",
   "metadata": {},
   "source": [
    "## Q2 : Discrétisation et histogramme\n",
    "\n",
    "Nous nous intéressons à la variable `distance` (dernière colonne de la structure `numpy`). Nous allons procéder de la manière suivante:\n",
    "1. Analyse rapide de la variable aléatoire: calcul de la moyenne et de l'écart-type\n",
    "1. Analyse plus fine (1): affichage des 10 déciles de la variable\n",
    "1. Analyse plus fine (2): discrétisation de la variable en 10 intervalles de largeur constante & comptage des effectifs dans chaque catégorie (= construction d'un histogramme)\n",
    "1. Discuter le nombre d'intervalles pour l'histogramme et trouver une valeur satisfaisante = faire des hist() graphiques et regarder la résolution qui semble intéressante"
   ]
  },
  {
   "cell_type": "code",
   "execution_count": 31,
   "metadata": {},
   "outputs": [
    {
     "name": "stdout",
     "output_type": "stream",
     "text": [
      "0.1     64.0\n",
      "0.2     88.0\n",
      "0.3    111.0\n",
      "0.4    142.0\n",
      "0.5    182.0\n",
      "0.6    230.0\n",
      "0.7    316.0\n",
      "0.8    408.6\n",
      "0.9    552.0\n",
      "Name: distance, dtype: float64\n",
      "[   6.          255.77777778  505.55555556  755.33333333 1005.11111111\n",
      " 1254.88888889 1504.66666667 1754.44444444 2004.22222222 2254.        ]\n"
     ]
    },
    {
     "data": {
      "image/png": "[encoded data removed]",
      "text/plain": [
       "<Figure size 640x480 with 1 Axes>"
      ]
     },
     "metadata": {},
     "output_type": "display_data"
    }
   ],
   "source": [
    "# Analyse rapide : moyenne, écart-type, calcul des quantiles pour faire la synthèse de cette variable aléatoire\n",
    "df.describe() # version par défaut avec des grandeurs intéressantes\n",
    "\n",
    "# 2. Deciles\n",
    "#  TODO \n",
    "\n",
    "# 3. 10 intervalles constants\n",
    "#  TODO \n",
    "\n",
    "# 4. intervalles\n",
    "#  TODO \n",
    "\n"
   ]
  },
  {
   "cell_type": "markdown",
   "metadata": {},
   "source": [
    "## Q3 : enrichissement et histogramme \n",
    "\n",
    "Ajouter une variable `prix_km` dans votre structure de données (`numpy` ou `pandas`)\n",
    "\n",
    "Tracer l'histogramme des prix au km"
   ]
  },
  {
   "cell_type": "code",
   "execution_count": 36,
   "metadata": {},
   "outputs": [
    {
     "data": {
      "text/plain": [
       "0       0.066176\n",
       "1       0.048077\n",
       "2       0.049180\n",
       "3       0.038251\n",
       "4       0.054422\n",
       "          ...   \n",
       "6423    0.060000\n",
       "6424    0.041885\n",
       "6425    0.052632\n",
       "6426    0.043902\n",
       "6427    0.062176\n",
       "Name: prix_km, Length: 6428, dtype: float64"
      ]
     },
     "execution_count": 36,
     "metadata": {},
     "output_type": "execute_result"
    }
   ],
   "source": [
    "# réponse\n",
    "# construction des prix au km\n",
    "#  TODO \n"
   ]
  },
  {
   "cell_type": "code",
   "execution_count": 37,
   "metadata": {},
   "outputs": [
    {
     "data": {
      "image/png": "[encoded data removed]",
      "text/plain": [
       "<Figure size 640x480 with 1 Axes>"
      ]
     },
     "metadata": {},
     "output_type": "display_data"
    }
   ],
   "source": [
    "\n",
    "# histogramme des prix au km\n",
    "#  TODO "
   ]
  },
  {
   "cell_type": "markdown",
   "metadata": {},
   "source": [
    "### Elimination des valeurs abbérantes\n",
    "\n",
    "Il semble que quelques points abbérants faussent notre histogramme dans les prix au km. Nous proposons (arbitrairement) de seuiller toutes les valeurs au dessus du 99ème percentiles à la valeur du 99ème percentile. Vous pouvez tracer à nouveau l'histogramme pour voir la différence.\n",
    "**Note:** il s'agit d'une normalisation très classique en analyse de données. On peut seuiller ou éliminer les données qui semblent abérrantes.\n"
   ]
  },
  {
   "cell_type": "code",
   "execution_count": 40,
   "metadata": {},
   "outputs": [
    {
     "name": "stderr",
     "output_type": "stream",
     "text": [
      "/var/folders/_h/xz4nr0h53dj3x3tygxjnzl540000gn/T/ipykernel_36284/2872444305.py:4: SettingWithCopyWarning: \n",
      "A value is trying to be set on a copy of a slice from a DataFrame\n",
      "\n",
      "See the caveats in the documentation: https://pandas.pydata.org/pandas-docs/stable/user_guide/indexing.html#returning-a-view-versus-a-copy\n",
      "  df['prix_km'][df['prix_km']>seuil] = seuil\n"
     ]
    }
   ],
   "source": [
    "# elimination des valeurs aberrantes (calculer un seuil + seuiller = 2 lignes)\n",
    "#  TODO \n"
   ]
  },
  {
   "cell_type": "code",
   "execution_count": 41,
   "metadata": {},
   "outputs": [
    {
     "data": {
      "text/plain": [
       "<Axes: >"
      ]
     },
     "execution_count": 41,
     "metadata": {},
     "output_type": "execute_result"
    },
    {
     "data": {
      "image/png": "[encoded data removed]",
      "text/plain": [
       "<Figure size 640x480 with 1 Axes>"
      ]
     },
     "metadata": {},
     "output_type": "display_data"
    }
   ],
   "source": [
    "\n",
    "# tracé du nouvel histogramme\n",
    "#  TODO "
   ]
  },
  {
   "cell_type": "markdown",
   "metadata": {},
   "source": [
    "## Q4: Distributions jointes\n",
    "\n",
    "Nous voulons maintenant étudier la distribution jointe entre les prix au km et la marque de la voiture. Partir des distributions discétisées et construire le tableau d'effectif puis normaliser par les effectifs de l'échantillon pour estimer la loi jointe.\n",
    "\n",
    "\n",
    "1. Discrétiser les prix au km en 30 catégories (et stocker l'indice dans une nouvelle colonne).\n",
    "    - regarder la doc de `pd.cut`\n",
    "1. Compter les effectifs pour chaque marque et chaque catégorie de prix. Normaliser ensuite par l'effectif pour obtenir un tableau homogène à une loi jointe (ie sommant à 1).<BR>\n",
    "**Note:** il peut être plus facile de travailler sur la colonne marque (indice) plutôt que sur les chaines de caractères.    \n",
    "**Note 2/rappel:** les indices dans une matrice doivent toujours être entiers. `int(...)` \n",
    "Si vos données sont réelles, il faut donc faire: `mat[int(data[...])]` pour accéder à la case de la matrice\n",
    "    - possible à main (bon exercice pour les boucles)\n",
    "    - faisable en une ligne avec `pd.crosstab`\n",
    "1. Afficher ensuite la distribution jointe\n",
    "**Rappel:** \n",
    "pour ajouter une description sur l'axe des x:\n",
    "```python\n",
    "fig, ax = plt.subplots(1,1)\n",
    "plt.imshow(p_PM, interpolation='nearest')\n",
    "ax.set_xticks(np.arange(len(dico_marques)))\n",
    "ax.set_xticklabels(dico_marques.keys(),rotation=90,fontsize=8)\n",
    "plt.show()\n",
    "```\n",
    "- Si l'image est trop petite pour voir quelque chose: solution = sauvegarde en pdf (ie vectorielle) + ouverture avec un logiciel de lecture pdf\n",
    "```python\n",
    "plt.savefig('mafigure.pdf')\n",
    "```\n"
   ]
  },
  {
   "cell_type": "code",
   "execution_count": null,
   "metadata": {},
   "outputs": [],
   "source": [
    "# réponse\n",
    "Np = 30\n",
    "# calcul d'une discrétisation\n",
    "#  TODO \n",
    "\n",
    "# ajout de la catégorie de prix\n"
   ]
  },
  {
   "cell_type": "code",
   "execution_count": 65,
   "metadata": {},
   "outputs": [
    {
     "data": {
      "text/plain": [
       "[Text(0, 0, 'LADA'),\n",
       " Text(1, 0, 'OPEL'),\n",
       " Text(2, 0, 'DS'),\n",
       " Text(3, 0, 'VOLKSWAGEN'),\n",
       " Text(4, 0, 'GOLF'),\n",
       " Text(5, 0, 'MITSUBISHI'),\n",
       " Text(6, 0, 'FORD'),\n",
       " Text(7, 0, 'MINI'),\n",
       " Text(8, 0, 'IVECO'),\n",
       " Text(9, 0, 'JEEP'),\n",
       " Text(10, 0, 'LANCIA'),\n",
       " Text(11, 0, 'RANGE ROVER'),\n",
       " Text(12, 0, 'BMW'),\n",
       " Text(13, 0, 'TOYOTA'),\n",
       " Text(14, 0, 'SAAB'),\n",
       " Text(15, 0, 'RENAULT'),\n",
       " Text(16, 0, 'SEAT'),\n",
       " Text(17, 0, 'CITROEN'),\n",
       " Text(18, 0, 'SUBARU'),\n",
       " Text(19, 0, 'ROVER'),\n",
       " Text(20, 0, 'SUZUKI'),\n",
       " Text(21, 0, 'SUV LEXUS'),\n",
       " Text(22, 0, 'HYUNDAI'),\n",
       " Text(23, 0, 'PORSCHE'),\n",
       " Text(24, 0, 'SMART'),\n",
       " Text(25, 0, 'PEUGEOT'),\n",
       " Text(26, 0, 'CHEVROLET'),\n",
       " Text(27, 0, 'SKODA'),\n",
       " Text(28, 0, 'LAND ROVER'),\n",
       " Text(29, 0, 'DODGE'),\n",
       " Text(30, 0, 'DAEWOO'),\n",
       " Text(31, 0, 'MAZDA'),\n",
       " Text(32, 0, 'ISUZU'),\n",
       " Text(33, 0, 'LIDER'),\n",
       " Text(34, 0, 'SSANGYONG'),\n",
       " Text(35, 0, 'MERCEDES-BENZ'),\n",
       " Text(36, 0, 'INFINITI'),\n",
       " Text(37, 0, 'ALFA ROMEO'),\n",
       " Text(38, 0, 'MIETWAGEN'),\n",
       " Text(39, 0, 'JAGUAR'),\n",
       " Text(40, 0, 'NISSAN'),\n",
       " Text(41, 0, 'MERCEDES'),\n",
       " Text(42, 0, 'HUNDAI'),\n",
       " Text(43, 0, 'unknown'),\n",
       " Text(44, 0, 'LEXUS'),\n",
       " Text(45, 0, 'DACIA'),\n",
       " Text(46, 0, 'VOLVO'),\n",
       " Text(47, 0, 'TESLA'),\n",
       " Text(48, 0, 'MERCEDES BENZ'),\n",
       " Text(49, 0, 'AUDI'),\n",
       " Text(50, 0, 'FIAT'),\n",
       " Text(51, 0, 'CHRYSLER'),\n",
       " Text(52, 0, 'KIA'),\n",
       " Text(53, 0, 'HONDA')]"
      ]
     },
     "execution_count": 65,
     "metadata": {},
     "output_type": "execute_result"
    },
    {
     "data": {
      "text/plain": [
       "<Figure size 640x480 with 0 Axes>"
      ]
     },
     "metadata": {},
     "output_type": "display_data"
    },
    {
     "data": {
      "image/png": "[encoded data removed]",
      "text/plain": [
       "<Figure size 1500x500 with 1 Axes>"
      ]
     },
     "metadata": {},
     "output_type": "display_data"
    }
   ],
   "source": [
    "# réponse\n",
    "# Np =30 déjà défini\n",
    "Nm = len(dico_marques) # => ne pas mettre ces chiffres en dur ci-dessous => illisble\n",
    "\n",
    "# calcul des probabilites jointes (Prix, Marque)\n",
    "\n",
    "p_PM = np.zeros((Np,Nm))\n",
    "\n",
    "#  TODO \n",
    "\n",
    "# pour l'affichage, une fois le calcul effectué\n",
    "\n",
    "\n",
    "#plt.figure(figsize=(15,5))\n",
    "fig, ax = plt.subplots(1,1)                  # pour avoir un pointeur vers les axes\n",
    "fig.set_size_inches(15,5)\n",
    "ax.imshow(p_PM)\n",
    "ax.set_xticks(np.arange(p_PM.shape[1]))\n",
    "ax.set_xticklabels([inv_dico_marques[i] for i in range(len(inv_dico_marques))],rotation=90,fontsize=8) \n",
    "# ax.colorbar()"
   ]
  },
  {
   "cell_type": "markdown",
   "metadata": {},
   "source": [
    "## Q5 : Distributions conditionnelles\n",
    "\n",
    "Il est diffile d'analyser la probabilité jointe... Nous allons donc passer à la loi conditionnelle: nous voulons donc calculer la probabilité du prix au km conditionnellement à la marque de la voiture.\n",
    "\n",
    "1. Calculer `p_P_M`\n",
    "1. Proposer un critère rapide pour vérifier que votre distribution conditionnelle respecte bien les propriétés de base\n",
    "1. Dans le cas où les données de marques n'ont pas été nettoyées, cette distribution conditionnelle fait apparaitre des pics très marqués: à quoi correspondent ces pics? Pouvons-nous tirer parti de ces informations?"
   ]
  },
  {
   "cell_type": "code",
   "execution_count": null,
   "metadata": {},
   "outputs": [],
   "source": [
    "# loi conditionnelle distance | marque\n",
    "\n",
    "# calcul de la marginale sur les marques\n",
    "\n",
    "# calcul de la loi conditionnelle\n",
    "\n",
    "# critère rapide pour vérifier que la loi conditionnelle est bien formattée:\n",
    "\n",
    "# affichage de la loi conditionnelle\n"
   ]
  },
  {
   "cell_type": "markdown",
   "metadata": {},
   "source": [
    "### Réponse (à quoi correspondent ces pics)\n",
    "\n",
    "votre réponse"
   ]
  },
  {
   "cell_type": "markdown",
   "metadata": {},
   "source": [
    "## Q6: Tracé de l'ensemble de l'échantillon avec des codes couleurs\n",
    "\n",
    "Nous proposons ensuite de tracer toutes les trajectoires des voitures blablacar. Pour cela, il faut utiliser la commande `plt.plot`.\n",
    "Vous devez visualiser des trajectoires en étoiles à partir des 7 villes requêtes: `['Paris', 'Marseille', 'Grenoble', 'Lille', 'Strasbourg', 'Nantes', 'Bordeaux']`.\n",
    "\n",
    "1. [NE PAS FAIRE] Dans un premier temps, il est possible de donner toutes les coordoonées de toutes les trajectoires... Attention à l'ordre des arguments dans le plot:\n",
    "```plt.plot(tous_les_x, tous_les_y)```\n",
    "Afin de tracer des trajectoires, il faut envoyer les x et les y 2 par 2 dans une boucle `for` <BR>\n",
    "C'est très long et pas très joli...\n",
    "\n",
    "1. Pour éviter les boucles, il existe une méthode `quiver` dédiée au tracé de champs de vecteurs: ça ira beaucoup plus vite qu'avec plot. Il faut juste bien comprendre les mécanismes d'échelles. Pour utiliser l'échelle 1, la commande est la suivante:\n",
    "```python\n",
    "plt.quiver(x_dep, y_dep, delta_x, delta_y,\\\n",
    "            angles='xy', scale_units='xy', scale=1)\n",
    "```\n",
    "Rappel: les noms les colonnes utiles sont: `dep_coord_x, dep_coord_y, arr_coord_x, arr_coord_y` <BR>\n",
    "Cette approche est rapide à coder (une ligne) et rapide à exécuter (1 seconde)... Mais le résultat n'est pas très beau.\n",
    "\n",
    "1. Isoler les trajets proposés à partir de chacune des villes sachant que leurs coordonnées sont:\n",
    "```python\n",
    "coord = np.array([[45.18721767,  5.72345183],\n",
    " [47.22572172, -1.56558993],\n",
    " [50.63010695,  3.07071992],\n",
    " [48.5782548,   7.74078742],\n",
    " [44.83848889, -0.58156509],\n",
    " [43.2991509,   5.38925024],\n",
    " [48.8477201,   2.34607889]])\n",
    "```\n",
    "Chaque trajectoire (point de départ) sera rattachée à la ville la plus proche.\n",
    "Une fois la distance calculée pour chaque origine de trajectoire, vous pourrez avoir besoin de `argmin`\n",
    "1. Tracer les trajets d'une couleur spéciale en fonction des origines. \n",
    "\n"
   ]
  },
  {
   "cell_type": "code",
   "execution_count": null,
   "metadata": {},
   "outputs": [],
   "source": [
    "# tracé de l'ensemble des trajectoires => moche et lent\n",
    "\n",
    "plt.figure()\n",
    "for t in data:\n",
    "    plt.plot(t[[6,8]], t[[7,9]]) # dans les données au format numpy\n",
    "    \n",
    "plt.show()\n",
    "\n",
    "# note le code couleur est arbitraire: matplot lib change de couleur à chaque passage dans la boucle\n"
   ]
  },
  {
   "cell_type": "code",
   "execution_count": null,
   "metadata": {},
   "outputs": [],
   "source": [
    "# avec quiver\n"
   ]
  },
  {
   "cell_type": "code",
   "execution_count": null,
   "metadata": {},
   "outputs": [],
   "source": [
    "# avec quiver et des couleur\n",
    "\n",
    "# 1 recherche de la ville la plus proche du point de départ\n",
    "coord = np.array([[45.18721767,  5.72345183],\n",
    " [47.22572172, -1.56558993],\n",
    " [50.63010695,  3.07071992],\n",
    " [48.5782548,   7.74078742],\n",
    " [44.83848889, -0.58156509],\n",
    " [43.2991509,   5.38925024],\n",
    " [48.8477201,   2.34607889]])\n",
    "\n",
    "dep = np.vstack((df['dep_coord_x'], df['dep_coord_y'])).T\n",
    "print(dep[0]) # coordonnée de la première ville\n",
    "\n",
    "# calcul des distances => A vous de jouer\n",
    "dist = \n",
    "\n",
    "print(dist[0]) # distance du premier point aux 7 villes de référence\n",
    "\n",
    "# trouver la ville la plus proche (argmin)\n",
    "ind_ville = \n",
    "\n",
    "print(np.unique(ind_ville)) # vérifier que toutes les villes sont au moins sélectionnées une fois\n",
    "\n",
    "# affichage\n",
    "couleurs = ['r', 'g', 'b', 'y', 'm', 'k', 'c']\n",
    "\n",
    "plt.figure()\n",
    "for ind in range(len(coord)): # pour chaque ville\n",
    "    index  = ... # recherche des indices dans le tableau correspondant à la ville ind\n",
    "    \n",
    "    plt.quiver(df['dep_coord_x'].values[index], df['dep_coord_y'].values[index],\\\n",
    "           (df['arr_coord_x']-df['dep_coord_x']).values[index], (df['arr_coord_y']-df['dep_coord_y']).values[index],\\\n",
    "         angles='xy', scale_units='xy', scale=1, color = couleurs[ind])"
   ]
  },
  {
   "cell_type": "markdown",
   "metadata": {},
   "source": [
    "## Q7: Etude de la corrélation entre variables\n",
    "\n",
    "On propose d'étudier la corrélation entre la distance du trajet et le nombre d'étoiles de confort. Attention, les étoiles ne sont pas toujours renseignées (-1 = inconnu). On fera aussi ces opérations entre la distance et le prix.\n",
    "\n",
    "1. Tracer dans le plan les coordonnées (distance,etoile) pour les points concernés (ie en éliminant les points sans information sur les étoiles)\n",
    "\n",
    "Vous utiliserez la commande `scatter` pour réaliser l'opération\n",
    "1. Calculer le coefficient de corrélation entre les deux variables aléatoires\n",
    "\n",
    "1. refaire les mêmes opérations pour le deuxième couple de variables aléatoires\n"
   ]
  },
  {
   "cell_type": "code",
   "execution_count": null,
   "metadata": {},
   "outputs": [],
   "source": [
    "# test de corrélation entre la distance et le confort de la voiture\n",
    "\n",
    "# coef\n",
    "\n",
    "\n",
    "\n",
    "# test de corrélation entre la distance et le prix\n",
    "\n",
    "# coef\n",
    "\n"
   ]
  },
  {
   "cell_type": "markdown",
   "metadata": {
    "collapsed": true
   },
   "source": [
    "## Q8 : partie optionnelle\n",
    "\n",
    "Comparer les données de septembre et de novembre. Chercher les points communs et les différences."
   ]
  },
  {
   "cell_type": "code",
   "execution_count": null,
   "metadata": {
    "collapsed": true
   },
   "outputs": [],
   "source": []
  },
  {
   "cell_type": "markdown",
   "metadata": {},
   "source": [
    "### Question optionnelle (assez difficile) : mettre au propre les marques de voiture\n",
    "\n",
    "On remarque que les données ne sont pas propres au niveau des marques: proposer une technique pour mettre au propre le tableau et enlever les doublons. \n",
    "\n",
    "Une méthode consiste à identifier les doublons à la main et les fusionner. Une autre approche consiste à calculer des distances d'édition entre les marques et à mettre des seuils :\n",
    "```\n",
    "import Levenshtein\n",
    "mot1 = \"chat\"\n",
    "mot2 = \"chien\"\n",
    "distance = Levenshtein.distance(mot1, mot2)\n",
    "print(\"Distance d'édition :\", distance)\n",
    "```"
   ]
  },
  {
   "cell_type": "code",
   "execution_count": null,
   "metadata": {},
   "outputs": [
    {
     "name": "stdout",
     "output_type": "stream",
     "text": [
      "Collecting levenshtein\n",
      "  Downloading levenshtein-0.27.1-cp311-cp311-macosx_10_9_x86_64.whl.metadata (3.6 kB)\n",
      "Collecting rapidfuzz<4.0.0,>=3.9.0 (from levenshtein)\n",
      "  Downloading rapidfuzz-3.12.2-cp311-cp311-macosx_10_9_x86_64.whl.metadata (12 kB)\n",
      "Downloading levenshtein-0.27.1-cp311-cp311-macosx_10_9_x86_64.whl (174 kB)\n",
      "Downloading rapidfuzz-3.12.2-cp311-cp311-macosx_10_9_x86_64.whl (2.0 MB)\n",
      "\u001b[2K   \u001b[90m━━━━━━━━━━━━━━━━━━━━━━━━━━━━━━━━━━━━━━━━\u001b[0m \u001b[32m2.0/2.0 MB\u001b[0m \u001b[31m15.2 MB/s\u001b[0m eta \u001b[36m0:00:00\u001b[0m\n",
      "\u001b[?25hInstalling collected packages: rapidfuzz, levenshtein\n",
      "Successfully installed levenshtein-0.27.1 rapidfuzz-3.12.2\n"
     ]
    }
   ],
   "source": [
    "# A ne faire que si vous avez envie de traiter cette question avec une distance d'étition\n",
    "# # ! pip install levenshtein"
   ]
  },
  {
   "cell_type": "code",
   "execution_count": 12,
   "metadata": {},
   "outputs": [
    {
     "name": "stdout",
     "output_type": "stream",
     "text": [
      "FORD ['FIAT', 'HONDA', 'GOLF', 'BMW', 'LADA']\n",
      "BMW ['DS', 'KIA', 'FORD', 'JEEP', 'GOLF']\n",
      "ISUZU ['SUZUKI', 'NISSAN', 'IVECO', 'SAAB', 'DS']\n",
      "OPEL ['JEEP', 'ROVER', 'SAAB', 'FIAT', 'GOLF']\n",
      "LAND ROVER ['RANGE ROVER', 'ROVER', 'LIDER', 'ALFA ROMEO', 'LANCIA']\n",
      "LIDER ['ROVER', 'LADA', 'JEEP', 'DODGE', 'KIA']\n",
      "DS ['KIA', 'BMW', 'AUDI', 'LADA', 'FIAT']\n",
      "AUDI ['MINI', 'MAZDA', 'DS', 'HUNDAI', 'LADA']\n",
      "DACIA ['LANCIA', 'LADA', 'MAZDA', 'KIA', 'SKODA']\n",
      "JAGUAR ['LADA', 'SAAB', 'AUDI', 'DACIA', 'MAZDA']\n",
      "TOYOTA ['SKODA', 'TESLA', 'HONDA', 'FORD', 'LANCIA']\n",
      "SUZUKI ['ISUZU', 'HUNDAI', 'SUBARU', 'AUDI', 'SAAB']\n",
      "HUNDAI ['HYUNDAI', 'HONDA', 'AUDI', 'MINI', 'LADA']\n",
      "CITROEN ['NISSAN', 'MIETWAGEN', 'LIDER', 'CHEVROLET', 'ROVER']\n",
      "IVECO ['JEEP', 'ROVER', 'ISUZU', 'OPEL', 'VOLVO']\n",
      "RENAULT ['SEAT', 'SMART', 'TESLA', 'PEUGEOT', 'AUDI']\n",
      "SKODA ['LADA', 'MAZDA', 'HONDA', 'KIA', 'DODGE']\n",
      "ROVER ['OPEL', 'LIDER', 'FORD', 'GOLF', 'JEEP']\n",
      "MITSUBISHI ['SUBARU', 'ISUZU', 'INFINITI', 'MINI', 'NISSAN']\n",
      "MERCEDES-BENZ ['MERCEDES BENZ', 'MERCEDES', 'MIETWAGEN', 'PORSCHE', 'CITROEN']\n",
      "DODGE ['FORD', 'GOLF', 'LADA', 'HONDA', 'ROVER']\n",
      "ALFA ROMEO ['LAND ROVER', 'RANGE ROVER', 'CITROEN', 'DAEWOO', 'CHEVROLET']\n",
      "CHEVROLET ['CHRYSLER', 'CITROEN', 'ROVER', 'VOLVO', 'RENAULT']\n",
      "LANCIA ['DACIA', 'LADA', 'MINI', 'MAZDA', 'HONDA']\n",
      "INFINITI ['MINI', 'FIAT', 'HYUNDAI', 'NISSAN', 'HUNDAI']\n",
      "DAEWOO ['IVECO', 'DACIA', 'SAAB', 'LEXUS', 'LANCIA']\n",
      "MIETWAGEN ['VOLKSWAGEN', 'CITROEN', 'NISSAN', 'MERCEDES', 'CHEVROLET']\n",
      "VOLKSWAGEN ['MIETWAGEN', 'PORSCHE', 'NISSAN', 'DODGE', 'VOLVO']\n",
      "LADA ['MAZDA', 'LANCIA', 'SAAB', 'LIDER', 'DS']\n",
      "GOLF ['FORD', 'VOLVO', 'SAAB', 'FIAT', 'LADA']\n",
      "PORSCHE ['FORD', 'DODGE', 'MERCEDES', 'LANCIA', 'SAAB']\n",
      "NISSAN ['FIAT', 'ISUZU', 'SEAT', 'SAAB', 'TESLA']\n",
      "unknown ['FORD', 'LADA', 'GOLF', 'PORSCHE', 'NISSAN']\n",
      "SSANGYONG ['TOYOTA', 'GOLF', 'NISSAN', 'SKODA', 'SAAB']\n",
      "FIAT ['KIA', 'SEAT', 'FORD', 'SMART', 'SAAB']\n",
      "SAAB ['SEAT', 'LADA', 'SMART', 'KIA', 'FIAT']\n",
      "CHRYSLER ['ROVER', 'CHEVROLET', 'MERCEDES', 'CITROEN', 'LIDER']\n",
      "JEEP ['SEAT', 'OPEL', 'FIAT', 'GOLF', 'LADA']\n",
      "TESLA ['NISSAN', 'JEEP', 'OPEL', 'GOLF', 'LADA']\n",
      "PEUGEOT ['RENAULT', 'SEAT', 'JEEP', 'DODGE', 'GOLF']\n",
      "MERCEDES BENZ ['MERCEDES-BENZ', 'MERCEDES', 'MIETWAGEN', 'CHRYSLER', 'PORSCHE']\n",
      "MAZDA ['LADA', 'HONDA', 'SKODA', 'AUDI', 'DACIA']\n",
      "HONDA ['HUNDAI', 'FORD', 'MAZDA', 'LADA', 'SKODA']\n",
      "RANGE ROVER ['LAND ROVER', 'ALFA ROMEO', 'ROVER', 'CHEVROLET', 'SSANGYONG']\n",
      "SMART ['SEAT', 'SAAB', 'SUBARU', 'FIAT', 'LADA']\n",
      "KIA ['FIAT', 'DACIA', 'SEAT', 'DS', 'SAAB']\n",
      "VOLVO ['GOLF', 'FORD', 'OPEL', 'HONDA', 'DODGE']\n",
      "LEXUS ['SEAT', 'TESLA', 'LADA', 'DS', 'LIDER']\n",
      "SUBARU ['SMART', 'ISUZU', 'SAAB', 'SEAT', 'SUZUKI']\n",
      "SEAT ['FIAT', 'SMART', 'SAAB', 'JEEP', 'KIA']\n",
      "MINI ['FIAT', 'AUDI', 'KIA', 'FORD', 'LADA']\n",
      "SUV LEXUS ['LEXUS', 'SUBARU', 'ROVER', 'ISUZU', 'SEAT']\n",
      "MERCEDES ['MERCEDES BENZ', 'MERCEDES-BENZ', 'FORD', 'LEXUS', 'MAZDA']\n",
      "HYUNDAI ['HUNDAI', 'HONDA', 'AUDI', 'MINI', 'LADA']\n"
     ]
    }
   ],
   "source": [
    "import Levenshtein\n",
    "\n",
    "# détection des doublons potentiels:\n",
    "for m in inv_dico_marques.values(): # afficher pour chaque marque quelles sont les marques les plus proche (détection des doublons)\n",
    "    #print(m)\n",
    "    #  TODO "
   ]
  },
  {
   "cell_type": "code",
   "execution_count": null,
   "metadata": {},
   "outputs": [],
   "source": []
  }
 ],
 "metadata": {
  "kernelspec": {
   "display_name": "pyth-torch-numpy",
   "language": "python",
   "name": "python3"
  },
  "language_info": {
   "codemirror_mode": {
    "name": "ipython",
    "version": 3
   },
   "file_extension": ".py",
   "mimetype": "text/x-python",
   "name": "python",
   "nbconvert_exporter": "python",
   "pygments_lexer": "ipython3",
   "version": "3.11.10"
  }
 },
 "nbformat": 4,
 "nbformat_minor": 2
}
