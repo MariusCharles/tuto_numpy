{
 "cells": [
  {
   "attachments": {},
   "cell_type": "markdown",
   "metadata": {},
   "source": [
    "# Tutoriel numpy pour la création et la manipulation de base des matrices\n",
    "\n",
    "Une fois la base de python acquise, nous nous intéressons à la bibliothèque de calcul matriciel sur laquelle va reposer une bonne part des TP à venir. Cette bibliothèque s'appelle numpy.\n",
    "\n",
    "Ce choix implique néanmoins plusieurs difficultés dont vous devez avoir conscience afin mieux les appréhender.\n",
    "\n",
    "1. Les opérateurs de haut niveau ont parfois un comportement *magique*: toute ligne de code doit impérativement être comprise en profondeur par tous, il n'est pas acceptable de *tatonner jusqu'à ce que la syntaxe soit correcte*\n",
    "1. Pour accéder à ```numpy```, il faut passer par python... Ce qui implique de maitriser les deux syntaxes (au moins a minima). \n",
    "1. En plus de la maitrise minimum, il faut éviter les confusions: les listes python sont très proches des vecteurs ```numpy```... Mais les fonctions disponibles dessus sont différentes.\n",
    "\n",
    "\n",
    "**Rappel:**\n",
    "\n",
    "Pour executer une cellule : Shift + Entrée\n",
    "\n",
    "**Exercices** (marqués <span style=\"color:red\"> EXO</span>) Des exercices sont proposés régulièrement dans le notebook pour éviter *l'effet contemplatif* des exemples. Si vous maitrisez déjà les concepts de base et que les solutions vous semblent évidentes, n'héstiez pas à sauter des questions.\n",
    "\n",
    "Tous les exercices sont classés par ordre d'importance:  <span style=\"color:red\"> 1</span>=\"essentiel\", <span style=\"color:red\">2</span>=\"utile, <span style=\"color:red\">3</span>=\"optionnel et/ou avancé\""
   ]
  },
  {
   "cell_type": "code",
   "execution_count": 1,
   "metadata": {},
   "outputs": [
    {
     "name": "stdout",
     "output_type": "stream",
     "text": [
      "Import OK\n"
     ]
    }
   ],
   "source": [
    "# gestion des bibliothèques externes\n",
    "import numpy as np\n",
    "import matplotlib.pyplot as plt\n",
    "print(\"Import OK\") # affichage en fin de boite pour visualiser que l'exécution a bien eu lieue"
   ]
  },
  {
   "attachments": {},
   "cell_type": "markdown",
   "metadata": {},
   "source": [
    "## Créations de matrice par différentes méthodes\n",
    "\n",
    "**Approche 1:** utiliser les méthodes de ```numpy``` pour créer des matrices spéciales:\n",
    "\n",
    "  * [1, 2, 3, ...] (=arange)\n",
    "  * [0, 0, 0, ...] (=zeros)\n",
    "  * [1, 1, 1, ...] (=ones)\n",
    "\n",
    "Le but n'est pas d'apprendre *par coeur* toutes les méthodes mais de comprendre la philosophie de l'outil et de savoir revenir chercher les informations quand c'est nécessaire.\n",
    "Vous allez petit à petit apprendre ces fonctions à force de les utiliser.\n",
    "\n",
    "**Approche 2:** travailler en python avec des listes puis passer dans ```numpy``` à l'aide d'un *constructeur* de matrice\n",
    "\n",
    "**Approche 3:** charger les valeurs numériques d'un fichier dans une matrice ```numpy```\n",
    "\n",
    "\n",
    "Dans toutes les boites suivantes:\n",
    "\n",
    "1. Exécuter les boites\n",
    "1. Jouer avec les arguments de construction pour comprendre l'impact en ré-exécutant les boites.\n",
    "\n"
   ]
  },
  {
   "cell_type": "code",
   "execution_count": 10,
   "metadata": {
    "collapsed": true
   },
   "outputs": [
    {
     "name": "stdout",
     "output_type": "stream",
     "text": [
      "[0 1 2 3 4 5 6 7 8 9]\n"
     ]
    }
   ],
   "source": [
    "# Approche 1\n",
    "# Création de vecteurs\n",
    "v1 = np.arange(0, 10, 10) # create a range\n",
    "                         # arguments: start, stop, step\n",
    "\n",
    "v1 = np.arange(0, 10)    # with default step=1\n",
    "v1 = np.arange(10)       # default start=0\n",
    "print(v1)\n"
   ]
  },
  {
   "cell_type": "code",
   "execution_count": 8,
   "metadata": {},
   "outputs": [
    {
     "name": "stdout",
     "output_type": "stream",
     "text": [
      "[ 0.          0.71428571  1.42857143  2.14285714  2.85714286  3.57142857\n",
      "  4.28571429  5.          5.71428571  6.42857143  7.14285714  7.85714286\n",
      "  8.57142857  9.28571429 10.        ]\n"
     ]
    }
   ],
   "source": [
    "# Vecteur de 15 dimensions dont les valeurs sont entre 0 et 10 inclus\n",
    "v2 = np.linspace(0, 10, 15) # avec linspace, le début et la fin SONT inclus\n",
    "print(v2)"
   ]
  },
  {
   "cell_type": "code",
   "execution_count": 4,
   "metadata": {},
   "outputs": [
    {
     "name": "stdout",
     "output_type": "stream",
     "text": [
      "[1. 1. 1. 1. 1.]\n",
      "[[1. 1.]\n",
      " [1. 1.]\n",
      " [1. 1.]\n",
      " [1. 1.]\n",
      " [1. 1.]\n",
      " [1. 1.]\n",
      " [1. 1.]\n",
      " [1. 1.]\n",
      " [1. 1.]\n",
      " [1. 1.]]\n"
     ]
    }
   ],
   "source": [
    "v3 = np.ones(5)\n",
    "print(v3)\n",
    "\n",
    "m1 = np.ones((10,2))  # matrice de 1, argument = nuplet avec les dimensions\n",
    "                      # ATTENTION np.ones(10,2) ne marche pas. \n",
    "                      # Philosophie = toujours 1 argument, qui peut être un tuple pour créer plusieurs dimensions\n",
    "print(m1)\n"
   ]
  },
  {
   "cell_type": "code",
   "execution_count": 5,
   "metadata": {},
   "outputs": [
    {
     "name": "stdout",
     "output_type": "stream",
     "text": [
      "[[0. 0. 0. 0.]\n",
      " [0. 0. 0. 0.]\n",
      " [0. 0. 0. 0.]\n",
      " [0. 0. 0. 0.]\n",
      " [0. 0. 0. 0.]]\n",
      "[[1. 0. 0. 0.]\n",
      " [0. 1. 0. 0.]\n",
      " [0. 0. 1. 0.]\n",
      " [0. 0. 0. 1.]]\n",
      "[[0.01953184 0.69708148 0.19242464 0.56559701 0.56708813 0.0228512 ]\n",
      " [0.35467506 0.42107032 0.38977482 0.09838262 0.49859594 0.87262549]\n",
      " [0.97946822 0.42776728 0.51810541 0.54467017 0.07078437 0.94846336]\n",
      " [0.72059723 0.55628999 0.67715445 0.31365165 0.03244811 0.42427484]\n",
      " [0.99670258 0.70530749 0.02762253 0.86267706 0.0630047  0.76726544]]\n"
     ]
    }
   ],
   "source": [
    "\n",
    "m2 = np.zeros((5,4))  # matrice de 0\n",
    "m3 = np.eye(4)        # matrice identité carrée, arg = dimension\n",
    "print(m2)\n",
    "print(m3)\n",
    "\n",
    "m4 = np.random.rand(5,6)  # matrice de nombres aléatoires indépendants entre 0 et 1, args = dimensions\n",
    "                          # ATTENTION philosophie+syntaxe différentes de ones/zeros\n",
    "print(m4)"
   ]
  },
  {
   "cell_type": "markdown",
   "metadata": {},
   "source": [
    "validation graphique de la boite précédente \n",
    "\n",
    "[on verra le détail des fonctions graphiques dans les notebooks suivants]\n",
    "\n",
    "- Les fonctions graphiques permettent de mieux analyser les grandes matrices que le print\n",
    "- L'échelle de couleurs sur le coté est importante pour la compréhension"
   ]
  },
  {
   "cell_type": "code",
   "execution_count": 6,
   "metadata": {},
   "outputs": [
    {
     "data": {
      "text/plain": [
       "<matplotlib.colorbar.Colorbar at 0x20914d44980>"
      ]
     },
     "execution_count": 6,
     "metadata": {},
     "output_type": "execute_result"
    },
    {
     "data": {
      "image/png": "[encoded data removed]",
      "text/plain": [
       "<Figure size 640x480 with 2 Axes>"
      ]
     },
     "metadata": {},
     "output_type": "display_data"
    }
   ],
   "source": [
    "\n",
    "import matplotlib.pyplot as plt # nous allons voir ces fonctions un peu plus loin\n",
    "plt.imshow(m4, cmap='gray') # affichage de mat \n",
    "plt.colorbar()"
   ]
  },
  {
   "cell_type": "markdown",
   "metadata": {},
   "source": [
    "### La raison d'être de `numpy`proposer des structure de données et des opérateurs\n",
    "\n",
    "Les deux boites suivantes illustrent l'intérêt d'une bibliothèque comme numpy: la structure de données matricielle n'est pas suffisante, pour être exploitable, il faut aussi les opérateurs"
   ]
  },
  {
   "cell_type": "code",
   "execution_count": 11,
   "metadata": {
    "collapsed": false,
    "scrolled": true
   },
   "outputs": [
    {
     "name": "stdout",
     "output_type": "stream",
     "text": [
      "matrice python:  [[1, 2], [3, 4]]\n"
     ]
    },
    {
     "ename": "TypeError",
     "evalue": "can only concatenate list (not \"int\") to list",
     "output_type": "error",
     "traceback": [
      "\u001b[1;31m---------------------------------------------------------------------------\u001b[0m",
      "\u001b[1;31mTypeError\u001b[0m                                 Traceback (most recent call last)",
      "Cell \u001b[1;32mIn[11], line 7\u001b[0m\n\u001b[0;32m      5\u001b[0m \u001b[38;5;28mprint\u001b[39m(\u001b[38;5;124m\"\u001b[39m\u001b[38;5;124mmatrice python: \u001b[39m\u001b[38;5;124m\"\u001b[39m, mpy)                         \n\u001b[0;32m      6\u001b[0m \u001b[38;5;66;03m# test naïf:\u001b[39;00m\n\u001b[1;32m----> 7\u001b[0m \u001b[38;5;28mprint\u001b[39m(mpy \u001b[38;5;241m+\u001b[39m \u001b[38;5;241m1\u001b[39m)\n",
      "\u001b[1;31mTypeError\u001b[0m: can only concatenate list (not \"int\") to list"
     ]
    }
   ],
   "source": [
    "# approche naive: passage de python classique à numpy\n",
    "\n",
    "# Création de matrices\n",
    "mpy = [[1, 2], [3, 4]]     # matrice python = liste de liste\n",
    "print(\"matrice python: \", mpy)                         \n",
    "# test naïf:\n",
    "print(mpy + 1) # => ERREUR, on ne peut pas additionner 1 sur une liste python\n",
    "# il faut commenter la ligne précédente pour pouvoir exécuter la suite\n"
   ]
  },
  {
   "cell_type": "code",
   "execution_count": 12,
   "metadata": {},
   "outputs": [
    {
     "name": "stdout",
     "output_type": "stream",
     "text": [
      "matrice numpy: \n",
      " [[1 2]\n",
      " [3 4]]\n",
      "matrice numpy + 1: \n",
      " [[2 3]\n",
      " [4 5]]\n"
     ]
    }
   ],
   "source": [
    "\n",
    "# passage à numpy:\n",
    "mnp = np.array(mpy)\n",
    "print(\"matrice numpy: \\n\", mnp) # l'affichage est plus joli!\n",
    "\n",
    "# apercu des outils de haut niveau qui seront disponibles:\n",
    "print(\"matrice numpy + 1: \\n\",mnp + 1) # ca marche !\n"
   ]
  },
  {
   "cell_type": "code",
   "execution_count": 13,
   "metadata": {},
   "outputs": [
    {
     "name": "stdout",
     "output_type": "stream",
     "text": [
      "[[ 0  1  2  3  4]\n",
      " [10 11 12 13 14]\n",
      " [20 21 22 23 24]\n",
      " [30 31 32 33 34]\n",
      " [40 41 42 43 44]]\n"
     ]
    }
   ],
   "source": [
    "# approche 3: vers des matrices plus compliquées\n",
    "\n",
    "# syntaxe plus compliquée + matrice plus compliquée!\n",
    "# création de listes python en utilisant des boucles imbriquées:\n",
    "mpy2 = [[n+m*10 for n in range(5)] for m in range(5)]\n",
    "\n",
    "# création d'une structure numpy à partir d'une liste ou d'une liste de liste:\n",
    "mnp2 = np.array([[n+m*10 for n in range(5)] for m in range(5)]) # ou np.array(mp)\n",
    "print(mnp2)\n"
   ]
  },
  {
   "cell_type": "markdown",
   "metadata": {},
   "source": [
    "## <span style=\"color:red\"> EXO (1) de créations basiques</span>\n",
    "\n",
    "* Générer un vecteur numpy contenant les entiers successifs de 12 à 23\n",
    "* Afficher le résultat pour vérifier (notamment les bornes)\n",
    "* Générer une matrice numpy 20 x 50 avec des valeurs aléatoires entre 0 et 1\n",
    "* Afficher cette matrice pour bien comprendre les difficultés de manipulation des matrices de grandes dimensions."
   ]
  },
  {
   "cell_type": "code",
   "execution_count": 18,
   "metadata": {},
   "outputs": [
    {
     "name": "stdout",
     "output_type": "stream",
     "text": [
      "[12 13 14 15 16 17 18 19 20 21 22 23]\n",
      "[[7.53956504e-01 1.24672178e-01 3.65179417e-01 9.90702504e-01\n",
      "  5.77189215e-01 6.01977252e-01 2.89750501e-01 9.61246144e-01\n",
      "  1.13735199e-01 9.73780414e-01 8.37682202e-01 9.64183777e-01\n",
      "  8.94588848e-01 3.10836662e-01 4.64913856e-02 2.20972200e-01\n",
      "  7.71943316e-01 1.83504696e-01 1.90680649e-01 6.75763992e-01\n",
      "  4.25363932e-01 8.26186620e-01 3.68654866e-01 9.48466443e-01\n",
      "  6.18176140e-01 2.39506352e-01 9.76103202e-01 1.80250226e-01\n",
      "  4.78895281e-01 3.11848564e-01 6.44485182e-01 7.89508223e-01\n",
      "  5.38390688e-01 6.25717510e-01 1.14724519e-01 1.25994558e-01\n",
      "  3.24069378e-01 9.18915954e-01 3.97912243e-01 6.24089466e-01\n",
      "  1.35361959e-01 7.12616053e-01 3.98089627e-01 1.59699831e-01\n",
      "  7.43681118e-01 2.87614773e-01 7.71489223e-02 4.85620307e-01\n",
      "  5.59893377e-01 6.21674489e-01]\n",
      " [5.24899020e-01 8.59785948e-01 8.10649602e-01 7.85222697e-01\n",
      "  7.20536286e-02 4.17593815e-02 6.50209521e-01 4.48920310e-01\n",
      "  4.64525613e-01 2.40546469e-01 6.40853662e-02 8.24829116e-01\n",
      "  2.42904919e-01 2.08386003e-01 5.62994383e-01 7.52387529e-01\n",
      "  3.69708885e-01 2.28437823e-01 7.99843276e-01 5.09985824e-01\n",
      "  8.80197830e-01 1.29228724e-01 5.60796512e-01 7.52953846e-01\n",
      "  4.77611476e-02 4.57660442e-01 8.96100244e-01 4.64311338e-01\n",
      "  9.57823530e-01 8.71662453e-01 4.56894125e-01 2.37296396e-01\n",
      "  1.65441360e-01 7.05622107e-01 2.53793162e-01 6.76013703e-01\n",
      "  8.68042727e-01 1.26261039e-01 2.98891125e-01 7.97713912e-01\n",
      "  3.24292960e-01 3.10092145e-01 3.45624675e-02 6.23456185e-01\n",
      "  3.13861116e-01 1.10433923e-01 8.04664468e-01 8.94400294e-01\n",
      "  5.91712982e-01 2.31305169e-01]\n",
      " [5.39250168e-01 4.07184223e-01 4.28640400e-01 6.07208817e-01\n",
      "  4.40601118e-01 3.11248010e-01 7.23006821e-01 9.89502478e-02\n",
      "  7.25053514e-02 8.56225341e-01 2.84763190e-01 7.76266501e-01\n",
      "  6.34968906e-01 9.45244143e-01 4.46656202e-01 2.92214305e-01\n",
      "  2.36353759e-02 1.54126427e-01 4.87369995e-02 1.15402155e-01\n",
      "  2.33318913e-01 8.29037210e-01 5.64703241e-01 2.38676274e-01\n",
      "  7.91099263e-01 4.51408859e-01 9.54028210e-01 4.73614978e-01\n",
      "  9.86525751e-02 1.84245771e-02 1.11208425e-01 5.45368275e-01\n",
      "  8.89395821e-01 4.10628788e-01 4.29037704e-01 1.38201715e-01\n",
      "  7.89602446e-01 4.90050132e-01 3.49365237e-01 2.62576381e-01\n",
      "  7.82612622e-01 3.67784257e-01 9.14812411e-01 1.43279883e-01\n",
      "  1.03477266e-02 2.25012843e-02 3.72528166e-01 8.45627108e-01\n",
      "  7.85506086e-01 7.95464779e-01]\n",
      " [2.71774094e-01 4.01406603e-02 4.17626060e-01 8.39656876e-01\n",
      "  6.76812046e-01 3.03468857e-01 1.32208123e-01 2.48189817e-01\n",
      "  8.57983460e-01 4.37443559e-01 6.99872532e-01 2.83886629e-01\n",
      "  5.13864403e-01 1.39009382e-01 6.18576998e-01 7.87966943e-03\n",
      "  1.32198753e-01 6.70185637e-01 5.43048425e-01 4.23040812e-01\n",
      "  9.11135363e-02 6.46689908e-01 3.04250424e-01 1.19531996e-01\n",
      "  2.58634586e-01 6.66627786e-02 7.43649137e-01 6.62491289e-01\n",
      "  8.41111229e-01 4.54531703e-01 2.31985748e-01 5.13932511e-01\n",
      "  9.02773987e-01 7.06710392e-01 6.49819904e-01 1.87849733e-01\n",
      "  7.95914551e-01 5.99850927e-02 5.09825277e-01 4.25019074e-01\n",
      "  2.17496722e-01 3.66679034e-01 4.72985587e-02 3.95779602e-01\n",
      "  1.94522221e-01 4.83202187e-01 5.35229765e-01 4.32008142e-01\n",
      "  2.61585681e-01 8.80563285e-01]\n",
      " [7.28713542e-01 5.95180032e-01 4.64689126e-01 1.02834767e-01\n",
      "  4.19886923e-01 9.30149758e-01 8.03422443e-02 7.32269309e-01\n",
      "  2.64919721e-02 8.81164250e-01 8.46131907e-01 3.83586512e-01\n",
      "  4.14399982e-01 1.97541081e-01 9.29476312e-01 1.47749709e-01\n",
      "  4.44118066e-01 4.97603078e-01 7.53400830e-01 6.31388867e-01\n",
      "  6.67717292e-02 1.40767034e-01 1.88093029e-01 5.54106675e-01\n",
      "  1.60458166e-01 1.40055873e-01 9.88254011e-01 1.57744498e-01\n",
      "  6.62143903e-01 8.20486343e-02 5.42128609e-01 5.28679663e-01\n",
      "  3.46948051e-01 7.54745470e-01 8.40926485e-01 6.09408491e-01\n",
      "  9.44177490e-01 8.74246522e-01 1.43836598e-01 7.64558187e-01\n",
      "  2.26441274e-02 1.06940710e-01 5.78677807e-01 7.64065125e-01\n",
      "  2.05019410e-01 9.34461259e-02 5.81925483e-01 2.49093652e-01\n",
      "  7.28940987e-01 3.95776983e-01]\n",
      " [4.29425314e-01 8.56566233e-01 1.01173473e-01 5.82307058e-01\n",
      "  3.03527673e-01 6.02658206e-01 5.53714988e-01 5.46198408e-03\n",
      "  3.09315256e-01 9.23247698e-01 3.31722667e-02 2.56739302e-01\n",
      "  1.29090016e-01 7.20211039e-01 7.83142958e-01 2.45083294e-02\n",
      "  6.59063242e-01 3.14170504e-01 2.78816075e-01 4.97643788e-01\n",
      "  8.19635840e-01 3.18475170e-01 1.75522674e-01 5.25579815e-01\n",
      "  5.94791566e-01 2.84562409e-01 8.50753297e-01 4.33286645e-01\n",
      "  2.42939231e-01 9.38123964e-01 2.02426476e-01 6.63967377e-01\n",
      "  8.13305708e-01 6.07832228e-01 9.64602135e-01 5.04144247e-01\n",
      "  2.09312397e-01 7.21084034e-01 6.96565310e-01 4.79065091e-01\n",
      "  6.33873002e-01 5.30255118e-01 4.98905327e-01 6.22678393e-01\n",
      "  5.12487814e-01 4.29925427e-01 1.14539619e-01 5.60036820e-01\n",
      "  7.41493199e-01 1.32010243e-01]\n",
      " [9.90122681e-01 9.91201507e-01 1.29494111e-01 4.91675397e-02\n",
      "  4.74176643e-01 7.10051275e-01 5.59400096e-01 2.32675374e-02\n",
      "  1.50181566e-01 5.49053000e-01 1.11369683e-01 1.52458475e-01\n",
      "  8.61712618e-01 8.99283480e-01 1.51127594e-01 1.83849208e-01\n",
      "  8.09646300e-02 6.04832183e-01 6.77789103e-03 6.26569635e-01\n",
      "  2.16349707e-01 9.38489324e-01 1.22196650e-01 6.33482066e-01\n",
      "  1.31993922e-01 4.52698151e-01 3.63493631e-02 3.22653570e-01\n",
      "  7.92753192e-01 6.27183951e-01 8.26078138e-01 2.67700859e-02\n",
      "  4.76991223e-02 8.57339072e-01 8.59182431e-01 6.08897024e-01\n",
      "  9.01327400e-01 5.16020880e-01 4.68727557e-01 6.98969303e-01\n",
      "  8.25844201e-01 3.22147095e-01 4.50311014e-01 7.55297960e-01\n",
      "  2.42263490e-01 4.61240471e-02 8.57822171e-01 3.01118975e-01\n",
      "  9.76403597e-01 7.57069191e-01]\n",
      " [4.70853294e-01 9.23579853e-01 1.12110947e-01 3.29179674e-01\n",
      "  8.34625527e-01 1.14543152e-01 3.54361709e-01 1.97578521e-01\n",
      "  3.07249954e-01 8.12412894e-01 6.21430390e-01 4.30137392e-01\n",
      "  1.16649442e-01 2.21340082e-01 1.46873942e-01 1.61829483e-01\n",
      "  1.94510349e-02 6.54081223e-01 9.68722499e-01 4.99139227e-01\n",
      "  6.70897512e-01 2.96949614e-01 1.36746746e-01 2.96322435e-01\n",
      "  1.08011198e-01 5.71062397e-01 4.10611296e-01 2.58922107e-01\n",
      "  6.37046955e-01 5.70322589e-01 5.67209586e-01 1.98639096e-01\n",
      "  8.10635427e-01 5.85561037e-01 2.63252251e-01 2.23655413e-01\n",
      "  8.66570489e-01 3.65816086e-01 1.28430807e-01 5.13093226e-01\n",
      "  1.00768345e-01 7.08403780e-01 7.07519933e-02 7.56965592e-01\n",
      "  5.01940550e-01 7.68588032e-01 2.69695778e-01 4.45767580e-01\n",
      "  3.28987367e-01 6.16803725e-01]\n",
      " [2.92279670e-01 3.42002908e-01 2.81840311e-01 6.75266598e-01\n",
      "  1.06692204e-01 7.85452599e-01 6.81536203e-01 8.38430917e-01\n",
      "  6.72102258e-01 3.04942819e-01 6.57161376e-01 9.58128995e-01\n",
      "  8.86963683e-01 8.03403433e-01 2.34574027e-01 6.68904800e-01\n",
      "  7.22152415e-01 4.66127079e-01 8.03156575e-01 4.03923371e-01\n",
      "  5.79299027e-02 4.33042465e-01 9.34746196e-01 9.49592786e-01\n",
      "  6.86903539e-01 2.34834274e-01 4.90666117e-01 6.25838105e-01\n",
      "  5.58261181e-01 1.91303695e-02 2.63138231e-01 4.15522148e-01\n",
      "  1.44519553e-01 3.38331552e-01 8.49179566e-01 7.02980529e-01\n",
      "  7.87974350e-01 3.49834325e-01 5.61500900e-01 3.48784596e-01\n",
      "  5.57879934e-01 5.28472841e-01 3.80095770e-01 8.45961234e-01\n",
      "  9.64229114e-01 6.93782347e-01 7.37023306e-01 5.04708611e-01\n",
      "  7.86830812e-01 3.14835626e-01]\n",
      " [1.47627228e-01 6.28077004e-01 9.63179707e-01 2.76836074e-01\n",
      "  5.55081970e-01 5.70398330e-01 3.92709970e-01 1.51768230e-01\n",
      "  3.44649915e-01 9.26695580e-01 9.04023683e-01 5.68240009e-01\n",
      "  7.50588989e-02 2.82961965e-01 7.31747284e-01 6.71999550e-01\n",
      "  9.87715700e-01 3.76430133e-01 8.01218941e-01 1.89872535e-01\n",
      "  4.53258763e-01 2.25145690e-01 3.09140313e-01 5.59523759e-01\n",
      "  7.23530487e-01 2.67222300e-01 5.11711777e-01 7.24221828e-01\n",
      "  7.42842731e-01 1.33268233e-01 7.79510765e-01 2.25032566e-01\n",
      "  2.80558363e-01 9.54892906e-01 2.32046768e-01 1.49109837e-01\n",
      "  7.66872102e-01 8.83501992e-01 5.50240715e-01 7.67510865e-01\n",
      "  6.46660655e-01 7.64864248e-01 7.80176037e-01 1.73950217e-01\n",
      "  7.84504113e-01 5.40387388e-01 5.23313501e-01 3.96758371e-01\n",
      "  1.34559909e-01 3.86407744e-01]\n",
      " [6.69811733e-01 9.86388456e-01 8.50545319e-01 3.04408940e-01\n",
      "  2.86989191e-01 3.09920163e-01 3.35687116e-01 2.79177779e-01\n",
      "  3.98358315e-01 3.39347768e-01 5.05073267e-01 7.66889349e-01\n",
      "  9.04726757e-01 6.25331422e-01 9.54215885e-01 1.72848537e-01\n",
      "  6.92989945e-01 8.14230168e-01 5.27294801e-01 7.50420757e-01\n",
      "  9.89049400e-01 7.18508662e-01 4.35368342e-01 1.14606351e-01\n",
      "  4.85846527e-01 2.47295365e-02 8.94060739e-01 3.19892266e-01\n",
      "  4.08846828e-01 4.70406029e-01 4.51605912e-01 8.20791612e-01\n",
      "  1.99477828e-01 8.45283624e-01 1.85610548e-01 4.75757245e-01\n",
      "  9.05456363e-01 6.63364818e-01 6.91751026e-01 7.49918843e-02\n",
      "  2.02394297e-02 3.53505827e-03 6.27301004e-01 4.28446822e-01\n",
      "  4.48706967e-01 7.30202871e-01 3.75417564e-01 7.37743166e-01\n",
      "  3.29907572e-01 7.84576911e-01]\n",
      " [6.54643028e-01 3.92680123e-01 9.57226104e-01 7.79680670e-01\n",
      "  7.34949176e-01 9.52089815e-01 8.19109851e-01 8.48746430e-01\n",
      "  3.95764869e-01 4.95916392e-01 5.55177132e-01 7.93994934e-01\n",
      "  2.21223582e-01 8.12688634e-01 7.33015732e-01 8.56197041e-01\n",
      "  8.77862051e-01 9.65673109e-01 1.19911695e-01 4.91801861e-01\n",
      "  5.33459427e-01 1.10959661e-01 1.76686988e-02 4.73678446e-01\n",
      "  4.12754780e-01 8.77105638e-01 2.69739085e-01 1.17745146e-01\n",
      "  3.06336407e-01 1.79227310e-01 5.01119758e-01 6.62967658e-01\n",
      "  5.36647579e-01 9.95785187e-01 6.25770139e-01 3.80296939e-01\n",
      "  6.22096335e-01 9.61394091e-01 5.85746597e-01 2.11713837e-01\n",
      "  4.41833048e-01 4.87868819e-02 4.38312741e-01 4.08808058e-01\n",
      "  1.80614562e-01 7.53572264e-01 3.11873904e-02 2.64887368e-01\n",
      "  5.46564953e-01 4.58093042e-02]\n",
      " [7.77281472e-01 7.17899027e-02 6.78925453e-01 4.23919577e-01\n",
      "  6.21730259e-04 6.04741751e-01 3.36311505e-01 6.19664724e-01\n",
      "  5.84809840e-01 3.49320169e-01 6.65170366e-01 6.76948645e-01\n",
      "  4.27544776e-03 9.00806409e-01 8.17790975e-01 7.17454018e-01\n",
      "  4.61977011e-01 7.91911016e-01 3.50946160e-01 9.53810953e-03\n",
      "  9.46036497e-01 7.94493458e-01 2.79971055e-01 8.55319969e-01\n",
      "  3.52122698e-01 6.30857822e-01 2.16348285e-01 6.66908990e-01\n",
      "  2.50061570e-01 1.21591674e-01 9.44122694e-01 1.19907752e-01\n",
      "  5.55200374e-01 1.10599933e-01 6.61721111e-01 4.44033894e-01\n",
      "  1.24993581e-01 5.64087824e-01 6.36006862e-01 3.23093229e-01\n",
      "  1.36393012e-01 9.38182104e-01 8.56113144e-01 5.89124550e-01\n",
      "  3.94350114e-01 3.30800476e-01 9.92405146e-01 1.71092485e-02\n",
      "  7.76693777e-01 7.61843658e-01]\n",
      " [9.85168186e-01 7.37886235e-01 4.78478002e-01 2.51772283e-01\n",
      "  2.32593876e-01 8.35804129e-01 5.44468257e-01 7.10282428e-01\n",
      "  6.76355358e-01 8.67291740e-01 5.87108975e-01 4.69228014e-01\n",
      "  5.48507878e-01 9.16709379e-01 5.84194487e-01 6.51264499e-01\n",
      "  4.74093442e-01 5.38773684e-01 5.78230109e-01 1.89985374e-01\n",
      "  7.51943014e-01 1.39569660e-01 7.52847832e-01 4.94184442e-01\n",
      "  3.48320890e-01 7.83249401e-01 1.89371095e-01 9.23599607e-01\n",
      "  3.25290430e-01 4.32424274e-01 7.67273719e-01 8.77721384e-01\n",
      "  2.56816476e-01 7.25032319e-01 6.44908180e-01 4.34108028e-01\n",
      "  2.63575241e-01 6.50029801e-01 4.50082667e-01 4.15558749e-01\n",
      "  1.51853456e-01 5.20568090e-01 4.32712976e-01 9.20995172e-01\n",
      "  8.34507538e-01 8.81988164e-01 7.36533113e-01 4.13404030e-02\n",
      "  3.18602346e-01 8.19370418e-01]\n",
      " [3.14413481e-02 5.14567534e-01 1.41765469e-01 3.82476107e-01\n",
      "  2.25981223e-01 3.63076219e-01 3.30603035e-02 5.43756705e-01\n",
      "  1.30637082e-01 4.43765744e-01 4.33056073e-02 6.06019507e-01\n",
      "  9.95415249e-01 8.83702532e-01 4.71286335e-02 3.59414081e-02\n",
      "  5.54342338e-01 2.20195099e-01 6.20508596e-01 2.38906759e-01\n",
      "  8.59375507e-02 5.23458714e-01 7.87233531e-01 2.26234338e-01\n",
      "  6.47042630e-01 8.39021946e-01 9.49751517e-01 4.14675847e-01\n",
      "  5.97663939e-01 7.80589140e-01 5.27932841e-02 7.65191839e-01\n",
      "  6.63062180e-01 1.55484785e-01 8.06358989e-01 4.36428485e-01\n",
      "  1.70269031e-01 3.59394459e-01 1.44986009e-01 5.36697722e-01\n",
      "  4.28719342e-02 8.67163513e-01 1.75098296e-01 3.22311345e-02\n",
      "  8.46707386e-01 1.65087022e-01 1.22192223e-02 1.17072150e-01\n",
      "  7.29294802e-01 8.30423380e-01]\n",
      " [2.22853432e-01 1.88957093e-01 6.94726827e-01 1.41247817e-01\n",
      "  8.88291141e-01 5.43427668e-01 6.56991072e-01 2.75117989e-01\n",
      "  8.56443964e-01 6.07487273e-01 6.46571794e-01 3.37664447e-01\n",
      "  9.41198336e-01 6.66445878e-01 5.18673074e-01 3.28689337e-01\n",
      "  3.22765791e-01 4.75917815e-01 8.31561210e-01 7.63016068e-01\n",
      "  6.12889998e-01 3.50107122e-01 3.34623935e-03 3.35779609e-01\n",
      "  7.63844147e-01 5.26035432e-01 1.11188308e-01 9.01886156e-01\n",
      "  8.47547036e-01 2.59241586e-01 3.57261789e-01 7.70276484e-01\n",
      "  7.45520564e-01 2.87101139e-01 7.31167144e-01 4.90259349e-02\n",
      "  3.14860521e-02 3.01117334e-02 5.65686800e-01 9.18268201e-01\n",
      "  4.58423113e-01 3.83706338e-01 5.48758531e-01 5.10625823e-01\n",
      "  3.95660207e-01 8.05491985e-01 3.93857307e-01 5.08837427e-01\n",
      "  3.36406371e-01 8.43200176e-01]\n",
      " [4.21188282e-01 7.18814646e-01 1.85602162e-01 9.93265769e-01\n",
      "  9.12115155e-01 8.25915883e-01 9.36906646e-01 8.51284752e-01\n",
      "  5.67177111e-01 3.17185408e-01 4.74660942e-01 9.92291565e-01\n",
      "  4.98350306e-01 6.20422418e-01 8.18794707e-01 8.17810450e-01\n",
      "  1.52090060e-01 2.04222053e-01 9.87346605e-01 9.25863023e-02\n",
      "  2.71186117e-01 7.57819781e-01 7.70266946e-01 9.97443825e-01\n",
      "  4.02078537e-01 6.51601416e-01 2.30867655e-01 8.37117976e-01\n",
      "  5.95823498e-01 3.74595350e-01 3.58348284e-01 2.20552517e-01\n",
      "  6.79424072e-01 8.28403351e-01 6.55065231e-03 2.71113262e-01\n",
      "  3.74958636e-01 7.88506727e-01 8.01733929e-01 2.14974791e-01\n",
      "  1.55004969e-01 1.64206441e-01 8.14295256e-02 7.19138041e-01\n",
      "  9.76713717e-01 5.80509625e-01 9.42841808e-01 6.46419644e-01\n",
      "  5.27019962e-01 4.70866641e-01]\n",
      " [4.65375789e-02 9.58584143e-01 1.62759097e-01 7.65233873e-01\n",
      "  1.46126063e-01 2.19668331e-01 6.42561385e-01 6.79888489e-01\n",
      "  4.42440092e-01 3.25318686e-01 8.00694887e-01 1.97897675e-01\n",
      "  3.47934389e-01 1.53072391e-01 5.09828061e-01 3.78412270e-01\n",
      "  8.31897312e-01 2.61637747e-02 3.00563992e-01 9.50144430e-01\n",
      "  2.94885359e-01 1.27479713e-01 2.27202946e-01 8.24283076e-01\n",
      "  3.32529657e-01 4.91251617e-01 9.77797992e-01 6.57201281e-01\n",
      "  4.86557238e-01 1.62854961e-01 5.39241676e-01 3.47744584e-01\n",
      "  7.48419060e-01 8.38286397e-01 3.28579915e-01 6.84937236e-01\n",
      "  7.92898861e-01 8.89271657e-01 6.91992892e-01 8.35606725e-01\n",
      "  2.99855294e-01 6.78639101e-01 9.23161196e-02 7.33206111e-01\n",
      "  5.40241038e-01 1.71418547e-01 5.14347670e-01 5.10250514e-01\n",
      "  2.57154192e-01 5.97291026e-01]\n",
      " [9.66905177e-01 2.96639847e-01 1.07801247e-01 2.62924982e-01\n",
      "  8.01798701e-01 4.86154820e-02 3.05109248e-01 1.43875045e-01\n",
      "  4.89369596e-01 1.08359425e-01 3.89133150e-01 5.26045640e-01\n",
      "  6.05251427e-01 2.47013510e-01 6.64545815e-01 5.97034339e-01\n",
      "  4.60799177e-01 3.55514917e-01 1.83135660e-01 3.14321167e-01\n",
      "  7.65547965e-01 8.36751067e-01 2.90718354e-01 4.29588264e-01\n",
      "  9.45276985e-01 3.69652009e-01 2.09029559e-01 9.29444492e-01\n",
      "  8.55322396e-02 8.25343272e-01 8.40979838e-01 8.10295643e-01\n",
      "  6.11767310e-01 4.47667479e-02 2.34449482e-01 2.78312315e-01\n",
      "  4.71609388e-01 3.42721609e-01 2.73979418e-01 4.46857207e-01\n",
      "  4.24933919e-01 1.23872050e-01 5.11186902e-01 9.76549626e-02\n",
      "  8.66709564e-01 9.19216146e-01 3.46616225e-01 9.38730268e-01\n",
      "  5.96766433e-01 3.03825531e-01]\n",
      " [8.81108935e-01 6.79049353e-01 7.75382681e-01 4.84179020e-01\n",
      "  1.68635796e-01 1.77264111e-01 5.58247633e-01 4.91284214e-01\n",
      "  7.82965146e-01 3.69310072e-01 8.50887867e-01 4.09061860e-02\n",
      "  5.46483781e-01 8.50366407e-01 3.96736875e-01 9.89545390e-01\n",
      "  8.61919809e-01 7.48285470e-01 5.81100674e-01 6.51447854e-01\n",
      "  4.29303680e-01 9.25101742e-01 6.78417939e-01 6.57914156e-01\n",
      "  3.65433650e-01 7.80407209e-01 5.09180086e-01 1.46963376e-01\n",
      "  5.52362815e-01 8.35842537e-01 1.31624546e-01 2.42924269e-01\n",
      "  7.09984033e-02 1.63863864e-01 2.49136419e-01 4.59211506e-01\n",
      "  7.08552733e-01 9.03123106e-01 8.72500537e-01 4.20525956e-01\n",
      "  8.51277505e-01 3.71127090e-02 2.88792891e-01 5.51880458e-01\n",
      "  8.26846283e-01 8.59867530e-01 2.34462913e-01 2.65621748e-01\n",
      "  9.74256694e-01 4.07634518e-01]]\n"
     ]
    }
   ],
   "source": [
    "v_12_23 =np.arange(12,24)\n",
    "print(v_12_23)\n",
    "m_20_50 = np.random.rand(20,50)\n",
    "print(m_20_50)"
   ]
  },
  {
   "cell_type": "markdown",
   "metadata": {},
   "source": [
    "### Dimension des matrices et vecteurs\n",
    "\n",
    "Il est très important de distinguer les **vecteurs** (structures unidimensionelles, comme les listes) et les **matrices** (structures bidimensionnelles).\n",
    "\n",
    "1. Les calculs matricielles sont fait essentiellement entre **matrices**, il faut donc éviter les vecteurs pour les réaliser\n",
    "1. Même lorsqu'on démarre un calcul avec des **matrices**, certaines opérations numpy nous ramènent à des vecteurs... \n",
    "\n",
    "Il faut donc jongler entre les types, ce qui impose la maitrise de `reshape`\n"
   ]
  },
  {
   "cell_type": "code",
   "execution_count": null,
   "metadata": {},
   "outputs": [],
   "source": [
    "# 1.  Reconnaitre les vecteurs et les matrices:\n",
    "v = np.array([1, 2, 3]) # ceci est un vecteur\n",
    "m = np.array([[1, 2, 3]]) # ceci est une matrice d'une ligne\n",
    "\n",
    "# => Affichage des dimensions\n",
    "print(v.shape)\n",
    "print(m.shape)\n"
   ]
  },
  {
   "cell_type": "code",
   "execution_count": null,
   "metadata": {},
   "outputs": [],
   "source": [
    "# 2. Passer de l'un à l'autre\n",
    "\n",
    "v = np.array([1, 2, 3]) # vecteur\n",
    "print(v.shape)\n",
    "m_ligne = v.reshape(1, 3) # matrice 1 ligne, 3 colonnes\n",
    "print(m_ligne.shape)\n",
    "m_col = v.reshape(3, 1) # matrice 3 lignes, 1 colonne\n",
    "print(m_col.shape)"
   ]
  },
  {
   "cell_type": "code",
   "execution_count": null,
   "metadata": {},
   "outputs": [],
   "source": [
    "# ce qui correspond aux structures suivantes:\n",
    "print(m_ligne)\n",
    "print(m_col)"
   ]
  },
  {
   "cell_type": "code",
   "execution_count": null,
   "metadata": {},
   "outputs": [],
   "source": [
    "# Note: il est fastidieux de renseigner à la fois les lignes et les colonnes dans reshape, on utilise souvent un joker:\n",
    "\n",
    "v = np.array([1, 2, 3]) # vecteur\n",
    "print(v.shape)\n",
    "m_ligne = v.reshape(1, -1)  # matrice: je veux 1 ligne\n",
    "                            # numpy mettra autant de colonnes que nécessaire (i.e. 3)\n",
    "print(m_ligne.shape)\n",
    "m_col = v.reshape(-1, 1)    # matrice: je veux 1 colonne\n",
    "                            # numpy mettra autant de ligne que nécessaire (i.e. 3)\n",
    "print(m_col.shape)"
   ]
  },
  {
   "attachments": {},
   "cell_type": "markdown",
   "metadata": {},
   "source": [
    "# <span style=\"color:red\"> EXO(1)  Création d'un échiquier </span>\n",
    "\n",
    "Construire une matrice composée de 1 et 0 sur un carré de 8 cases par 8.\n",
    "\n",
    "Après avoir compléter la boite ci-dessous, vous devez obtenir une image de la forme:\n",
    "\n",
    "<img src=\"./ressources/check.png\" title=\"Résultat attendu\">\n",
    "\n",
    "**note:** la clé algorithmique est de voir que pour chaque case $(i,j)$, il faut mettre $1$ si $i+j$ est pair et $0$ sinon\n"
   ]
  },
  {
   "cell_type": "code",
   "execution_count": null,
   "metadata": {},
   "outputs": [],
   "source": [
    "# mat = # a completer\n",
    "\n",
    "#  TODO \n",
    "\n",
    "import matplotlib.pyplot as plt # nous allons voir ces fonctions un peu plus loin\n",
    "plt.imshow(mat, cmap='gray') # affichage de mat \n",
    "plt.colorbar()"
   ]
  },
  {
   "attachments": {},
   "cell_type": "markdown",
   "metadata": {},
   "source": [
    "# <span style=\"color:red\"> EXO(1)  Création d'une matrice diagonale spéciale </span>\n",
    "\n",
    "Construire une matrice diagonale carrée de 10 cases de coté dont la diagonale vaut 5 (et les autres cases 0).\n",
    "\n",
    "Note: la réponse est triviale = 1 ligne"
   ]
  },
  {
   "cell_type": "code",
   "execution_count": null,
   "metadata": {},
   "outputs": [],
   "source": [
    "# mat = # a completer\n",
    "\n",
    "#  TODO \n",
    "\n",
    "import matplotlib.pyplot as plt\n",
    "plt.imshow(mat, cmap='gray')\n",
    "plt.colorbar()"
   ]
  },
  {
   "attachments": {},
   "cell_type": "markdown",
   "metadata": {},
   "source": [
    "# <span style=\"color:red\"> EXO(1)  Création d'une matrice à partir d'un fichier </span>\n",
    "\n",
    "Afin de démontrer l'importation de valeurs depuis un fichier... Nous allons créer un fichier.\n",
    "\n",
    "1. Ouvrir un éditeur de texte (notepad, gedit, sublime, ...)\n",
    "1. Copier-coller le texte ci-dessous (les chiffres sont séparés par des tabulations):\n",
    "```\n",
    "1   2\n",
    "3   3\n",
    "4   2\n",
    "5   1\n",
    "```\n",
    "1. Sauver le fichier sous le nom: ```test.txt``` **dans le même répertoire que le notebook**\n",
    "1. Exécuter la boite ci-dessous qui doit lire le fichier\n",
    "\n",
    "La boite encore en dessous illustre la possibilité symétrique: le fait de sauver une matrice dans un fichier. Du point de vue de la programmation de bas niveau, ces opérations sont non triviales (ouverture/fermeture de fichier; lecture/écriture; ...) L'intérêt de numpy est justement de nous affranchir de ces difficultés opérationnelles pour nous concentrer sur les données elles-mêmes.\n"
   ]
  },
  {
   "cell_type": "code",
   "execution_count": null,
   "metadata": {},
   "outputs": [],
   "source": [
    "# lecture des données d'un fichier\n",
    "m5 = np.loadtxt(\"test.txt\")\n",
    "print(m5)\n",
    "# Vous pouvez modifier m5 à volonté, le fichier n'est pas impacté (ce qui est intuitif)"
   ]
  },
  {
   "cell_type": "code",
   "execution_count": null,
   "metadata": {},
   "outputs": [],
   "source": [
    "mat = np.ones((5,3))\n",
    "mat[1, 2] = 2 # modification d'une case (cf boite ci-dessous)\n",
    "np.savetxt(\"test2.txt\", mat)\n",
    "\n",
    "# aller vérifier que le fichier a bien été créé et l'ouvrir pour vérifier le contenu."
   ]
  },
  {
   "attachments": {},
   "cell_type": "markdown",
   "metadata": {},
   "source": [
    "## Récupération/affectation de valeurs\n",
    "\n",
    "La boite ci-dessous liste les opérations de lecture possible. Ajouter des ```print``` pour vérifier que vous avez compris les valeurs extraites.\n",
    "\n",
    "Sur les vecteurs, l'indicage est sans ambiguité:\n",
    "$$ A = [a_1, \\ldots, a_d] $$\n",
    "\n",
    "\n",
    "Sur les matrices, par contre, il faut comprendre la logique: le premier indice désigne les lignes, le second les colonnes.\n",
    "Lorsque que vous aurez initialisé une matrice de taille $(n,d)$, il faudra imaginer la structure de données suivante en faisant attention à l'ordre des arguments:\n",
    "\n",
    "$ M = \\begin{pmatrix}\n",
    "m_{11} & m_{12} & \\ldots & m_{1d} \\\\\n",
    "m_{21} & m_{22} & \\ldots & m_{2d} \\\\\n",
    "\\vdots &  \\vdots & \\ddots & \\vdots \\\\\n",
    "m_{n1} & m_{n2} & \\ldots & m_{nd} \\\\\n",
    "\\end{pmatrix} $\n",
    "\n",
    "Par exemple, pour accéder à la (deuxième ligne-première colonne), il faut faire : ```M[1,0]```\n",
    "\n",
    "Dans tous les cas, il faut ensuite distinguer l'accès à une valeur et l'accès à un bloc (série de valeurs ou sous-matrice).\n"
   ]
  },
  {
   "cell_type": "code",
   "execution_count": null,
   "metadata": {
    "collapsed": true
   },
   "outputs": [],
   "source": [
    "# accès aux différentes valeurs dans un VECTEUR numpy\n",
    "\n",
    "A = np.array([1,2,3,4,5])\n",
    "A[1:3]  # array([2, 3])\n",
    "\n",
    "# On peut omettre n'importe lequel des argument dans A[start:stop:step]:\n",
    "A[::] # indices de début, fin, et pas avec leurs valeurs par défaut\n",
    "      # array([ 1, 2, 3,  4,  5])\n",
    "A[::2] # pas = 2, indices de début et de fin par défaut\n",
    "       # array([ 1, 3,  5])\n",
    "A[:3] # les trois premiers éléments (indices 0,1,2)\n",
    "      # array([ 1, 2, 3])\n",
    "A[3:] # à partir de l'indice 3\n",
    "      # array([4, 5])\n",
    "\n",
    "# On peut utiliser des indices négatifs :\n",
    "A[-1] # le dernier élément\n",
    "      # 5\n",
    "A[-3:] # les 3 derniers éléments\n",
    "       # array([3, 4, 5])\n",
    "\n"
   ]
  },
  {
   "cell_type": "code",
   "execution_count": null,
   "metadata": {},
   "outputs": [],
   "source": [
    "# accès aux différentes valeurs dans une MATRICE numpy\n",
    "# => Passage de 1 à 2 dimensions\n",
    "\n",
    "mat   = np.ones((5,6)) \n",
    "mat[0,0] # récupération de la première valeur\n",
    "mat[0,:] # récupération de la première ligne\n",
    "mat[0,0:2] # récupération des valeurs d'indice 0 et 1\n",
    "# petites astuces supplémentaires\n",
    "mat[0,1:] # toute la ligne sauf la première case\n",
    "mat[0,:-1] # toute la ligne sauf la dernière case\n",
    "mat[0,:-2] # toute la ligne sauf les deux dernières cases    \n"
   ]
  },
  {
   "attachments": {},
   "cell_type": "markdown",
   "metadata": {},
   "source": [
    "**Trois manières d'utiliser ```:```**\n",
    "\n",
    "* Récupération de *toutes* les valeurs ```mat[0,:]```\n",
    "* Récupération d'un bloc de valeurs ```mat[0,1:4]```\n",
    "* [usage plus marginal] Récupération de valeurs par pas. E.g. entre les indices 1 et 10, mais avec un pas de 2 ```mat[0,1:10:2]```"
   ]
  },
  {
   "cell_type": "code",
   "execution_count": null,
   "metadata": {},
   "outputs": [],
   "source": [
    "mat   = np.zeros((5,6)) \n",
    "mat[:, 0:6:2] = 1 # création d'un matrice zébrée\n",
    "\n",
    "plt.imshow(mat)"
   ]
  },
  {
   "attachments": {},
   "cell_type": "markdown",
   "metadata": {},
   "source": [
    "# <span style=\"color:red\"> EXO(1)  Création d'une matrice contour </span>\n",
    "\n",
    "Construire une matrice rectangle de 6x8 cases dont toutes les cases sont à 0 sauf le contour qui est à 1. Vous répondrez à cette question SANS faire de boucle ```for```.\n",
    "\n"
   ]
  },
  {
   "cell_type": "code",
   "execution_count": null,
   "metadata": {},
   "outputs": [],
   "source": [
    "mat = \n",
    "# A compléter\n",
    "\n",
    "import matplotlib.pyplot as plt\n",
    "plt.imshow(mat, cmap='gray')\n",
    "plt.colorbar()\n"
   ]
  },
  {
   "attachments": {},
   "cell_type": "markdown",
   "metadata": {},
   "source": [
    "### Passage à l'affectation de valeurs sur certaines cases\n",
    "\n",
    "La syntaxe est la même, l'approche est assez intuitive."
   ]
  },
  {
   "cell_type": "code",
   "execution_count": null,
   "metadata": {},
   "outputs": [],
   "source": [
    "# Affectation de valeurs:\n",
    "# une matrice d'entier\n",
    "mat   = np.ones((5,6)) \n",
    "mat[0,0:2] = 2 # affectation en bloc\n",
    "mat[0,2:4] = np.zeros((1,2)) # affectation en bloc d'une autre matrice\n",
    "mat[1, :]  = np.arange(6)\n",
    "print(mat)\n",
    "\n",
    "# Matrice VS vecteur !!\n",
    "A = np.random.rand(5,3) # matrice 5x3\n",
    "print(A)\n",
    "B = A[2,:]              # extraction de la troisième ligne...\n",
    "                        # il s'agit d'un vecteur !!!\n",
    "print(B)\n",
    "B = A[2:3,:]            # extraction de la troisième ligne...\n",
    "                        # mais il s'agit d'une matrice (transposable) !!!\n",
    "print(B)"
   ]
  },
  {
   "attachments": {},
   "cell_type": "markdown",
   "metadata": {},
   "source": [
    "# <span style=\"color:red\"> EXO(2)  Création d'une matrice diagonale par bloc </span>\n",
    "\n",
    "Construire une matrice diagonale carrée de 10 cases dont la diagonale sera composée de 5 blocs 2x2. Le premier bloc aura pour valeur 1, le deuxième 2, etc...\n",
    "\n",
    "Note: une solution consiste à créer une matrice de 0 puis à faire **une seule** boucle `for` en jouant sur les indices pour mettre à jour les blocs.\n",
    "\n",
    "<img src=\"ressources/blocs.png\" title=\"Résultat attendu\">"
   ]
  },
  {
   "cell_type": "code",
   "execution_count": null,
   "metadata": {},
   "outputs": [],
   "source": [
    "mat = np.zeros((10,10))\n",
    "# A compléter\n",
    "#  TODO \n",
    "\n",
    "import matplotlib.pyplot as plt\n",
    "plt.imshow(mat, cmap='gray')\n",
    "plt.colorbar()\n"
   ]
  },
  {
   "attachments": {},
   "cell_type": "markdown",
   "metadata": {},
   "source": [
    "## Opérateurs de haut niveau sur les matrices\n",
    "\n",
    "Le fait de passer dans l'univers numpy ouvre des possibilités: il est possible de faire les opérations suivantes sur les matrices: agrégation, addition, soustraction, recherche de min, max, moyenne -globale, par ligne ou par colonne-, etc..."
   ]
  },
  {
   "cell_type": "code",
   "execution_count": null,
   "metadata": {
    "collapsed": true
   },
   "outputs": [],
   "source": [
    "# concaténation de matrices:\n",
    "# ATTENTION: la logique est la même que pour ones/zeros\n",
    "# => un seul argument sous la forme d'un tuple contenant les matrices à fusionner\n",
    "\n",
    "# fusion verticale\n",
    "m6 = np.vstack((np.array([[1, 2], [3, 4]]), np.ones((3,2))))\n",
    "print(m6)\n",
    "\n",
    "# fusion verticale + fusion horizontale\n",
    "m7 = np.vstack((np.array([1, 2, 3]), np.hstack((np.ones((3,2)), np.zeros((3,1))))))\n",
    "print(m7)\n"
   ]
  },
  {
   "attachments": {},
   "cell_type": "markdown",
   "metadata": {},
   "source": [
    "## <span style=\"color:red\">EXO(3) Génération de données et agrégation de matrices </span>\n",
    "\n",
    "Nous souhaitons créer une matrice 10x3 dont la première colonne contient les indices 1 à 10 dans l'ordre. La seconde colonne contiendra des nombres aléatoires entre 0 et 1. La troisième colonne ne contiendra que des 0.\n",
    "Vous ajouterez ensuite une ligne en haut de la matrice contenant les indices de colonne 1 à 3.\n",
    "\n",
    "**NB:** vous pouvez créer des matrices dans des matrices\n",
    "\n",
    "**NB2:** à la fin du processus, on veut un ```np.array```, il faut soit travailler en numpy tout le temps, soit penser à convertir les listes python.\n",
    "\n",
    "**NB3:** l'exercice suivant donne des indications utiles :)\n",
    "\n",
    "Exemple de résultat possible:\n",
    "\n",
    "    1.00000    2.00000    3.00000\n",
    "    1.00000    0.03479    0.00000\n",
    "    2.00000    0.66074    0.00000\n",
    "    3.00000    0.15187    0.00000\n",
    "    4.00000    0.03640    0.00000\n",
    "    5.00000    0.62497    0.00000\n",
    "    6.00000    0.54774    0.00000\n",
    "    7.00000    0.68919    0.00000\n",
    "    8.00000    0.86146    0.00000\n",
    "    9.00000    0.72030    0.00000\n",
    "    10.0000    0.84590    0.00000\n"
   ]
  },
  {
   "cell_type": "code",
   "execution_count": null,
   "metadata": {},
   "outputs": [],
   "source": [
    "# vorte réponse\n",
    "#  TODO "
   ]
  },
  {
   "attachments": {},
   "cell_type": "markdown",
   "metadata": {},
   "source": [
    "### Tailles des matrices\n",
    "\n",
    "Il est important de savoir accéder aux dimensions des matrices que l'on manipule. C'est une opération utile en générale... Mais surtout indispensable pour débugguer les programmes.\n",
    "\n",
    "Lorsque vous êtes face à une erreur, il faut comprendre d'où elle vient (évidemment !). On commence souvent par faire des ```print``` sur les matrices, ce qui est une bonne idée mais qui a des limites: dès que les matrices sont grandes, on ne voit plus rien...\n",
    "Il est alors bien plus pertinent de faire des vérifications sur les dimensions des matrices."
   ]
  },
  {
   "cell_type": "code",
   "execution_count": null,
   "metadata": {
    "collapsed": true
   },
   "outputs": [],
   "source": [
    "# pour une variable:\n",
    "mat.shape # (5,6)\n",
    "mat.shape[0] # 5\n",
    "mat.shape[1] # 6 \n",
    "n, m = mat.shape # retours multiples"
   ]
  },
  {
   "attachments": {},
   "cell_type": "markdown",
   "metadata": {},
   "source": [
    "## <span style=\"color:red\"> EXO(2) Debuggage </span>\n",
    "\n",
    "Problème de dimension... Les plus classiques en numpy!"
   ]
  },
  {
   "cell_type": "code",
   "execution_count": null,
   "metadata": {},
   "outputs": [],
   "source": [
    "# mini exercice de debuggage:\n",
    "# 1. Exécuter le code pour voir l'erreur\n",
    "# 2. Comprendre d'où vient le problème... En lisant le message puis en étudiant les dimensions des matrices de la ligne problématique\n",
    "\n",
    "mat = np.vstack((np.arange(5), np.hstack((np.ones((3,2)), np.zeros((3,2)))))) \n",
    "mat[1, 1] = 12\n",
    "print(mat)\n",
    "\n",
    "#  TODO "
   ]
  },
  {
   "attachments": {},
   "cell_type": "markdown",
   "metadata": {},
   "source": [
    "## Fonctions de base sur les matrices\n",
    "Additions, transposées etc..."
   ]
  },
  {
   "cell_type": "code",
   "execution_count": null,
   "metadata": {
    "collapsed": true
   },
   "outputs": [],
   "source": [
    "ma = np.random.rand(5,6)     \n",
    "# Transposition\n",
    "mat = ma.T          # pour la transposée \n",
    "mat = ma.transpose();    # ou bien\n",
    "mat = np.transpose(ma);  # ou bien\n",
    "# la plupart des fonctions numpy acceptent la syntaxe objet et la syntaxe non-objet."
   ]
  },
  {
   "cell_type": "code",
   "execution_count": null,
   "metadata": {
    "collapsed": true
   },
   "outputs": [],
   "source": [
    "# Addition / soustraction\n",
    "v1 = v1+ 3    # ou v1 += 3     % matrice + scalaire\n",
    "              # changement sur les toutes les valeurs de v1\n",
    "              # NB: le - fonctionne pareil\n",
    "\n",
    "# multiplication ne pas confondre les opérations matricielles et terme à terme:\n",
    "m1 = np.ones((10,1)) @ np.array([1,2,3]) # produit matriciel\n",
    "m2 = np.ones((10,3)) * 2                 # multiplication par un scalaire\n",
    "m3 = m1 * m2;            # multiplication terme à terme   \n",
    "# usage de .dot = @\n",
    "m1 = np.ones((10,1)).dot(np.array([[1,2,3]])) # Bien mieux: moins d'ambiguité!"
   ]
  },
  {
   "attachments": {},
   "cell_type": "markdown",
   "metadata": {},
   "source": [
    "Reflexion sur les recherches de valeurs et d'indices:\n",
    "\n",
    "Soit la matrice:\n",
    "\n",
    "$m =\\begin{pmatrix}\n",
    "5 & 2 & 1\\\\\n",
    "1 & 0.5 & 3\n",
    "\\end{pmatrix} $\n",
    "\n",
    "Il y a différente manière de s'intéresser au minimum, correspondant à différents usages dans différents algorithmes:\n",
    "\n",
    "1. Recherche de la plus petite valeur de la matrice: ```m.min()```\u001d $\\Rightarrow 0.5$\n",
    "1. Recherche des minima sur chaque colonne: ```m.min(0)``` ou ```m.min(axis=0)```\u001d\u001d $\\Rightarrow [1, 0.5, 1]$\n",
    "1. Recherche des indices sur lesquels sur trouvent les minima pour chaque colonne: ```m.argmin(0)``` ou ```m.argmin(axis=0)```\u001d\u001d$\\Rightarrow [1, 1, 0]$\n",
    "\n",
    "Nous utiliserons beaucoup ces fonctions, dans toutes leurs formes.\n"
   ]
  },
  {
   "cell_type": "code",
   "execution_count": null,
   "metadata": {
    "collapsed": false
   },
   "outputs": [],
   "source": [
    "# recherche du min dans une matrice\n",
    "# ajouter des print pour comprendre les méthodes\n",
    "\n",
    "print(\"Soit la matrice m1:\\n\",m1,\"\\n\")\n",
    "\n",
    "print(m1.min())   # syntaxe objet\n",
    "np.min(m1)        # autre syntaxe\n",
    "# recherche du minimum de chaque colonne:\n",
    "print(m1.min(axis=0)) # equivalent à m1.min(0)\n",
    "\n",
    "# recherche du minimum sur chaque ligne\n",
    "print(m1.min(1)) # equivalent à m1.min(axis=1)"
   ]
  },
  {
   "cell_type": "code",
   "execution_count": null,
   "metadata": {},
   "outputs": [],
   "source": [
    "# distinction min/argmin\n",
    "\n",
    "# travail en ligne/colonne\n",
    "m1 = np.array([[ 0.77846102,  0.22597046,  0.217657  ,  0.28958186], \\\n",
    "               [ 0.02133707,  0.03258567,  0.81939161,  0.2834734 ], \\\n",
    "               [ 0.92120271,  0.68409416,  0.24285983,  0.61582659]])\n",
    "m1.argmin()  # 4\n",
    "m1.argmin(0) # array([1, 1, 0, 1])\n",
    "m1.argmin(1) # array([2, 0, 2])\n",
    "\n",
    "# arrondis\n",
    "np.round(m1) # au plus proche\n",
    "np.ceil(m1)  # au dessus\n",
    "np.floor(m1) # au dessous\n",
    "\n",
    "# tris\n",
    "np.sort(m1)   # ligne par ligne\n",
    "np.sort(m1,0) # colonne par colonne\n",
    "np.sort(m1,1) # ligne par ligne\n",
    "\n",
    "# statistique de base\n",
    "m1.mean() # 0.427  -> sur toute la matrice\n",
    "m1.mean(0) # array([ 0.57366693,  0.31421676,  0.42663615,  0.39629395]) \n",
    "            # colonne par colonne\n",
    "m1.mean(1) # ligne par ligne\n",
    "\n",
    "# m1.std...\n",
    "# m1.sum...\n",
    "# m1.prod...\n",
    "# m1.cumsum..."
   ]
  },
  {
   "attachments": {},
   "cell_type": "markdown",
   "metadata": {},
   "source": [
    "## <span style=\"color:red\"> EXO(1) Calcul de moyennes, écarts-types </span>\n",
    "\n",
    "Soit la matrice de donnée suivante:\n",
    "```\n",
    "M = np.array([[8, 3, 7, 3, 2, 7, 9, 1, 2, 9],\n",
    "              [2, 1, 3, 7, 4, 2, 5, 4, 6, 0],\n",
    "              [5, 1, 4, 1, 1, 1, 0, 6, 5, 0]])\n",
    "```\n",
    "\n",
    "Construire la fonction ```stats``` qui prend en argument une matrice et retourne le vecteur contenant les moyennes des colonnes ET un second vecteur contenant les écarts-types des colonnes.\n",
    "\n",
    "**Note:** vous utiliserez directement les fonctions ```np.mean``` et ```np.std```, pas besoin de faire les calculs à la main.\n",
    "\n",
    "**Note 2:** une fonction définie par ```def mafonction(arg):``` peut retourner un tuple, c'est à dire plusieurs résultats agrégés dans une structure simple ```return vec1, vec2```. L'appel (le plus simple) à ma fonction sera de la forme: ```res1, res2 = mafonction(arg)```"
   ]
  },
  {
   "cell_type": "code",
   "execution_count": null,
   "metadata": {},
   "outputs": [],
   "source": [
    "M = np.array([[8, 3, 7, 3, 2, 7, 9, 1, 2, 9],\n",
    "              [2, 1, 3, 7, 4, 2, 5, 4, 6, 0],\n",
    "              [5, 1, 4, 1, 1, 1, 0, 6, 5, 0]])\n",
    "\n",
    "# Définition de la fonction\n",
    "\n",
    "#  TODO \n",
    "\n",
    "# Invocation de la fonction et récupération de 2 valeurs en retour\n",
    "#             "
   ]
  },
  {
   "attachments": {},
   "cell_type": "markdown",
   "metadata": {},
   "source": [
    "### Jouons avec les minima\n",
    "\n",
    "Gestion particulière du minimum: on a souvent besoin de retourner la valeur minimum parmi 2. En C/JAVA/Matlab, cela est réalisé avec min... Pas en python! => minimum"
   ]
  },
  {
   "cell_type": "code",
   "execution_count": null,
   "metadata": {
    "collapsed": true
   },
   "outputs": [],
   "source": [
    "# entre 2 valeurs\n",
    "np.minimum(2,3) # 2\n",
    "# entre 2 matrices\n",
    "m1 = np.random.rand(3,4)\n",
    "m2 = np.random.rand(3,4)    \n",
    "np.minimum(m1,m2) # matrice 3x4 contenant les valeurs min d'une comparaison terme à terme\n",
    "# entre une matrice et un scalaire: pour seuiller\n",
    "np.minimum(m1,0.5)\n",
    "# array([[ 0.5       ,  0.22597046,  0.217657  ,  0.28958186],\n",
    "#        [ 0.02133707,  0.03258567,  0.5       ,  0.2834734 ],\n",
    "#        [ 0.5       ,  0.5       ,  0.24285983,  0.5       ]])"
   ]
  },
  {
   "attachments": {},
   "cell_type": "markdown",
   "metadata": {},
   "source": [
    "# <span style=\"color:red\"> EXO(3) Manipulation standard de matrices </span>\n",
    "\n",
    "1. Générer une matrice ```10x3``` de valeurs distribuées selon une loi normale centrée réduite (```np.random.randn```)\n",
    "1. Faites en sorte que l'écart-type de la génératrice passe à 4 et vérifier que c'est le approximativement cas avec la fonction ```np.std```\n",
    "1. Centrer la première colonne sur 10, la seconde sur 12 et la troisième sur 14. Vérifier que les moyennes sont bonnes avec ```np.mean(axis=0)``` <BR> **NB:** il est impératif de travailler sur la dispersion avant le centrage (vérifiez cette affirmation en inversant les deux réponses si vous avez un doute)\n",
    "1. Seuiller toutes les valeurs inférieures à 5 avec ```np.maximum``` (i.e. toutes les valeurs inférieures à 5 sont mises à 5)\n",
    "1. Seuiller toutes les valeurs supérieures à 18\n",
    "1. Compter combien de valeurs se situent entre 8 et 12 (exclus) (question optionnelle: ce sera tellement plus simple une fois introduit ```np.where```)"
   ]
  },
  {
   "cell_type": "code",
   "execution_count": null,
   "metadata": {},
   "outputs": [],
   "source": [
    "#  TODO "
   ]
  },
  {
   "attachments": {},
   "cell_type": "markdown",
   "metadata": {},
   "source": [
    "## boucles avancées (bien pratiques)"
   ]
  },
  {
   "cell_type": "code",
   "execution_count": null,
   "metadata": {},
   "outputs": [],
   "source": [
    "v0 =np.arange(10)\n",
    "v1 = np.random.rand(10)\n",
    "\n",
    "print(v0,v1)\n",
    "\n",
    "for val0, val1 in zip(v0, v1):\n",
    "    print('indice ',val0, ' et valeur associée ', val1)\n",
    "    \n",
    "# note: il était possible d'obtenir le même résultat avec enumerate:\n",
    "for i, val in enumerate(v1):\n",
    "    print('indice ',i, ' et valeur associée ', val)"
   ]
  },
  {
   "attachments": {},
   "cell_type": "markdown",
   "metadata": {},
   "source": [
    "## Tests en bloc\n",
    "Exercice intéressant pour deux raisons\n",
    "1. connaitre cette syntaxe particulière\n",
    "1. **comprendre les messages d'erreur** lorsqu'on essaie de faire des tests sur une matrice sans ces instructions"
   ]
  },
  {
   "cell_type": "code",
   "execution_count": null,
   "metadata": {
    "collapsed": true
   },
   "outputs": [],
   "source": [
    "m = np.array([[1, 2], [3, 4]])\n",
    "\n",
    "if (m>1).all():\n",
    "    print(\"(1) sup to 1\")\n",
    "else:\n",
    "    print(\"(1) NOT sup to 1\")\n",
    "\n",
    "if (m>1).any():\n",
    "    print(\"(2) sup to 1\")\n",
    "else:\n",
    "    print(\"(2) NOT sup to 1\")"
   ]
  },
  {
   "cell_type": "code",
   "execution_count": null,
   "metadata": {},
   "outputs": [],
   "source": [
    "# Une erreur très classique qu'il faut savoir comprendre (ie comprendre le message associé) puis corriger\n",
    "# (1) executer le bloc (2) lire le message d'erreur et le comprendre\n",
    "# (3) proposer une correction en accord avec le message du print\n",
    "\n",
    "if m > 0:\n",
    "    print(\"les valeurs sont supérieures à 0\")\n"
   ]
  },
  {
   "attachments": {},
   "cell_type": "markdown",
   "metadata": {},
   "source": [
    "## Fonctions et vectorisation des fonctions de base\n",
    "Il est évidemment possible de définir des fonctions prenant des structures numpy en argument. Mais il est aussi possible de *vectoriser* une fonction qui n'était pas prévue pour fonctionner sur des matrices. Il s'agit d'une nouvelle manière d'éviter les boucles.\n",
    "\n",
    "1. On définit une fonction qui transforme UNE valeur\n",
    "1. On passe cette fonction dans ```np.vectorize```\n",
    "1. On peut appliquer cette fonction sur une matrice et chacune des cases sera traitée\n",
    "\n",
    "<span style=\"color:orange\">**Fonctionnalité hors programme (usage marginal)**</span>\n",
    "\n"
   ]
  },
  {
   "cell_type": "code",
   "execution_count": null,
   "metadata": {},
   "outputs": [],
   "source": [
    "def theta(x):           # signature classique \n",
    "    \"\"\"                  \n",
    "    Scalar implemenation of the Heaviside step function.\n",
    "    \"\"\"\n",
    "    if x >= 0:\n",
    "        return 1\n",
    "    else:\n",
    "        return 0\n",
    "    \n",
    "theta_vec = np.vectorize(theta)         # notation fonctionnelle (fonction sur des fonctions)\n",
    "res = theta_vec(np.array([-3,-2,-1,0,1,2,3]))\n",
    "print(res) # [0 0 0 1 1 1 1]"
   ]
  },
  {
   "attachments": {},
   "cell_type": "markdown",
   "metadata": {},
   "source": [
    "## <span style=\"color:red\"> EXO(3) Traduction de matrice </span>\n",
    "* Générer une matrice aléatoire `m` de taille (15,2) contenant des entiers aléatoires entre 0 et 3.\n",
    "* Construire le dictionnaire `dico` {0:'titi', 1:'toto', 2:'tata', 3:'tutu'}\n",
    "* La méthode `get` du dictionnaire permet de traduire une valeur de `m`\n",
    "* Utiliser la commande `np.vectorize` pour traduire en une ligne et sans boucle toute la matrice `m` en une matrice `mtxt`"
   ]
  },
  {
   "cell_type": "code",
   "execution_count": null,
   "metadata": {},
   "outputs": [],
   "source": [
    "#  TODO "
   ]
  },
  {
   "attachments": {},
   "cell_type": "markdown",
   "metadata": {},
   "source": [
    "## Vérification de l'état de la mémoire"
   ]
  },
  {
   "cell_type": "code",
   "execution_count": null,
   "metadata": {},
   "outputs": [],
   "source": [
    "%who"
   ]
  },
  {
   "attachments": {},
   "cell_type": "markdown",
   "metadata": {},
   "source": [
    "## Sauvegarde / chargement depuis numpy\n",
    "\n",
    "C'est la passerelle entre excel et numpy\n",
    "* Excel: save as csv\n",
    "* numpy : loadtxt\n",
    "* Ou l'inverse..."
   ]
  },
  {
   "cell_type": "code",
   "execution_count": null,
   "metadata": {
    "collapsed": true
   },
   "outputs": [],
   "source": [
    "m5 = np.array([[1, 2], [3, 4]])\n",
    "np.savetxt(\"ma-matrice.txt\", m5)\n",
    "# donne le fichier:\n",
    "# 1.000000000000000000e+00 2.000000000000000000e+00\n",
    "# 3.000000000000000000e+00 4.000000000000000000e+00\n",
    "np.savetxt(\"ma-matrice.txt\", m5, fmt='%.5f', delimiter=',')\n",
    "# donne le fichier:\n",
    "# 1.00000,2.00000\n",
    "# 3.00000,4.00000"
   ]
  },
  {
   "cell_type": "code",
   "execution_count": null,
   "metadata": {
    "collapsed": true
   },
   "outputs": [],
   "source": [
    "# fonction symétrique de chargement\n",
    "m6 = np.loadtxt(\"ma-matrice.txt\", delimiter=',')"
   ]
  },
  {
   "attachments": {},
   "cell_type": "markdown",
   "metadata": {},
   "source": [
    "## De numpy à python, usage de pickle\n",
    "\n",
    "loadtxt/savetxt: idéal pour numpy...\n",
    "    * Chargement/sauvegarde des matrices, format lisible de l'extérieur si besoin\n",
    "    * Echanges possibles avec d'autres langages: matlab, JAVA...\n",
    "... Mais pour le python en général, on préfère pickle\n",
    "    * Serialization généralisé: pour les valeurs, les objets (dont les matrices), les listes, les dictionnaires...\n",
    "    * Très facile à utiliser\n",
    "    * Utilisé par tout le monde en python... Donc à connaitre\n"
   ]
  },
  {
   "cell_type": "code",
   "execution_count": null,
   "metadata": {
    "collapsed": true
   },
   "outputs": [],
   "source": [
    "import pickle as pkl     # obligatoire pour pouvoir l'utiliser\n",
    "# sauvegarde d'un dictionnaire\n",
    "pkl.dump({\"m1\":m1, \"m2\":m2}, open(\"deuxmatrices.pkl\",\"wb\"))\n",
    "# chargement de données\n",
    "data = pkl.load(open('deuxmatrices.pkl','rb')) # attention à donner un file + option lecture (pas juste un nom de fichier)\n",
    "print(data['m1']) # accès standard dans les dictionnaires"
   ]
  },
  {
   "attachments": {},
   "cell_type": "markdown",
   "metadata": {},
   "source": [
    "## Matrice et type des données\n",
    "\n",
    "Toutes nos matrices étaient jusqu'ici des matrices de réels. Il est possible de définir (ou de transformer) des matrices qui contiennent des entiers voire des booléens en utilisant la syntaxe ci-dessous:"
   ]
  },
  {
   "cell_type": "code",
   "execution_count": null,
   "metadata": {
    "collapsed": true
   },
   "outputs": [],
   "source": [
    "# jouer avec les types des éléments internes aux matrices\n",
    "# une matrice d'entier\n",
    "matInt   = np.zeros((5,6), int) # matrice 5x6 de 0 (entiers)\n",
    "matBool  = np.zeros((5,6), bool) # matrice 5x6 de False (booléens)\n",
    "matBool2 = np.ones((5,6), bool) # matrice 5x6 de True (booléens)"
   ]
  },
  {
   "attachments": {},
   "cell_type": "markdown",
   "metadata": {},
   "source": [
    "## <span style=\"color:red\"> EXO(2) Table de contingence en numpy </span>\n",
    "\n",
    "Construction d'une liste de notes d'étudiants (50 notes entre 0 et 20): l'exercice est le même que celui proposé dans la partie python, mais **à réaliser entièrement dans l'environnement numpy**.\n",
    "\n",
    "* Génération d'un vecteur de notes tirées aléatoirement à l'aide de la fonction: ```np.random.randint``` \n",
    "* Création d'une nouvelle liste comptant combien de note de chaque niveau apparaissent dans la liste (table de contingence)\n",
    "* Création d'une troisième liste contenant toutes les notes supérieures à 10\n",
    "    \n",
    "Affichage des deux listes et vérification\n",
    "\n",
    "1. Il est intéressant de répondre à cet exercice avec des listes et des boucles... [OPT]\n",
    "1. Vous pouvez répondre en utilisant la fonction ```np.unique```. Regardez la documentation pour voir comment avoir accès au comptage. La dernière question peut-être résolue facilement avec un ```np.where``` qui sera abordée dans le prochain notebook. "
   ]
  },
  {
   "cell_type": "code",
   "execution_count": null,
   "metadata": {},
   "outputs": [],
   "source": [
    "#  TODO \n"
   ]
  },
  {
   "attachments": {},
   "cell_type": "markdown",
   "metadata": {},
   "source": [
    "## <span style=\"color:red\"> EXO(3) Premier contact avec la documentation </span>\n",
    "\n",
    "Vous allez générer la matrice suivante:\n",
    "```\n",
    "[[0 1 2 0 1 2]\n",
    " [0 1 2 0 1 2]\n",
    " [0 1 2 0 1 2]\n",
    " [0 1 2 0 1 2]\n",
    " [0 1 2 0 1 2]\n",
    " [0 1 2 0 1 2]\n",
    " [0 1 2 0 1 2]\n",
    " [0 1 2 0 1 2]\n",
    " [0 1 2 0 1 2]\n",
    " [0 1 2 0 1 2]]\n",
    "```\n",
    "Cette génération peut se faire en une ligne à condition d'utiliser la fonction ```np.tile``` dont la documentation se trouve : \n",
    "https://numpy.org/doc/stable/reference/generated/numpy.tile.html\n",
    "\n",
    "Au-delà de la question formelle, l'enjeu est d'apprendre à se servir de la documentation de numpy."
   ]
  },
  {
   "cell_type": "code",
   "execution_count": null,
   "metadata": {},
   "outputs": [],
   "source": [
    "#  TODO "
   ]
  },
  {
   "attachments": {},
   "cell_type": "markdown",
   "metadata": {},
   "source": [
    "## <span style=\"color:red\"> EXO(3) Travail en plus grande dimension </span>\n",
    "\n",
    "numpy ne vous limite pas à 2 dimensions...\n",
    "1. Créer un cube ```C``` de dimension ```4x3x2``` (avec la fonction ```np.zeros``` par exemple). Dans la suite on choisira de voire cette structure de données comme 4 matrices ```3x2```. Vérifier que vous pouvez acceder à la matrice ```i``` par la commande ```C[i]```.\n",
    "1. Remplir ce cube avec 15 valeurs aléatoires tirées entre 0 et 10 et positionnées dans des cases aléatoires\n",
    "1. Diviser le cube par des facteurs de normalisation de sorte à ce que chaque matrice ```3x2``` ait une somme de ```1```. Afficher les matrices pour vérifier *à l'oeil* que les sommes sont bonnes.\n",
    "1. Remplacer la sous-matrice ```2``` par une matrice remplie de 1.\n",
    "\n"
   ]
  },
  {
   "cell_type": "code",
   "execution_count": null,
   "metadata": {
    "collapsed": true
   },
   "outputs": [],
   "source": [
    "#  TODO "
   ]
  },
  {
   "cell_type": "code",
   "execution_count": null,
   "metadata": {},
   "outputs": [],
   "source": []
  },
  {
   "attachments": {},
   "cell_type": "markdown",
   "metadata": {},
   "source": [
    "# Fabrication du sujet à partir de la correction"
   ]
  },
  {
   "cell_type": "code",
   "execution_count": null,
   "metadata": {},
   "outputs": [],
   "source": [
    "import re\n",
    "# transformation de cet énoncé en version étudiante\n",
    "\n",
    "fname = \"2_Tutoriel_numpy_creation_matrice-corr.ipynb\" # ce fichier\n",
    "fout  = fname.replace(\"-corr\",\"\")\n",
    "\n",
    "# print(\"Fichier de sortie: \", fout )\n",
    "\n",
    "f = open(fname, \"r\")\n",
    "txt = f.read()\n",
    " \n",
    "f.close()\n",
    "\n",
    "\n",
    "f2 = open(fout, \"w\")\n",
    "f2.write(re.sub(\" TODO )\",\" TODO \",\\\n",
    "    txt, flags=re.DOTALL))\n",
    "f2.close()\n",
    "\n"
   ]
  },
  {
   "cell_type": "code",
   "execution_count": null,
   "metadata": {},
   "outputs": [],
   "source": []
  }
 ],
 "metadata": {
  "kernelspec": {
   "display_name": "base",
   "language": "python",
   "name": "python3"
  },
  "language_info": {
   "codemirror_mode": {
    "name": "ipython",
    "version": 3
   },
   "file_extension": ".py",
   "mimetype": "text/x-python",
   "name": "python",
   "nbconvert_exporter": "python",
   "pygments_lexer": "ipython3",
   "version": "3.13.5"
  }
 },
 "nbformat": 4,
 "nbformat_minor": 2
}
