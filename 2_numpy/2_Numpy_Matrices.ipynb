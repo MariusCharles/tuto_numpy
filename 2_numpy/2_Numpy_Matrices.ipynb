{
 "cells": [
  {
   "attachments": {},
   "cell_type": "markdown",
   "metadata": {},
   "source": [
    "# Calcul matriciel et pièges en numpy\n",
    "\n",
    "Un des principaux défauts de ```numpy``` (par rapport à des environnement comme Matlab par exemple) est la **différentiation entre les vecteurs et les matrices**... Cet aspect va poser de nombreux problèmes.\n",
    "\n",
    "Le second défaut réside dans le **dispatch dynamique**: python essaie de faire marcher les calculs, même quand les dimensions des matrices sont incompatibles... Ca fait gagner un peu de temps parfois... Et ça crée des bugs insurmontables d'autres fois.\n",
    "\n",
    "\n",
    "**Rappel:**\n",
    "\n",
    "Pour executer une cellule : Shift + Entrée\n",
    "\n",
    "**Exercices** (marqués <span style=\"color:red\"> EXO</span>) Des exercices sont proposés régulièrement dans le notebook pour éviter *l'effet contemplatif* des exemples. Si vous maitrisez déjà les concepts de base et que les solutions vous semblent évidentes, n'héstiez pas à sauter des questions.\n",
    "\n",
    "Tous les exercices sont classés par ordre d'importance:  <span style=\"color:red\"> 1</span>=\"essentiel\", <span style=\"color:red\">2</span>=\"utile, <span style=\"color:red\">3</span>=\"optionnel et/ou avancé\""
   ]
  },
  {
   "cell_type": "code",
   "execution_count": 1,
   "metadata": {},
   "outputs": [],
   "source": [
    "import numpy as np\n",
    "import matplotlib.pyplot as plt"
   ]
  },
  {
   "attachments": {},
   "cell_type": "markdown",
   "metadata": {},
   "source": [
    "# Produit matriciel\n",
    "\n",
    "Il ne faut pas confondre le produit terme à terme, entre matrices de mêmes dimensions et le produit matriciel qui est un ensemble de produits scalaires. \n",
    "Dans le produit matriciel, le nombre de colonne de la première matrice doit correspondre au nombre de ligne de la seconde/\n",
    "\n",
    "\n",
    "<img src=\"./ressources/matrix_mult.png\" width=\"200px\">\n",
    "\n",
    "$$ {\\color {red}c_{{12}}}=\\sum _{{r=1}}^{2}a_{{1r}}b_{{r2}}=a_{{11}}b_{{12}}+a_{{12}}b_{{22}}$$\n",
    "\n",
    "$$ {\\color {blue}c_{{33}}}=\\sum _{{r=1}}^{2}a_{{3r}}b_{{r3}}=a_{{31}}b_{{13}}+a_{{32}}b_{{23}}$$"
   ]
  },
  {
   "cell_type": "code",
   "execution_count": 2,
   "metadata": {},
   "outputs": [
    {
     "name": "stdout",
     "output_type": "stream",
     "text": [
      "A= [[0. 1.]\n",
      " [2. 3.]\n",
      " [4. 5.]\n",
      " [6. 7.]] \n",
      " B= [[5. 4. 3.]\n",
      " [2. 1. 0.]]\n",
      "[[ 2.  1.  0.]\n",
      " [16. 11.  6.]\n",
      " [30. 21. 12.]\n",
      " [44. 31. 18.]]\n"
     ]
    }
   ],
   "source": [
    "A = np.array([[0., 1], [2, 3], [4, 5], [6, 7]])\n",
    "B = np.array([[5., 4, 3], [2, 1, 0]])\n",
    "print(\"A=\",A,\"\\n B=\",B)\n",
    "\n",
    "# calcul de produit matriciel, par différents moyens\n",
    "C  = A@B # le plus clair (d'après moi)\n",
    "C2 = A.dot(B)\n",
    "\n",
    "print(C)"
   ]
  },
  {
   "cell_type": "code",
   "execution_count": 3,
   "metadata": {},
   "outputs": [
    {
     "ename": "ValueError",
     "evalue": "matmul: Input operand 1 has a mismatch in its core dimension 0, with gufunc signature (n?,k),(k,m?)->(n?,m?) (size 3 is different from 2)",
     "output_type": "error",
     "traceback": [
      "\u001b[1;31m---------------------------------------------------------------------------\u001b[0m",
      "\u001b[1;31mValueError\u001b[0m                                Traceback (most recent call last)",
      "Cell \u001b[1;32mIn[3], line 7\u001b[0m\n\u001b[0;32m      4\u001b[0m A \u001b[38;5;241m=\u001b[39m np\u001b[38;5;241m.\u001b[39marray([[\u001b[38;5;241m0.\u001b[39m, \u001b[38;5;241m1\u001b[39m], [\u001b[38;5;241m2\u001b[39m, \u001b[38;5;241m3\u001b[39m], [\u001b[38;5;241m4\u001b[39m, \u001b[38;5;241m5\u001b[39m], [\u001b[38;5;241m6\u001b[39m, \u001b[38;5;241m7\u001b[39m]])\n\u001b[0;32m      5\u001b[0m M \u001b[38;5;241m=\u001b[39m np\u001b[38;5;241m.\u001b[39marray([[\u001b[38;5;241m0.\u001b[39m, \u001b[38;5;241m1\u001b[39m], [\u001b[38;5;241m2\u001b[39m, \u001b[38;5;241m3\u001b[39m], [\u001b[38;5;241m4\u001b[39m, \u001b[38;5;241m5\u001b[39m]])\n\u001b[1;32m----> 7\u001b[0m \u001b[38;5;28mprint\u001b[39m(A\u001b[38;5;129m@M\u001b[39m)\n",
      "\u001b[1;31mValueError\u001b[0m: matmul: Input operand 1 has a mismatch in its core dimension 0, with gufunc signature (n?,k),(k,m?)->(n?,m?) (size 3 is different from 2)"
     ]
    }
   ],
   "source": [
    "# test sur des matrices incompatibles (matriciel)\n",
    "# le nombre de colonne de A doit être égal au nombre de ligne de B\n",
    "\n",
    "A = np.array([[0., 1], [2, 3], [4, 5], [6, 7]])\n",
    "M = np.array([[0., 1], [2, 3], [4, 5]])\n",
    "\n",
    "print(A@M) # matriciel"
   ]
  },
  {
   "cell_type": "code",
   "execution_count": 4,
   "metadata": {},
   "outputs": [
    {
     "ename": "ValueError",
     "evalue": "operands could not be broadcast together with shapes (4,2) (3,2) ",
     "output_type": "error",
     "traceback": [
      "\u001b[1;31m---------------------------------------------------------------------------\u001b[0m",
      "\u001b[1;31mValueError\u001b[0m                                Traceback (most recent call last)",
      "Cell \u001b[1;32mIn[4], line 3\u001b[0m\n\u001b[0;32m      1\u001b[0m \u001b[38;5;66;03m# et le produit terme à terme, uniquement entre matrices de même dimension\u001b[39;00m\n\u001b[1;32m----> 3\u001b[0m \u001b[38;5;28mprint\u001b[39m(A\u001b[38;5;241m*\u001b[39mM)\n",
      "\u001b[1;31mValueError\u001b[0m: operands could not be broadcast together with shapes (4,2) (3,2) "
     ]
    }
   ],
   "source": [
    "# et le produit terme à terme, uniquement entre matrices de même dimension\n",
    "\n",
    "print(A*M) # terme à terme"
   ]
  },
  {
   "cell_type": "code",
   "execution_count": 5,
   "metadata": {},
   "outputs": [
    {
     "name": "stdout",
     "output_type": "stream",
     "text": [
      "[[ 0.  2.]\n",
      " [ 4.  3.]\n",
      " [ 4. 10.]\n",
      " [12.  7.]]\n"
     ]
    }
   ],
   "source": [
    "# et le produit terme à terme, uniquement entre matrices de même dimension\n",
    "# cas correct\n",
    "\n",
    "A = np.array([[0., 1], [2, 3], [4, 5], [6, 7]])\n",
    "A2 = np.array([[1., 2], [2, 1], [1, 2], [2, 1]])\n",
    "\n",
    "print(A*A2)"
   ]
  },
  {
   "cell_type": "code",
   "execution_count": 6,
   "metadata": {},
   "outputs": [
    {
     "ename": "ValueError",
     "evalue": "operands could not be broadcast together with shapes (4,2) (2,3) ",
     "output_type": "error",
     "traceback": [
      "\u001b[1;31m---------------------------------------------------------------------------\u001b[0m",
      "\u001b[1;31mValueError\u001b[0m                                Traceback (most recent call last)",
      "Cell \u001b[1;32mIn[6], line 3\u001b[0m\n\u001b[0;32m      1\u001b[0m \u001b[38;5;66;03m# test sur des données incompatibles (terme à terme)\u001b[39;00m\n\u001b[1;32m----> 3\u001b[0m C3 \u001b[38;5;241m=\u001b[39m A\u001b[38;5;241m*\u001b[39mB\n",
      "\u001b[1;31mValueError\u001b[0m: operands could not be broadcast together with shapes (4,2) (2,3) "
     ]
    }
   ],
   "source": [
    "# test sur des données incompatibles (terme à terme)\n",
    "\n",
    "C3 = A*B # Comprendre le message d'erreur (il va être récurrent !)"
   ]
  },
  {
   "cell_type": "markdown",
   "metadata": {},
   "source": [
    "### <span style=\"color:red\"> EXO (3) reprogrammer la multiplication matricielle </span>\n",
    "\n",
    "[plutot pour les étudiants qui ne sont pas familier avec le produit matriciel]\n",
    "1. Dessiner les matrice au brouillon\n",
    "2. Algo en 3 boucles à identifier"
   ]
  },
  {
   "cell_type": "code",
   "execution_count": 9,
   "metadata": {},
   "outputs": [
    {
     "name": "stdout",
     "output_type": "stream",
     "text": [
      "REFERENCE\n",
      "[[ 2.  1.  0.]\n",
      " [16. 11.  6.]\n",
      " [30. 21. 12.]\n",
      " [44. 31. 18.]]\n",
      "NOUVELLE FONCTION\n",
      "[[ 2.  1.  0.]\n",
      " [16. 11.  6.]\n",
      " [30. 21. 12.]\n",
      " [44. 31. 18.]]\n"
     ]
    }
   ],
   "source": [
    "# soit les matrices (compatibles)\n",
    "A = np.array([[0., 1], [2, 3], [4, 5], [6, 7]])\n",
    "B = np.array([[5., 4, 3], [2, 1, 0]])\n",
    "\n",
    "# fonction de calcul matricielle\n",
    "\n",
    "def calc_mat(a, b):\n",
    "    \"\"\"calcul le produit matriciel de a par b\"\"\"\n",
    "    C = np.zeros((a.shape[0], b.shape[1]))\n",
    "    for i in range(a.shape[0]): # parcours des lignes de a\n",
    "        for j in range(b.shape[1]): # parcours des colonnes de b\n",
    "            for k in range(a.shape[1]): # parcours des colonnes de a (ou lignes de b)\n",
    "                C[i,j] += a[i,k]*b[k,j]\n",
    "    return C\n",
    "\n",
    "# test\n",
    "print(\"REFERENCE\")\n",
    "print(A@B)\n",
    "print(\"NOUVELLE FONCTION\")\n",
    "print(calc_mat(A,B))"
   ]
  },
  {
   "attachments": {},
   "cell_type": "markdown",
   "metadata": {},
   "source": [
    "## Types de données"
   ]
  },
  {
   "cell_type": "code",
   "execution_count": 10,
   "metadata": {},
   "outputs": [
    {
     "name": "stdout",
     "output_type": "stream",
     "text": [
      "(10,)\n"
     ]
    }
   ],
   "source": [
    "# Les commandes ci-dessous créent des vecteurs\n",
    "\n",
    "v1=np.random.rand(10)\n",
    "v2=np.array([1, 4, 18])\n",
    "v3=np.ones(12)\n",
    "\n",
    "print(v1.shape)"
   ]
  },
  {
   "cell_type": "code",
   "execution_count": 11,
   "metadata": {},
   "outputs": [
    {
     "name": "stdout",
     "output_type": "stream",
     "text": [
      "(10, 2)\n"
     ]
    }
   ],
   "source": [
    "# Les commandes ci-dessous créent des matrices\n",
    "\n",
    "m1=np.random.rand(10,2)\n",
    "m2=np.array([[1, 4, 18],[2, 4, 6]])\n",
    "m3=np.ones((12,2))\n",
    "\n",
    "print(m1.shape)"
   ]
  },
  {
   "cell_type": "code",
   "execution_count": 12,
   "metadata": {},
   "outputs": [
    {
     "name": "stdout",
     "output_type": "stream",
     "text": [
      "v2 et m2 ne sont pas du même type:  (3,) (1, 3)\n",
      "[23. 23. 23.]\n",
      "[23. 23. 23.]\n"
     ]
    },
    {
     "ename": "ValueError",
     "evalue": "matmul: Input operand 1 has a mismatch in its core dimension 0, with gufunc signature (n?,k),(k,m?)->(n?,m?) (size 1 is different from 3)",
     "output_type": "error",
     "traceback": [
      "\u001b[1;31m---------------------------------------------------------------------------\u001b[0m",
      "\u001b[1;31mValueError\u001b[0m                                Traceback (most recent call last)",
      "Cell \u001b[1;32mIn[12], line 14\u001b[0m\n\u001b[0;32m     12\u001b[0m tv2_bis \u001b[38;5;241m=\u001b[39m v2\u001b[38;5;129m@np\u001b[39m\u001b[38;5;241m.\u001b[39mones((\u001b[38;5;241m3\u001b[39m, \u001b[38;5;241m3\u001b[39m))\n\u001b[0;32m     13\u001b[0m \u001b[38;5;28mprint\u001b[39m(tv2_bis) \u001b[38;5;66;03m# il prend le vecteur en ligne => OK\u001b[39;00m\n\u001b[1;32m---> 14\u001b[0m tm2 \u001b[38;5;241m=\u001b[39m np\u001b[38;5;241m.\u001b[39mones((\u001b[38;5;241m3\u001b[39m, \u001b[38;5;241m3\u001b[39m))\u001b[38;5;129m@m2\u001b[39m\n\u001b[0;32m     15\u001b[0m \u001b[38;5;28mprint\u001b[39m(tm2)\n",
      "\u001b[1;31mValueError\u001b[0m: matmul: Input operand 1 has a mismatch in its core dimension 0, with gufunc signature (n?,k),(k,m?)->(n?,m?) (size 1 is different from 3)"
     ]
    }
   ],
   "source": [
    "# Cas limite\n",
    "# attention, ces deux objets ne vont pas avoir le même comportement selon les fonctions utilisées\n",
    "\n",
    "v2 = np.array([1, 4, 18])\n",
    "# et \n",
    "m2 = np.array([[1, 4, 18]])\n",
    "\n",
    "print(\"v2 et m2 ne sont pas du même type: \", v2.shape, m2.shape)\n",
    "\n",
    "tv2 = np.ones((3, 3))@v2\n",
    "print(tv2) # il prend le vecteur en colonne => OK\n",
    "tv2_bis = v2@np.ones((3, 3))\n",
    "print(tv2_bis) # il prend le vecteur en ligne => OK\n",
    "tm2 = np.ones((3, 3))@m2\n",
    "print(tm2) # les dimensions sont incompatibles (pas de degré de liberté quand les dimensions sont fixées)\n"
   ]
  },
  {
   "cell_type": "code",
   "execution_count": null,
   "metadata": {},
   "outputs": [],
   "source": [
    "# extraire une ligne ou une colonne => générer un vecteur (et pas une matrice)\n",
    "# => nous sommes obligé de jongler avec les types de données\n",
    "\n",
    "m1 = np.random.rand(10,3)\n",
    "v4 = m1[:,1]   # extraction d'une colonne => vecteur\n",
    "m4 = m1[:,1:3] # extraction de deux colonnes => matrice\n",
    "x1 = m1[:,1:2] # extraction d'une seule colonnes, mais en syntaxe matricielle => ???\n",
    "\n",
    "print(v4.shape, m4.shape)\n",
    "print(x1.shape) # => matrice !!"
   ]
  },
  {
   "attachments": {},
   "cell_type": "markdown",
   "metadata": {},
   "source": [
    "### Pourquoi ces différences de types posent problème?"
   ]
  },
  {
   "cell_type": "code",
   "execution_count": 13,
   "metadata": {},
   "outputs": [],
   "source": [
    "# Definition de 3 versions de B\n",
    "\n",
    "A     = np.array([[0., 1], [2, 3], [4, 5], [6, 7]])\n",
    "B_col = np.array([[1.], [2]]) # matrice (=en forme de vecteur colonne)\n",
    "B_li  = np.array([[1., 2]])   # matrice (=en forme de vecteur ligne)\n",
    "B_vec = np.array([1., 2])     # vecteur\n"
   ]
  },
  {
   "cell_type": "code",
   "execution_count": 14,
   "metadata": {},
   "outputs": [
    {
     "name": "stdout",
     "output_type": "stream",
     "text": [
      "[[ 2.]\n",
      " [ 8.]\n",
      " [14.]\n",
      " [20.]]\n",
      "[ 2.  8. 14. 20.]\n",
      "[[ 2.]\n",
      " [ 8.]\n",
      " [14.]\n",
      " [20.]]\n",
      "[ 2.  8. 14. 20.]\n",
      "\n",
      "\n",
      "[[ 0.  2.]\n",
      " [ 2.  6.]\n",
      " [ 4. 10.]\n",
      " [ 6. 14.]]\n",
      "[[ 0.  2.]\n",
      " [ 2.  6.]\n",
      " [ 4. 10.]\n",
      " [ 6. 14.]]\n"
     ]
    }
   ],
   "source": [
    "\n",
    "# les cas qui marchent\n",
    "print(A@B_col)\n",
    "print(A@B_vec) # les résultats n'ont pas les mêmes dimensions\n",
    "print(A.dot(B_col))\n",
    "print(A.dot(B_vec)) # les résultats n'ont pas les mêmes dimensions\n",
    "\n",
    "print(\"\\n\")\n",
    "\n",
    "# \n",
    "print(A*B_li)    # Catastrophe => ca ne fait pas d'erreur\n",
    "print(A*B_vec)   # Catastrophe => ca ne fait pas d'erreur"
   ]
  },
  {
   "cell_type": "code",
   "execution_count": null,
   "metadata": {},
   "outputs": [],
   "source": [
    "# les cas qui ne marchent pas (1)\n",
    "print(A@B_li) # KO pour les dimensions => raisonnable, mais attention aux versions de python\n"
   ]
  },
  {
   "cell_type": "code",
   "execution_count": null,
   "metadata": {},
   "outputs": [],
   "source": [
    "# les cas qui ne marchent pas (2)\n",
    "\n",
    "print(A*B_col) # Erreur => c'est logique"
   ]
  },
  {
   "cell_type": "code",
   "execution_count": null,
   "metadata": {},
   "outputs": [],
   "source": [
    "B_col = np.array([[1.], [2]]) # matrice (=en forme de vecteur colonne)\n",
    "B_li  = np.array([[1., 2]])   # matrice (=en forme de vecteur ligne)\n",
    "B_vec = np.array([1., 2])     #\n",
    "\n",
    "print(B_li@B_col) # le calcul est propre... Et renvoie une matrice\n",
    "# print(B_li@B_li)  # KO\n",
    "print(B_vec@B_vec) # produit scalaire\n",
    "print(B_vec@B_col) # renvoie un vecteur\n"
   ]
  },
  {
   "cell_type": "code",
   "execution_count": null,
   "metadata": {},
   "outputs": [],
   "source": [
    "# tentons dans l'autre sens\n",
    "# \n",
    "print(B_col @ B_li) # renvoie une matrice (OK)\n",
    "# print(B_col @ B_vec) # KO : alors qu'on  voudrait intuitivement que ça marche\n",
    "print(B_vec * B_li) # OK\n",
    "print(B_vec * B_col) # => WAOUH , carrement n'importe quoi !!"
   ]
  },
  {
   "attachments": {},
   "cell_type": "markdown",
   "metadata": {},
   "source": [
    "## Dispatch dynamique\n",
    "\n",
    "Beaucoup de comportements étranges sont liés à cette fonctionnalité. Partons d'un exemple simple et étudions les différentes solutions pratiques:\n",
    "\n",
    "    # Soit la matrice A:\n",
    "    A = np.array([[0., 1], [2, 3], [4, 5], [6, 7]])\n",
    "    # Je souhaite multiplier chaque ligne par le vecteur [1,2]"
   ]
  },
  {
   "cell_type": "code",
   "execution_count": null,
   "metadata": {},
   "outputs": [],
   "source": [
    "# Soit la matrice A:\n",
    "A = np.array([[0., 1], [2, 3], [4, 5], [6, 7]])\n",
    "\n",
    "# Je souhaite multiplier chaque ligne par le vecteur [1,2]\n"
   ]
  },
  {
   "cell_type": "code",
   "execution_count": null,
   "metadata": {},
   "outputs": [],
   "source": [
    "# solution 1: developpeur standard avec des boucles\n",
    "\n",
    "B = A.copy()\n",
    "for ligne in B:\n",
    "    ligne *= [1,2]\n",
    "print(B)"
   ]
  },
  {
   "cell_type": "code",
   "execution_count": null,
   "metadata": {},
   "outputs": [],
   "source": [
    "# solution 2: raisonnement matriciel, je veux juste multiplier la seconde colonne par un scalaire\n",
    "B = A.copy()\n",
    "B[:,1] *= 2\n",
    "print(B)"
   ]
  },
  {
   "cell_type": "code",
   "execution_count": null,
   "metadata": {},
   "outputs": [],
   "source": [
    "# solution 3: je crée une matrice pour ensuite faire une multiplication terme à terme\n",
    "\n",
    "M = np.ones((4,2))\n",
    "M[:,1] *= 2\n",
    "B = A*M\n",
    "print(B)"
   ]
  },
  {
   "cell_type": "code",
   "execution_count": null,
   "metadata": {},
   "outputs": [],
   "source": [
    "# solution 4: dispatch dynamique\n",
    "# ça ne devrait pas marcher... MAIS\n",
    "#   1. python détecte que le nb de colonne est compatible\n",
    "#   2. python applique l'opération sur chaque ligne automatiquement\n",
    "#   => pratique... Mais risqué: il faut connaitre ce truc pour détecter les bugs associés\n",
    "\n",
    "B = A * [1,2]\n",
    "print(B)"
   ]
  },
  {
   "cell_type": "code",
   "execution_count": null,
   "metadata": {},
   "outputs": [],
   "source": [
    "# pour faire la même chose sur les colonnes\n",
    "# à multiplier par [1, 2, 3, 4]\n",
    "\n",
    "B = A * [[1],[2],[3],[4]] # il faut présenter un vecteur colonne pour que python accepte le dispatch\n",
    "print(B)"
   ]
  },
  {
   "attachments": {},
   "cell_type": "markdown",
   "metadata": {},
   "source": [
    "## <span style=\"color:red\"> EXO produit divers</span>\n",
    "\n",
    "Soit une matrice de dimension $(n,d)$ remplie de 1. Chercher la formule qui permet de passer à une matrice $[1,2,...,d]$ répété respectivement sur les lignes ou les colonnes:\n",
    "\n",
    "$ M = \\begin{pmatrix}\n",
    "1 & 1 & \\ldots &1 \\\\\n",
    "1 & 1 & \\ldots & 1 \\\\\n",
    "\\vdots &  \\vdots & \\ddots & \\vdots \\\\\n",
    "1 & 1 & \\ldots & 1 \\\\\n",
    "\\end{pmatrix} \n",
    "\\Rightarrow \n",
    "\\begin{pmatrix}\n",
    "1 & 2 & \\ldots &d \\\\\n",
    "1 & 2 & \\ldots & d \\\\\n",
    "\\vdots &  \\vdots & \\ddots & \\vdots \\\\\n",
    "1 & 2 & \\ldots & d \\\\\n",
    "\\end{pmatrix} \\text{ ou }\n",
    "\\begin{pmatrix}\n",
    "1 & 1 & \\ldots &1 \\\\\n",
    "2 & 2 & \\ldots & 2 \\\\\n",
    "\\vdots &  \\vdots & \\ddots & \\vdots \\\\\n",
    "n & n & \\ldots & n \\\\\n",
    "\\end{pmatrix}$"
   ]
  },
  {
   "cell_type": "code",
   "execution_count": null,
   "metadata": {},
   "outputs": [
    {
     "name": "stdout",
     "output_type": "stream",
     "text": [
      "[[1. 1. 1. 1. 1.]\n",
      " [2. 2. 2. 2. 2.]\n",
      " [3. 3. 3. 3. 3.]\n",
      " [4. 4. 4. 4. 4.]\n",
      " [5. 5. 5. 5. 5.]]\n"
     ]
    }
   ],
   "source": [
    "mat = np.ones((5,5))\n",
    "\n",
    "def transformation_colonnes(mat):\n",
    "    for i in range(mat.shape[1]):\n",
    "        mat[:,i] *= (i+1)\n",
    "    return mat\n",
    "\n",
    "def transformation_lignes(mat):\n",
    "    for j in range(mat.shape[0]):\n",
    "        mat[j,:] *= (j+1)\n",
    "    return mat\n",
    "\n",
    "print(transformation_lignes(mat))\n",
    "print( transformation_colonnes(mat))\n",
    "\n"
   ]
  },
  {
   "attachments": {},
   "cell_type": "markdown",
   "metadata": {},
   "source": [
    "## <span style=\"color:red\"> EXO Evaluation d'une fonction linéaire</span>\n",
    "\n",
    "Soit une matrice $X$ de dimension $(n,d)$ stockant $n$ échantillon $\\mathbf x_i \\in \\mathbb R^d$ et un vecteur de paramètres $w \\in \\mathbb R^d$, \n",
    "\n",
    "$ X = \\begin{pmatrix}\n",
    "x_{11} & x_{12} & \\ldots & x_{1d} \\\\\n",
    "x_{21} & x_{22} & \\ldots & x_{2d} \\\\\n",
    "\\vdots &  \\vdots & \\ddots & \\vdots \\\\\n",
    "x_{n1} & x_{n2} & \\ldots & x_{nd} \\\\\n",
    "\\end{pmatrix} \n",
    "\\qquad\n",
    "W = \\begin{pmatrix}\n",
    "w_{1} & w_{2} & \\ldots & w_{d} \n",
    "\\end{pmatrix} \n",
    "$\n",
    "\n",
    "Calculer l'ensemble : $\\forall i, f(\\mathbf x_i) = \\sum_{j=1}^d x_{ij} w_j $\n",
    "Cet ensemble sera stocké dans un vecteur."
   ]
  },
  {
   "cell_type": "code",
   "execution_count": 42,
   "metadata": {},
   "outputs": [],
   "source": [
    "n = 100\n",
    "d = 10\n",
    "X = np.random.rand(n,d)\n",
    "W = np.arange(d)"
   ]
  },
  {
   "cell_type": "code",
   "execution_count": 51,
   "metadata": {},
   "outputs": [
    {
     "name": "stdout",
     "output_type": "stream",
     "text": [
      "[[21.72008545]\n",
      " [22.81272126]\n",
      " [28.80131464]\n",
      " [31.04696583]\n",
      " [19.10069781]\n",
      " [25.92303324]\n",
      " [22.34479209]\n",
      " [28.66424983]\n",
      " [20.1915694 ]\n",
      " [27.23318135]\n",
      " [ 9.52011198]\n",
      " [31.92976066]\n",
      " [24.52870459]\n",
      " [26.05265863]\n",
      " [17.46167455]\n",
      " [17.42746616]\n",
      " [24.18162903]\n",
      " [30.74622631]\n",
      " [24.63217799]\n",
      " [22.35430462]\n",
      " [15.45453734]\n",
      " [28.3766998 ]\n",
      " [12.98538713]\n",
      " [35.03656331]\n",
      " [24.26795256]\n",
      " [25.92642475]\n",
      " [19.945072  ]\n",
      " [17.5457106 ]\n",
      " [16.17312417]\n",
      " [27.41020432]\n",
      " [34.96895453]\n",
      " [19.76441265]\n",
      " [21.65517587]\n",
      " [28.61592454]\n",
      " [18.26614603]\n",
      " [22.8871053 ]\n",
      " [27.63705862]\n",
      " [27.759173  ]\n",
      " [16.20023847]\n",
      " [26.94291955]\n",
      " [14.37231376]\n",
      " [26.03396336]\n",
      " [29.88782784]\n",
      " [23.10404207]\n",
      " [22.56351646]\n",
      " [16.56745741]\n",
      " [18.27494913]\n",
      " [28.76753047]\n",
      " [23.27437698]\n",
      " [14.81652592]\n",
      " [15.77386308]\n",
      " [17.49960345]\n",
      " [25.57202398]\n",
      " [20.43717164]\n",
      " [17.74526759]\n",
      " [20.23310408]\n",
      " [21.03084751]\n",
      " [12.94559825]\n",
      " [22.29692347]\n",
      " [18.60461266]\n",
      " [21.07926741]\n",
      " [24.86648214]\n",
      " [22.92504118]\n",
      " [13.23105407]\n",
      " [26.95387319]\n",
      " [25.5135209 ]\n",
      " [19.40616923]\n",
      " [16.99692213]\n",
      " [17.78496003]\n",
      " [27.97647878]\n",
      " [13.91358055]\n",
      " [28.27386047]\n",
      " [18.7876667 ]\n",
      " [19.67420235]\n",
      " [22.6112613 ]\n",
      " [26.87564116]\n",
      " [19.10897335]\n",
      " [17.85912331]\n",
      " [26.04589915]\n",
      " [27.00409846]\n",
      " [22.49835219]\n",
      " [18.09498376]\n",
      " [20.79407158]\n",
      " [27.31822612]\n",
      " [18.1649869 ]\n",
      " [22.07247422]\n",
      " [20.25556528]\n",
      " [23.63080266]\n",
      " [20.51030613]\n",
      " [16.66325054]\n",
      " [29.97608728]\n",
      " [17.20252703]\n",
      " [15.3363539 ]\n",
      " [16.69622827]\n",
      " [23.92888139]\n",
      " [22.63972037]\n",
      " [20.46918831]\n",
      " [23.86761597]\n",
      " [24.34322758]\n",
      " [15.47941746]]\n"
     ]
    }
   ],
   "source": [
    "W = W.reshape((-1,1)) \n",
    "yi = X@W\n",
    "print(yi)"
   ]
  },
  {
   "attachments": {},
   "cell_type": "markdown",
   "metadata": {},
   "source": [
    "# Construction du sujet à partir de la correction"
   ]
  },
  {
   "cell_type": "code",
   "execution_count": null,
   "metadata": {},
   "outputs": [],
   "source": [
    "###  TODO )\",\" TODO \",\\\n",
    "    txt, flags=re.DOTALL))\n",
    "f2.close()\n",
    "\n",
    "### </CORRECTION> ###"
   ]
  },
  {
   "cell_type": "code",
   "execution_count": null,
   "metadata": {},
   "outputs": [],
   "source": []
  }
 ],
 "metadata": {
  "kernelspec": {
   "display_name": "base",
   "language": "python",
   "name": "python3"
  },
  "language_info": {
   "codemirror_mode": {
    "name": "ipython",
    "version": 3
   },
   "file_extension": ".py",
   "mimetype": "text/x-python",
   "name": "python",
   "nbconvert_exporter": "python",
   "pygments_lexer": "ipython3",
   "version": "3.13.5"
  }
 },
 "nbformat": 4,
 "nbformat_minor": 2
}
