{
 "cells": [
  {
   "cell_type": "markdown",
   "metadata": {},
   "source": [
    "# Trucs et astuces plus avancés en numpy\n",
    "\n",
    "Rechercher des valeurs et sélectionner des portions de matrices est un exercice récurrent en sciences des données. Apprenons à le faire de différentes manières.\n",
    "\n",
    "**Exercices** (marqués <span style=\"color:red\"> EXO</span>) Des exercices sont proposés régulièrement dans le notebook pour éviter *l'effet contemplatif* des exemples. Si vous maitrisez déjà les concepts de base et que les solutions vous semblent évidentes, n'héstiez pas à sauter des questions.\n",
    "\n",
    "Tous les exercices sont classés par ordre d'importance:  <span style=\"color:red\"> 1</span>=\"essentiel\", <span style=\"color:red\">2</span>=\"utile, <span style=\"color:red\">3</span>=\"optionnel et/ou avancé\""
   ]
  },
  {
   "cell_type": "code",
   "execution_count": 1,
   "metadata": {},
   "outputs": [],
   "source": [
    "import numpy as np"
   ]
  },
  {
   "cell_type": "code",
   "execution_count": 4,
   "metadata": {},
   "outputs": [
    {
     "name": "stdout",
     "output_type": "stream",
     "text": [
      "(array([ 1,  1,  2,  4,  4,  5,  6,  6,  7,  8,  8,  9,  9, 10, 11, 12, 13,\n",
      "       14, 14, 15, 16, 17, 17, 18, 19, 20, 21, 21, 22, 23, 24, 24, 25, 25,\n",
      "       26, 26, 27, 28, 28, 29, 30, 30, 31, 31, 32, 32, 33, 33, 34, 35, 35,\n",
      "       36, 37, 37, 39, 40, 40, 41, 41, 42, 44, 45, 45, 46, 47, 48, 49, 50,\n",
      "       51, 51, 52, 52, 53, 54, 54, 55, 55, 56, 57, 58, 58, 60, 60, 62, 63,\n",
      "       63, 64, 65, 65, 66, 67, 68, 68, 69, 70, 71, 72, 73, 74, 74, 75, 76,\n",
      "       76, 77, 77, 79, 79, 80, 80, 81, 81, 82, 85, 86, 87, 87, 88, 89, 90,\n",
      "       91, 92, 92, 93, 94, 95, 96, 96, 97, 97, 98, 99]), array([0, 1, 1, 0, 1, 1, 0, 1, 1, 0, 1, 0, 1, 0, 0, 1, 0, 0, 1, 0, 1, 0,\n",
      "       1, 0, 0, 0, 0, 1, 1, 0, 0, 1, 0, 1, 0, 1, 1, 0, 1, 1, 0, 1, 0, 1,\n",
      "       0, 1, 0, 1, 0, 0, 1, 0, 0, 1, 1, 0, 1, 0, 1, 1, 0, 0, 1, 0, 0, 1,\n",
      "       0, 0, 0, 1, 0, 1, 0, 0, 1, 0, 1, 0, 1, 0, 1, 0, 1, 0, 0, 1, 0, 0,\n",
      "       1, 0, 0, 0, 1, 0, 0, 1, 0, 0, 0, 1, 0, 0, 1, 0, 1, 0, 1, 0, 1, 0,\n",
      "       1, 0, 1, 1, 0, 1, 1, 1, 0, 1, 0, 1, 1, 0, 1, 0, 1, 0, 1, 1, 0]))\n",
      "(array([ 1,  4,  6,  8,  9, 10, 11, 13, 14, 15, 17, 18, 19, 20, 21, 23, 24,\n",
      "       25, 26, 28, 30, 31, 32, 33, 34, 35, 36, 37, 40, 41, 44, 45, 46, 47,\n",
      "       49, 50, 51, 52, 53, 54, 55, 56, 58, 60, 62, 63, 64, 65, 66, 67, 68,\n",
      "       69, 70, 72, 73, 74, 75, 76, 77, 79, 80, 81, 82, 87, 90, 92, 94, 96,\n",
      "       97, 99]),)\n"
     ]
    }
   ],
   "source": [
    "a = np.random.randn(100,2)\n",
    "#print(a)\n",
    "# element de la matrice complète < 0.5\n",
    "index = np.where(a<0.5) # retourne les indices dans (I,J)\n",
    "                        # I: indice des lignes\n",
    "                        # J: indice des colonnes\n",
    "print(index)\n",
    "#print(index)\n",
    "# recherche dans une colonne\n",
    "index2 = np.where(a[:,0]<0.5)\n",
    "print(index2)\n",
    "# ajouter des print pour comprendre les entrées/sorties!"
   ]
  },
  {
   "cell_type": "markdown",
   "metadata": {},
   "source": [
    "**Attention au type de retour**\n",
    "\n",
    "Le type de `index` est sans surprise... Mais celui de `index2` est plus déroutant: il s'agit d'un tuple mais avec un seul champ rempli...\n",
    "Pour utiliser les indices extraits facilement, il faut donc faire:"
   ]
  },
  {
   "cell_type": "code",
   "execution_count": null,
   "metadata": {
    "collapsed": true
   },
   "outputs": [],
   "source": [
    "index2, = np.where(a[:,0]<0.5) # on ne s'intéresse qu'au premier membre retourné!\n",
    "# a[index2,:] = ..."
   ]
  },
  {
   "cell_type": "markdown",
   "metadata": {},
   "source": [
    "## Fonction de recherche en syntaxe légère\n"
   ]
  },
  {
   "cell_type": "code",
   "execution_count": 13,
   "metadata": {},
   "outputs": [
    {
     "name": "stdout",
     "output_type": "stream",
     "text": [
      "[ True  True  True False False False]\n",
      "[[0.18586697 0.04174452]\n",
      " [0.54044375 0.70215347]\n",
      " [0.03787185 0.14520235]\n",
      " [0.81347859 0.32185481]\n",
      " [0.71150758 0.44116481]\n",
      " [0.42932653 0.05392166]]\n",
      "[-1 -1 -1  1  1  1]\n",
      "[[0.18586697 0.04174452]\n",
      " [0.54044375 0.70215347]\n",
      " [0.03787185 0.14520235]]\n",
      "[[0.54044375 0.70215347]\n",
      " [0.81347859 0.32185481]\n",
      " [0.71150758 0.44116481]]\n"
     ]
    }
   ],
   "source": [
    "y = np.array([-1, -1, -1, 1, 1, 1])\n",
    "x = np.random.rand(6,2)\n",
    "\n",
    "print(y==-1)\n",
    "\n",
    "# sélection des 3 premières lignes de x\n",
    "print(x)\n",
    "print(y)\n",
    "print(x[y==-1])\n",
    "\n",
    "# contraintes logiques: \n",
    "#    - x et y doivent avoir la même taille\n",
    "#    - y doit être un vecteur\n",
    "\n",
    "# sélection des lignes de x qui commencent par un nombre > 0.5\n",
    "print(x[x[:,0]>0.5])\n"
   ]
  },
  {
   "cell_type": "code",
   "execution_count": null,
   "metadata": {},
   "outputs": [],
   "source": [
    "# TODO : vérifier les dimension de la sélection, vérifier quelles lignes ont été sélectionnée avec des print\n",
    "\n"
   ]
  },
  {
   "cell_type": "markdown",
   "metadata": {},
   "source": [
    "## Transformation de matrice\n",
    "\n",
    "`np.where` permet de renvoyer une matrice transformée en ajoutant des arguments dans la méthode\n",
    "\n",
    "> `np.where(m > alpha, retour_si_vrai, retour_si_faux)`\n",
    "\n",
    "On peut se servir de cette syntaxe pour faire des comptages"
   ]
  },
  {
   "cell_type": "code",
   "execution_count": 14,
   "metadata": {
    "collapsed": true
   },
   "outputs": [
    {
     "name": "stdout",
     "output_type": "stream",
     "text": [
      "[[0.         1.68235185]\n",
      " [0.         0.        ]\n",
      " [0.         0.        ]\n",
      " [0.         0.        ]\n",
      " [0.03256598 0.16415457]\n",
      " [0.10882648 1.03425399]\n",
      " [0.         0.45205449]\n",
      " [0.         0.        ]\n",
      " [0.         0.82766334]\n",
      " [0.         0.        ]\n",
      " [0.17361503 0.        ]\n",
      " [0.         0.        ]\n",
      " [0.         0.44292171]\n",
      " [0.06211109 0.350963  ]\n",
      " [2.12109646 0.        ]\n",
      " [0.77986352 0.        ]\n",
      " [0.82520221 0.52772909]\n",
      " [1.18120728 0.        ]\n",
      " [0.34518234 0.        ]\n",
      " [0.         0.        ]\n",
      " [0.         0.05140704]\n",
      " [1.09179386 1.56059691]\n",
      " [0.71540791 0.93697549]\n",
      " [0.21104202 0.        ]\n",
      " [0.         0.        ]\n",
      " [0.         0.        ]\n",
      " [0.20167338 0.        ]\n",
      " [0.         0.        ]\n",
      " [0.91203784 0.        ]\n",
      " [0.1355648  0.        ]\n",
      " [0.9446646  0.15714864]\n",
      " [1.52275011 1.24001021]\n",
      " [0.73165763 0.2918921 ]\n",
      " [0.34954125 0.        ]\n",
      " [2.08278157 0.        ]\n",
      " [1.37585472 0.        ]\n",
      " [0.32807297 1.93172446]\n",
      " [0.         1.02390233]\n",
      " [0.         0.70007099]\n",
      " [0.         1.07080541]\n",
      " [1.2361131  1.03843467]\n",
      " [0.         0.28739897]\n",
      " [0.         1.45033225]\n",
      " [0.         1.35640684]\n",
      " [0.         0.        ]\n",
      " [1.02246111 1.26834534]\n",
      " [0.         0.22674021]\n",
      " [0.         0.812538  ]\n",
      " [0.32117196 0.        ]\n",
      " [0.         0.        ]\n",
      " [0.         0.66024657]\n",
      " [0.         0.        ]\n",
      " [0.         0.        ]\n",
      " [0.72722594 0.16862013]\n",
      " [0.         0.76904325]\n",
      " [0.         0.        ]\n",
      " [2.84709065 0.        ]\n",
      " [0.         0.        ]\n",
      " [0.         0.        ]\n",
      " [1.65314831 0.00727891]\n",
      " [0.51705764 0.        ]\n",
      " [1.1545989  0.00629047]\n",
      " [0.         0.55700456]\n",
      " [0.         1.16547291]\n",
      " [0.62982878 1.02635069]\n",
      " [1.76948676 0.        ]\n",
      " [0.         0.78980901]\n",
      " [1.66323957 1.06116055]\n",
      " [1.41911766 1.34749291]\n",
      " [0.         0.75944727]\n",
      " [0.         0.80577504]\n",
      " [0.07713619 1.58885606]\n",
      " [1.63845055 0.75572499]\n",
      " [0.05138665 0.03769807]\n",
      " [0.         0.        ]\n",
      " [0.         0.        ]\n",
      " [2.09763218 0.58021227]\n",
      " [0.01548488 0.84287653]\n",
      " [0.         0.1848999 ]\n",
      " [0.         3.03439395]\n",
      " [0.         0.        ]\n",
      " [0.         0.        ]\n",
      " [0.21074652 0.        ]\n",
      " [0.         0.        ]\n",
      " [1.27511177 0.        ]\n",
      " [0.         0.        ]\n",
      " [0.         2.15380172]\n",
      " [0.         0.58937015]\n",
      " [0.87479373 2.40122856]\n",
      " [0.39034926 0.        ]\n",
      " [0.         0.        ]\n",
      " [0.         0.59154626]\n",
      " [0.         3.01789944]\n",
      " [0.         1.33791854]\n",
      " [0.03200807 0.        ]\n",
      " [0.         0.        ]\n",
      " [0.57600289 0.47476599]\n",
      " [0.         0.2545799 ]\n",
      " [0.         0.        ]\n",
      " [0.         0.        ]]\n"
     ]
    }
   ],
   "source": [
    "a = np.random.randn(100,2)\n",
    "# Mettre à zeros tous les éléments négatifs:\n",
    "b = np.where(a<0., 0., a)    # (clause, TODO if true, TODO if false)\n",
    "print(b)\n",
    "c = np.where(a<0., -1., 1.)  # Extraire le signe des éléments de a\n",
    "\n",
    "nb_elem_pos = np.where(a>0., 1, 0).sum() # construction d'une matrice binaire + somme = comptage"
   ]
  },
  {
   "cell_type": "markdown",
   "metadata": {},
   "source": [
    "## ATTENTION aux doubles clauses\n",
    "\n",
    "il y a un piège dans la priorité donnée aux opérations: il faut ajouter des parenthèses"
   ]
  },
  {
   "cell_type": "code",
   "execution_count": 15,
   "metadata": {},
   "outputs": [
    {
     "data": {
      "text/plain": [
       "array([0., 0., 0., 0., 0., 1., 0., 0., 0., 0., 0., 0., 0., 0., 0., 0., 0.,\n",
       "       0., 0., 0., 0., 1., 0., 0., 0., 0., 0., 0., 0., 0., 0., 0., 0., 0.,\n",
       "       0., 0., 0., 0., 0., 0., 0., 0., 0., 0., 0., 0., 0., 0., 0., 0., 0.,\n",
       "       1., 0., 0., 0., 0., 0., 0., 0., 0., 0., 0., 0., 0., 0., 0., 0., 0.,\n",
       "       0., 0., 0., 0., 0., 0., 0., 0., 0., 0., 0., 0., 0., 0., 0., 0., 0.,\n",
       "       0., 0., 0., 0., 0., 0., 0., 0., 0., 0., 0., 0., 0., 0., 0.])"
      ]
     },
     "execution_count": 15,
     "metadata": {},
     "output_type": "execute_result"
    }
   ],
   "source": [
    "# pour l'estimation d'une loi jointe entre a et b\n",
    "N = 100\n",
    "a = np.ceil(np.random.rand(N) * 10)   # entre 1 et 10\n",
    "b = np.round(np.random.rand(N))       # 0 ou 1\n",
    "np.where((a == 4) & (b==0), 1., 0.)   # OK\n",
    "# np.where( a == 4  &  b==0 , 1., 0.) # KO !!! => le & est prioritaire sur le == !!!"
   ]
  },
  {
   "cell_type": "markdown",
   "metadata": {},
   "source": [
    "# <span style=\"color:red\"> EXO(3) Exercice basique </span>\n",
    "\n",
    "Générer 1000 tirages selon une loi normale centrée réduite\n",
    " - Vérifier par comptage que la moitié (environ) des tirages est supérieure à 0\n",
    " - Vérifier que (environ) 2/3 des tirages sont compris entre entre moins l'écart-type et plus l'écart type"
   ]
  },
  {
   "cell_type": "code",
   "execution_count": 26,
   "metadata": {
    "collapsed": true
   },
   "outputs": [
    {
     "name": "stdout",
     "output_type": "stream",
     "text": [
      "0.55\n",
      "0.75\n"
     ]
    }
   ],
   "source": [
    "X = np.random.randn(100)\n",
    "tx_sup_mean = np.where(X>0,1,0).sum()/len(X)\n",
    "print(tx_sup_mean)\n",
    "\n",
    "tx_int_ET = np.where( (X>-1) & (X<1),1,0).sum()/len(X)\n",
    "print(tx_int_ET)\n"
   ]
  },
  {
   "cell_type": "markdown",
   "metadata": {},
   "source": [
    "# <span style=\"color:red\"> EXO(1) Comptage des erreurs </span>\n",
    "\n",
    "Soit $\\mathbf y\\in \\{0,1\\}^n$ les étiquettes associées à $n$ données et $\\mathbf yhat\\in \\{0,1\\}^n$ les sorties de votre modèle, calculer le taux de bonne classification de votre approche.\n",
    "\n",
    "$$Y = \\begin{pmatrix} y_0\\\\ \\vdots \\\\ y_n \\end{pmatrix} \\qquad  \\hat Y = \\begin{pmatrix} \\hat y_0\\\\ \\vdots \\\\\\hat y_n \\end{pmatrix} \\Rightarrow \\text{Combien de valeurs en commun dans les deux vecteurs?}\n",
    "                 $$\n",
    "\n",
    "\n",
    "Note: avant de chercher la réponse à la question, essayer de bien comprendre comment ont été générées les données, les appels de fonction ne sont pas triviaux."
   ]
  },
  {
   "cell_type": "code",
   "execution_count": 30,
   "metadata": {},
   "outputs": [
    {
     "name": "stdout",
     "output_type": "stream",
     "text": [
      "0.9\n"
     ]
    }
   ],
   "source": [
    "# generation arbitraire des données et des sorties\n",
    "n = 100\n",
    "y = np.ones(n)\n",
    "y[:n//2] = 0\n",
    "\n",
    "yhat = y.copy()\n",
    "yhat = np.where(np.random.random(n)<0.1, 1-yhat, yhat) # corruption de y par une bernoulli de paramètre 0.1\n",
    "\n",
    "# calculer le taux de bonne classification\n",
    "tx = np.where(y==yhat, 1,0).sum()/n\n",
    "print(tx)"
   ]
  },
  {
   "cell_type": "markdown",
   "metadata": {},
   "source": [
    "# <span style=\"color:red\"> EXO(2) Comptage des erreurs bis [sorties d'un modèle probabiliste]</span>\n",
    "\n",
    "Soit $\\mathbf y\\in \\{0,1,2\\}^n$ les étiquettes de 3 classes associées à $n$ données et $\\mathbf p\\in [0,1]^{n\\times 3}$ les sorties de votre modèle probabiliste donnant la probabilité d'appartenance à chaque classe pour chaque individu, calculer le taux de bonne classification de votre approche.\n",
    "\n",
    "$$Y = \\begin{pmatrix} y_0\\\\ \\vdots \\\\ y_n \\end{pmatrix} \\qquad  P = \\begin{pmatrix}  P(y=0 | X=x_0) & P(y=1 | X=x_0) & P(y=2 | X=x_0)\\\\ \\vdots \\\\ P(y=0 | X=x_n) & P(y=1 | X=x_n) & P(y=2 | X=x_n) \\end{pmatrix}\n",
    "                 $$\n",
    "\n",
    "\n",
    "Note: avant de chercher la réponse à la question, essayer de bien comprendre comment ont été générées les données, les appels de fonction ne sont pas triviaux."
   ]
  },
  {
   "cell_type": "code",
   "execution_count": 38,
   "metadata": {},
   "outputs": [
    {
     "name": "stdout",
     "output_type": "stream",
     "text": [
      "[1 0 1 2 1 1 1 1 0 2]\n",
      "[[0.11929942 0.59159357 0.28910701]\n",
      " [0.3867479  0.22631135 0.38694075]\n",
      " [0.11373191 0.50691257 0.37935551]\n",
      " [0.10490216 0.53030607 0.36479177]\n",
      " [0.27184347 0.59900211 0.12915442]\n",
      " [0.47440431 0.45402713 0.07156856]\n",
      " [0.31021285 0.52105124 0.1687359 ]\n",
      " [0.15019977 0.46214514 0.38765509]\n",
      " [0.42227672 0.35756455 0.22015873]\n",
      " [0.30884585 0.13038166 0.56077249]]\n",
      "0.76\n"
     ]
    }
   ],
   "source": [
    "n = 100\n",
    "y = np.random.randint(0,3,(n))\n",
    "\n",
    "p = np.random.rand(n,3)\n",
    "for i in range(len(p)): p[i,y[i]] += 0.5\n",
    "p /= p.sum(1).reshape(-1,1)\n",
    "\n",
    "print(y[:10]) # affichage des 10 premiers y\n",
    "print(p[:10])\n",
    "\n",
    "yhat = np.argmax(p,axis = 1) # prédiction par maximum de vraisemblance\n",
    "\n",
    "tx = np.where(yhat == y,1,0).sum()/n\n",
    "print(tx)"
   ]
  },
  {
   "cell_type": "markdown",
   "metadata": {},
   "source": [
    "# <span style=\"color:red\"> EXO(1) Statistiques par classes </span>\n",
    "\n",
    "Soit des données classiques en machine learning associant $n$ observations en 2 dimensions $X$ et une supervision $Y$ indiquant la classe de chaque point:\n",
    "\n",
    "$$X = \\begin{pmatrix}\n",
    "                x_{0,0}& x_{0,1} \\\\\n",
    "                \\vdots & \\vdots\\\\\n",
    "                x_{n,0} & x_{n,1} \n",
    "                \\end{pmatrix}, \\qquad  Y = \\begin{pmatrix} y_0\\\\ \\vdots \\\\ y_n \\end{pmatrix}\n",
    "                 $$\n",
    "\n",
    "Ces données sont représentées sur la figure ci-dessous (chaque ligne de la matrice $X$ correspond à un point de la figure):\n",
    "\n",
    "<img src=\"ressources/gauss.png\">\n",
    "\n",
    "La boite suivante permet de charger les données, vous répondrez ensuite aux questions suivantes:\n",
    "\n",
    "1. Compter les données\n",
    "1. Quels sont les codes utilisés pour les deux classes?\n",
    "1. Quelles sont les moyennes de chacune des deux classes (sans boucle `for`)?\n",
    "1. Quelles sont les valeurs mini et maxi sur chaque dimension de chacune des deux classes (toujours sans boucle `for`)?"
   ]
  },
  {
   "cell_type": "code",
   "execution_count": 49,
   "metadata": {},
   "outputs": [
    {
     "name": "stdout",
     "output_type": "stream",
     "text": [
      "[2.00895007 2.0577349 ]\n",
      "[-1.89499934 -1.15288505]\n",
      "-0.29702230894386483 5.60059630380568\n",
      "-0.28858126375727355 4.457278165969094\n"
     ]
    }
   ],
   "source": [
    "import pickle as pkl\n",
    "# récupération des données:\n",
    "data = pkl.load(open(\"ressources/gauss.pkl\", \"rb\"))\n",
    "\n",
    "X,Y= data['X'],data['Y']\n",
    "#print(X)\n",
    "#print(Y)\n",
    "\n",
    "nb_instance = len(X)\n",
    "\n",
    "mean_1 = X[Y==1].mean(0)\n",
    "mean_0 = X[Y==0].mean(0)\n",
    "print(mean_1)\n",
    "print(mean_0)\n",
    "\n",
    "X1_mini_1 = X[Y==1][:,0].min()\n",
    "X1_maxi_1 = X[Y==1][:,0].max()\n",
    "X2_mini_0 = X[Y==1][:,1].min()\n",
    "X2_maxi_0 = X[Y==1][:,1].max()\n",
    "\n",
    "print(X1_mini_1,X1_maxi_1)\n",
    "print(X2_mini_0,X2_maxi_0)  "
   ]
  },
  {
   "cell_type": "markdown",
   "metadata": {},
   "source": [
    "# Annexe (inutile pour le TP)\n",
    "\n",
    "Pour information"
   ]
  },
  {
   "cell_type": "code",
   "execution_count": null,
   "metadata": {},
   "outputs": [],
   "source": [
    "\n",
    "import sklearn.datasets as data\n",
    "import matplotlib.pyplot as plt\n",
    "import pickle as pkl\n",
    "\n",
    "X,Y = data.make_blobs(100, centers=[[-2, -1], [2, 2]])\n",
    "\n",
    "pkl.dump({'X':X,'Y':Y}, open(\"ressources/gauss.pkl\",\"wb\"))\n",
    "\n",
    "plt.figure()\n",
    "plt.scatter(X[:,0], X[:,1], c=Y)\n",
    "plt.savefig('ressources/gauss.png', facecolor='white')"
   ]
  },
  {
   "cell_type": "markdown",
   "metadata": {},
   "source": [
    "# Fabrication du sujet à partir de la correction"
   ]
  },
  {
   "cell_type": "code",
   "execution_count": 2,
   "metadata": {},
   "outputs": [],
   "source": [
    "import re\n",
    "# transformation de cet énoncé en version étudiante\n",
    "\n",
    "fname = \"4_Numpy_advanced-corr.ipynb\" # ce fichier\n",
    "fout  = fname.replace(\"-corr\",\"\")\n",
    "\n",
    "# print(\"Fichier de sortie: \", fout )\n",
    "\n",
    "f = open(fname, \"r\")\n",
    "txt = f.read()\n",
    " \n",
    "f.close()\n",
    "\n",
    "\n",
    "f2 = open(fout, \"w\")\n",
    "f2.write(re.sub(\" TODO )\",\" TODO \",\\\n",
    "    txt, flags=re.DOTALL))\n",
    "f2.close()\n",
    "\n"
   ]
  },
  {
   "cell_type": "markdown",
   "metadata": {},
   "source": []
  }
 ],
 "metadata": {
  "kernelspec": {
   "display_name": "base",
   "language": "python",
   "name": "python3"
  },
  "language_info": {
   "codemirror_mode": {
    "name": "ipython",
    "version": 3
   },
   "file_extension": ".py",
   "mimetype": "text/x-python",
   "name": "python",
   "nbconvert_exporter": "python",
   "pygments_lexer": "ipython3",
   "version": "3.13.5"
  }
 },
 "nbformat": 4,
 "nbformat_minor": 2
}
